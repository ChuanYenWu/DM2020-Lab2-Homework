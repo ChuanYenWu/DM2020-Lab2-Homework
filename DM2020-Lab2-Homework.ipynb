{
 "cells": [
  {
   "cell_type": "markdown",
   "metadata": {},
   "source": [
    "### Student Information\n",
    "Name: 吳權晏\n",
    "\n",
    "Student ID: 108061538\n",
    "\n",
    "GitHub ID: ChuanYenWu\n",
    "\n",
    "Kaggle name: ChuanYenWu\n",
    "\n",
    "Kaggle private scoreboard snapshot:\n",
    "\n",
    "[Snapshot](img/pic0.png)"
   ]
  },
  {
   "cell_type": "markdown",
   "metadata": {},
   "source": [
    "---"
   ]
  },
  {
   "cell_type": "markdown",
   "metadata": {},
   "source": [
    "### Instructions"
   ]
  },
  {
   "cell_type": "markdown",
   "metadata": {},
   "source": [
    "1. First: __This part is worth 30% of your grade.__ Do the **take home** exercises in the [DM2020-Lab2-Master Repo](https://github.com/fhcalderon87/DM2020-Lab2-Master). You may need to copy some cells from the Lab notebook to this notebook. \n",
    "\n",
    "\n",
    "2. Second: __This part is worth 30% of your grade.__ Participate in the in-class [Kaggle Competition](https://www.kaggle.com/c/dm2020-hw2-nthu/) regarding Emotion Recognition on Twitter. The scoring will be given according to your place in the Private Leaderboard ranking: \n",
    "    - **Bottom 40%**: Get 20% of the score (ie. 20% of 30% )\n",
    "\n",
    "    - **Top 41% - 100%**: Get (101-x)% of the score, where x is your ranking in the leaderboard (ie. (101-x)% of 30% )   \n",
    "    Submit your last submission __BEFORE the deadline (Dec. 5th 11:59 pm, Saturday)__. Make sure to take a screenshot of your position at the end of the competition and store it as '''pic0.png''' under the **img** folder of this repository and rerun the cell **Student Information**.\n",
    "    \n",
    "\n",
    "3. Third: __This part is worth 30% of your grade.__ A report of your work developping the model for the competition (You can use code and comment it). This report should include what your preprocessing steps, the feature engineering steps and an explanation of your model. You can also mention different things you tried and insights you gained. \n",
    "\n",
    "\n",
    "4. Fourth: __This part is worth 10% of your grade.__ It's hard for us to follow if your code is messy :'(, so please **tidy up your notebook** and **add minimal comments where needed**.\n",
    "\n",
    "\n",
    "You can submit your homework following these guidelines: [Git Intro & How to hand your homework](https://github.com/fhcalderon87/DM2020-Lab1-Master/blob/master/Git%20Intro%20%26%20How%20to%20hand%20your%20homework.ipynb), but make sure to fork the [DM2020-Lab2-Homework](https://github.com/fhcalderon87/DM2020-Lab2-Homework) repository this time! Also please __DON´T UPLOAD HUGE DOCUMENTS__, please use Git ignore for that.\n",
    "\n",
    "Make sure to commit and save your changes to your repository __BEFORE the deadline (Dec. 8th 11:59 pm, Tuesday)__. "
   ]
  },
  {
   "cell_type": "code",
   "execution_count": 1,
   "metadata": {},
   "outputs": [],
   "source": [
    "### Begin Assignment Here"
   ]
  },
  {
   "cell_type": "markdown",
   "metadata": {},
   "source": [
    "## Part 1. Take home exercises"
   ]
  },
  {
   "cell_type": "code",
   "execution_count": 2,
   "metadata": {},
   "outputs": [],
   "source": [
    "import pandas as pd\n",
    "\n",
    "### training data\n",
    "anger_train = pd.read_csv(\"data/semeval/train/anger-ratings-0to1.train.txt\",\n",
    "                         sep=\"\\t\", header=None,names=[\"id\", \"text\", \"emotion\", \"intensity\"])\n",
    "sadness_train = pd.read_csv(\"data/semeval/train/sadness-ratings-0to1.train.txt\",\n",
    "                         sep=\"\\t\", header=None, names=[\"id\", \"text\", \"emotion\", \"intensity\"])\n",
    "fear_train = pd.read_csv(\"data/semeval/train/fear-ratings-0to1.train.txt\",\n",
    "                         sep=\"\\t\", header=None, names=[\"id\", \"text\", \"emotion\", \"intensity\"])\n",
    "joy_train = pd.read_csv(\"data/semeval/train/joy-ratings-0to1.train.txt\",\n",
    "                         sep=\"\\t\", header=None, names=[\"id\", \"text\", \"emotion\", \"intensity\"])\n",
    "\n",
    "# combine 4 sub-dataset\n",
    "train_df = pd.concat([anger_train, fear_train, joy_train, sadness_train], ignore_index=True)"
   ]
  },
  {
   "cell_type": "code",
   "execution_count": 3,
   "metadata": {},
   "outputs": [],
   "source": [
    "### testing data\n",
    "anger_test = pd.read_csv(\"data/semeval/dev/anger-ratings-0to1.dev.gold.txt\",\n",
    "                         sep=\"\\t\", header=None, names=[\"id\", \"text\", \"emotion\", \"intensity\"])\n",
    "sadness_test = pd.read_csv(\"data/semeval/dev/sadness-ratings-0to1.dev.gold.txt\",\n",
    "                         sep=\"\\t\", header=None, names=[\"id\", \"text\", \"emotion\", \"intensity\"])\n",
    "fear_test = pd.read_csv(\"data/semeval/dev/fear-ratings-0to1.dev.gold.txt\",\n",
    "                         sep=\"\\t\", header=None, names=[\"id\", \"text\", \"emotion\", \"intensity\"])\n",
    "joy_test = pd.read_csv(\"data/semeval/dev/joy-ratings-0to1.dev.gold.txt\",\n",
    "                         sep=\"\\t\", header=None, names=[\"id\", \"text\", \"emotion\", \"intensity\"])\n",
    "\n",
    "# combine 4 sub-dataset\n",
    "test_df = pd.concat([anger_test, fear_test, joy_test, sadness_test], ignore_index=True)"
   ]
  },
  {
   "cell_type": "code",
   "execution_count": 4,
   "metadata": {},
   "outputs": [
    {
     "name": "stdout",
     "output_type": "stream",
     "text": [
      "Shape of Training df:  (3613, 4)\n",
      "Shape of Testing df:  (347, 4)\n"
     ]
    }
   ],
   "source": [
    "# shuffle dataset\n",
    "train_df = train_df.sample(frac=1)\n",
    "test_df = test_df.sample(frac=1)\n",
    "#print data shape\n",
    "print(\"Shape of Training df: \", train_df.shape)\n",
    "print(\"Shape of Testing df: \", test_df.shape)"
   ]
  },
  {
   "cell_type": "markdown",
   "metadata": {},
   "source": [
    "---\n",
    "### ** >>> Exercise 1 (Take home): **  \n",
    "Plot word frequency for Top 30 words in both train and test dataset. (Hint: refer to DM lab 1)\n"
   ]
  },
  {
   "cell_type": "code",
   "execution_count": 5,
   "metadata": {},
   "outputs": [
    {
     "name": "stderr",
     "output_type": "stream",
     "text": [
      "c:\\users\\me\\anaconda3\\envs\\tensorflow\\lib\\site-packages\\sklearn\\feature_extraction\\text.py:507: UserWarning: The parameter 'token_pattern' will not be used since 'tokenizer' is not None'\n",
      "  warnings.warn(\"The parameter 'token_pattern' will not be used\"\n"
     ]
    }
   ],
   "source": [
    "from sklearn.feature_extraction.text import CountVectorizer\n",
    "import nltk\n",
    "import numpy as np\n",
    "\n",
    "all_feat=CountVectorizer( tokenizer=nltk.word_tokenize) \n",
    "all_feat.fit(train_df['text'])\n",
    "allfeature_count=all_feat.transform(train_df['text'])\n",
    "\n",
    "word_freq=np.asarray(allfeature_count.sum(axis=0))[0]"
   ]
  },
  {
   "cell_type": "code",
   "execution_count": 11,
   "metadata": {},
   "outputs": [
    {
     "data": {
      "application/vnd.plotly.v1+json": {
       "config": {
        "plotlyServerURL": "https://plot.ly"
       },
       "data": [
        {
         "type": "bar",
         "x": [
          "#",
          "@",
          ".",
          "the",
          "i",
          ",",
          "to",
          "a",
          "and",
          "!",
          "is",
          "of",
          "you",
          "it",
          "in",
          "'s",
          "my",
          "that",
          "n't",
          "for",
          "?",
          "on",
          "be",
          "me",
          "do",
          "this",
          "so",
          "have",
          "not",
          "just"
         ],
         "y": [
          3932,
          2241,
          2152,
          1729,
          1633,
          1291,
          1286,
          1200,
          952,
          908,
          802,
          791,
          785,
          708,
          622,
          539,
          533,
          532,
          484,
          444,
          437,
          390,
          379,
          377,
          346,
          341,
          325,
          321,
          306,
          301
         ]
        }
       ],
       "layout": {
        "template": {
         "data": {
          "bar": [
           {
            "error_x": {
             "color": "#2a3f5f"
            },
            "error_y": {
             "color": "#2a3f5f"
            },
            "marker": {
             "line": {
              "color": "#E5ECF6",
              "width": 0.5
             }
            },
            "type": "bar"
           }
          ],
          "barpolar": [
           {
            "marker": {
             "line": {
              "color": "#E5ECF6",
              "width": 0.5
             }
            },
            "type": "barpolar"
           }
          ],
          "carpet": [
           {
            "aaxis": {
             "endlinecolor": "#2a3f5f",
             "gridcolor": "white",
             "linecolor": "white",
             "minorgridcolor": "white",
             "startlinecolor": "#2a3f5f"
            },
            "baxis": {
             "endlinecolor": "#2a3f5f",
             "gridcolor": "white",
             "linecolor": "white",
             "minorgridcolor": "white",
             "startlinecolor": "#2a3f5f"
            },
            "type": "carpet"
           }
          ],
          "choropleth": [
           {
            "colorbar": {
             "outlinewidth": 0,
             "ticks": ""
            },
            "type": "choropleth"
           }
          ],
          "contour": [
           {
            "colorbar": {
             "outlinewidth": 0,
             "ticks": ""
            },
            "colorscale": [
             [
              0,
              "#0d0887"
             ],
             [
              0.1111111111111111,
              "#46039f"
             ],
             [
              0.2222222222222222,
              "#7201a8"
             ],
             [
              0.3333333333333333,
              "#9c179e"
             ],
             [
              0.4444444444444444,
              "#bd3786"
             ],
             [
              0.5555555555555556,
              "#d8576b"
             ],
             [
              0.6666666666666666,
              "#ed7953"
             ],
             [
              0.7777777777777778,
              "#fb9f3a"
             ],
             [
              0.8888888888888888,
              "#fdca26"
             ],
             [
              1,
              "#f0f921"
             ]
            ],
            "type": "contour"
           }
          ],
          "contourcarpet": [
           {
            "colorbar": {
             "outlinewidth": 0,
             "ticks": ""
            },
            "type": "contourcarpet"
           }
          ],
          "heatmap": [
           {
            "colorbar": {
             "outlinewidth": 0,
             "ticks": ""
            },
            "colorscale": [
             [
              0,
              "#0d0887"
             ],
             [
              0.1111111111111111,
              "#46039f"
             ],
             [
              0.2222222222222222,
              "#7201a8"
             ],
             [
              0.3333333333333333,
              "#9c179e"
             ],
             [
              0.4444444444444444,
              "#bd3786"
             ],
             [
              0.5555555555555556,
              "#d8576b"
             ],
             [
              0.6666666666666666,
              "#ed7953"
             ],
             [
              0.7777777777777778,
              "#fb9f3a"
             ],
             [
              0.8888888888888888,
              "#fdca26"
             ],
             [
              1,
              "#f0f921"
             ]
            ],
            "type": "heatmap"
           }
          ],
          "heatmapgl": [
           {
            "colorbar": {
             "outlinewidth": 0,
             "ticks": ""
            },
            "colorscale": [
             [
              0,
              "#0d0887"
             ],
             [
              0.1111111111111111,
              "#46039f"
             ],
             [
              0.2222222222222222,
              "#7201a8"
             ],
             [
              0.3333333333333333,
              "#9c179e"
             ],
             [
              0.4444444444444444,
              "#bd3786"
             ],
             [
              0.5555555555555556,
              "#d8576b"
             ],
             [
              0.6666666666666666,
              "#ed7953"
             ],
             [
              0.7777777777777778,
              "#fb9f3a"
             ],
             [
              0.8888888888888888,
              "#fdca26"
             ],
             [
              1,
              "#f0f921"
             ]
            ],
            "type": "heatmapgl"
           }
          ],
          "histogram": [
           {
            "marker": {
             "colorbar": {
              "outlinewidth": 0,
              "ticks": ""
             }
            },
            "type": "histogram"
           }
          ],
          "histogram2d": [
           {
            "colorbar": {
             "outlinewidth": 0,
             "ticks": ""
            },
            "colorscale": [
             [
              0,
              "#0d0887"
             ],
             [
              0.1111111111111111,
              "#46039f"
             ],
             [
              0.2222222222222222,
              "#7201a8"
             ],
             [
              0.3333333333333333,
              "#9c179e"
             ],
             [
              0.4444444444444444,
              "#bd3786"
             ],
             [
              0.5555555555555556,
              "#d8576b"
             ],
             [
              0.6666666666666666,
              "#ed7953"
             ],
             [
              0.7777777777777778,
              "#fb9f3a"
             ],
             [
              0.8888888888888888,
              "#fdca26"
             ],
             [
              1,
              "#f0f921"
             ]
            ],
            "type": "histogram2d"
           }
          ],
          "histogram2dcontour": [
           {
            "colorbar": {
             "outlinewidth": 0,
             "ticks": ""
            },
            "colorscale": [
             [
              0,
              "#0d0887"
             ],
             [
              0.1111111111111111,
              "#46039f"
             ],
             [
              0.2222222222222222,
              "#7201a8"
             ],
             [
              0.3333333333333333,
              "#9c179e"
             ],
             [
              0.4444444444444444,
              "#bd3786"
             ],
             [
              0.5555555555555556,
              "#d8576b"
             ],
             [
              0.6666666666666666,
              "#ed7953"
             ],
             [
              0.7777777777777778,
              "#fb9f3a"
             ],
             [
              0.8888888888888888,
              "#fdca26"
             ],
             [
              1,
              "#f0f921"
             ]
            ],
            "type": "histogram2dcontour"
           }
          ],
          "mesh3d": [
           {
            "colorbar": {
             "outlinewidth": 0,
             "ticks": ""
            },
            "type": "mesh3d"
           }
          ],
          "parcoords": [
           {
            "line": {
             "colorbar": {
              "outlinewidth": 0,
              "ticks": ""
             }
            },
            "type": "parcoords"
           }
          ],
          "pie": [
           {
            "automargin": true,
            "type": "pie"
           }
          ],
          "scatter": [
           {
            "marker": {
             "colorbar": {
              "outlinewidth": 0,
              "ticks": ""
             }
            },
            "type": "scatter"
           }
          ],
          "scatter3d": [
           {
            "line": {
             "colorbar": {
              "outlinewidth": 0,
              "ticks": ""
             }
            },
            "marker": {
             "colorbar": {
              "outlinewidth": 0,
              "ticks": ""
             }
            },
            "type": "scatter3d"
           }
          ],
          "scattercarpet": [
           {
            "marker": {
             "colorbar": {
              "outlinewidth": 0,
              "ticks": ""
             }
            },
            "type": "scattercarpet"
           }
          ],
          "scattergeo": [
           {
            "marker": {
             "colorbar": {
              "outlinewidth": 0,
              "ticks": ""
             }
            },
            "type": "scattergeo"
           }
          ],
          "scattergl": [
           {
            "marker": {
             "colorbar": {
              "outlinewidth": 0,
              "ticks": ""
             }
            },
            "type": "scattergl"
           }
          ],
          "scattermapbox": [
           {
            "marker": {
             "colorbar": {
              "outlinewidth": 0,
              "ticks": ""
             }
            },
            "type": "scattermapbox"
           }
          ],
          "scatterpolar": [
           {
            "marker": {
             "colorbar": {
              "outlinewidth": 0,
              "ticks": ""
             }
            },
            "type": "scatterpolar"
           }
          ],
          "scatterpolargl": [
           {
            "marker": {
             "colorbar": {
              "outlinewidth": 0,
              "ticks": ""
             }
            },
            "type": "scatterpolargl"
           }
          ],
          "scatterternary": [
           {
            "marker": {
             "colorbar": {
              "outlinewidth": 0,
              "ticks": ""
             }
            },
            "type": "scatterternary"
           }
          ],
          "surface": [
           {
            "colorbar": {
             "outlinewidth": 0,
             "ticks": ""
            },
            "colorscale": [
             [
              0,
              "#0d0887"
             ],
             [
              0.1111111111111111,
              "#46039f"
             ],
             [
              0.2222222222222222,
              "#7201a8"
             ],
             [
              0.3333333333333333,
              "#9c179e"
             ],
             [
              0.4444444444444444,
              "#bd3786"
             ],
             [
              0.5555555555555556,
              "#d8576b"
             ],
             [
              0.6666666666666666,
              "#ed7953"
             ],
             [
              0.7777777777777778,
              "#fb9f3a"
             ],
             [
              0.8888888888888888,
              "#fdca26"
             ],
             [
              1,
              "#f0f921"
             ]
            ],
            "type": "surface"
           }
          ],
          "table": [
           {
            "cells": {
             "fill": {
              "color": "#EBF0F8"
             },
             "line": {
              "color": "white"
             }
            },
            "header": {
             "fill": {
              "color": "#C8D4E3"
             },
             "line": {
              "color": "white"
             }
            },
            "type": "table"
           }
          ]
         },
         "layout": {
          "annotationdefaults": {
           "arrowcolor": "#2a3f5f",
           "arrowhead": 0,
           "arrowwidth": 1
          },
          "coloraxis": {
           "colorbar": {
            "outlinewidth": 0,
            "ticks": ""
           }
          },
          "colorscale": {
           "diverging": [
            [
             0,
             "#8e0152"
            ],
            [
             0.1,
             "#c51b7d"
            ],
            [
             0.2,
             "#de77ae"
            ],
            [
             0.3,
             "#f1b6da"
            ],
            [
             0.4,
             "#fde0ef"
            ],
            [
             0.5,
             "#f7f7f7"
            ],
            [
             0.6,
             "#e6f5d0"
            ],
            [
             0.7,
             "#b8e186"
            ],
            [
             0.8,
             "#7fbc41"
            ],
            [
             0.9,
             "#4d9221"
            ],
            [
             1,
             "#276419"
            ]
           ],
           "sequential": [
            [
             0,
             "#0d0887"
            ],
            [
             0.1111111111111111,
             "#46039f"
            ],
            [
             0.2222222222222222,
             "#7201a8"
            ],
            [
             0.3333333333333333,
             "#9c179e"
            ],
            [
             0.4444444444444444,
             "#bd3786"
            ],
            [
             0.5555555555555556,
             "#d8576b"
            ],
            [
             0.6666666666666666,
             "#ed7953"
            ],
            [
             0.7777777777777778,
             "#fb9f3a"
            ],
            [
             0.8888888888888888,
             "#fdca26"
            ],
            [
             1,
             "#f0f921"
            ]
           ],
           "sequentialminus": [
            [
             0,
             "#0d0887"
            ],
            [
             0.1111111111111111,
             "#46039f"
            ],
            [
             0.2222222222222222,
             "#7201a8"
            ],
            [
             0.3333333333333333,
             "#9c179e"
            ],
            [
             0.4444444444444444,
             "#bd3786"
            ],
            [
             0.5555555555555556,
             "#d8576b"
            ],
            [
             0.6666666666666666,
             "#ed7953"
            ],
            [
             0.7777777777777778,
             "#fb9f3a"
            ],
            [
             0.8888888888888888,
             "#fdca26"
            ],
            [
             1,
             "#f0f921"
            ]
           ]
          },
          "colorway": [
           "#636efa",
           "#EF553B",
           "#00cc96",
           "#ab63fa",
           "#FFA15A",
           "#19d3f3",
           "#FF6692",
           "#B6E880",
           "#FF97FF",
           "#FECB52"
          ],
          "font": {
           "color": "#2a3f5f"
          },
          "geo": {
           "bgcolor": "white",
           "lakecolor": "white",
           "landcolor": "#E5ECF6",
           "showlakes": true,
           "showland": true,
           "subunitcolor": "white"
          },
          "hoverlabel": {
           "align": "left"
          },
          "hovermode": "closest",
          "mapbox": {
           "style": "light"
          },
          "paper_bgcolor": "white",
          "plot_bgcolor": "#E5ECF6",
          "polar": {
           "angularaxis": {
            "gridcolor": "white",
            "linecolor": "white",
            "ticks": ""
           },
           "bgcolor": "#E5ECF6",
           "radialaxis": {
            "gridcolor": "white",
            "linecolor": "white",
            "ticks": ""
           }
          },
          "scene": {
           "xaxis": {
            "backgroundcolor": "#E5ECF6",
            "gridcolor": "white",
            "gridwidth": 2,
            "linecolor": "white",
            "showbackground": true,
            "ticks": "",
            "zerolinecolor": "white"
           },
           "yaxis": {
            "backgroundcolor": "#E5ECF6",
            "gridcolor": "white",
            "gridwidth": 2,
            "linecolor": "white",
            "showbackground": true,
            "ticks": "",
            "zerolinecolor": "white"
           },
           "zaxis": {
            "backgroundcolor": "#E5ECF6",
            "gridcolor": "white",
            "gridwidth": 2,
            "linecolor": "white",
            "showbackground": true,
            "ticks": "",
            "zerolinecolor": "white"
           }
          },
          "shapedefaults": {
           "line": {
            "color": "#2a3f5f"
           }
          },
          "ternary": {
           "aaxis": {
            "gridcolor": "white",
            "linecolor": "white",
            "ticks": ""
           },
           "baxis": {
            "gridcolor": "white",
            "linecolor": "white",
            "ticks": ""
           },
           "bgcolor": "#E5ECF6",
           "caxis": {
            "gridcolor": "white",
            "linecolor": "white",
            "ticks": ""
           }
          },
          "title": {
           "x": 0.05
          },
          "xaxis": {
           "automargin": true,
           "gridcolor": "white",
           "linecolor": "white",
           "ticks": "",
           "title": {
            "standoff": 15
           },
           "zerolinecolor": "white",
           "zerolinewidth": 2
          },
          "yaxis": {
           "automargin": true,
           "gridcolor": "white",
           "linecolor": "white",
           "ticks": "",
           "title": {
            "standoff": 15
           },
           "zerolinecolor": "white",
           "zerolinewidth": 2
          }
         }
        },
        "xaxis": {
         "type": "category"
        }
       }
      },
      "text/html": [
       "<div>                            <div id=\"1dbe43df-dfa5-4b18-b440-8f4a7a57b20a\" class=\"plotly-graph-div\" style=\"height:525px; width:100%;\"></div>            <script type=\"text/javascript\">                require([\"plotly\"], function(Plotly) {                    window.PLOTLYENV=window.PLOTLYENV || {};                                    if (document.getElementById(\"1dbe43df-dfa5-4b18-b440-8f4a7a57b20a\")) {                    Plotly.newPlot(                        \"1dbe43df-dfa5-4b18-b440-8f4a7a57b20a\",                        [{\"type\": \"bar\", \"x\": [\"#\", \"@\", \".\", \"the\", \"i\", \",\", \"to\", \"a\", \"and\", \"!\", \"is\", \"of\", \"you\", \"it\", \"in\", \"'s\", \"my\", \"that\", \"n't\", \"for\", \"?\", \"on\", \"be\", \"me\", \"do\", \"this\", \"so\", \"have\", \"not\", \"just\"], \"y\": [3932, 2241, 2152, 1729, 1633, 1291, 1286, 1200, 952, 908, 802, 791, 785, 708, 622, 539, 533, 532, 484, 444, 437, 390, 379, 377, 346, 341, 325, 321, 306, 301]}],                        {\"template\": {\"data\": {\"bar\": [{\"error_x\": {\"color\": \"#2a3f5f\"}, \"error_y\": {\"color\": \"#2a3f5f\"}, \"marker\": {\"line\": {\"color\": \"#E5ECF6\", \"width\": 0.5}}, \"type\": \"bar\"}], \"barpolar\": [{\"marker\": {\"line\": {\"color\": \"#E5ECF6\", \"width\": 0.5}}, \"type\": \"barpolar\"}], \"carpet\": [{\"aaxis\": {\"endlinecolor\": \"#2a3f5f\", \"gridcolor\": \"white\", \"linecolor\": \"white\", \"minorgridcolor\": \"white\", \"startlinecolor\": \"#2a3f5f\"}, \"baxis\": {\"endlinecolor\": \"#2a3f5f\", \"gridcolor\": \"white\", \"linecolor\": \"white\", \"minorgridcolor\": \"white\", \"startlinecolor\": \"#2a3f5f\"}, \"type\": \"carpet\"}], \"choropleth\": [{\"colorbar\": {\"outlinewidth\": 0, \"ticks\": \"\"}, \"type\": \"choropleth\"}], \"contour\": [{\"colorbar\": {\"outlinewidth\": 0, \"ticks\": \"\"}, \"colorscale\": [[0.0, \"#0d0887\"], [0.1111111111111111, \"#46039f\"], [0.2222222222222222, \"#7201a8\"], [0.3333333333333333, \"#9c179e\"], [0.4444444444444444, \"#bd3786\"], [0.5555555555555556, \"#d8576b\"], [0.6666666666666666, \"#ed7953\"], [0.7777777777777778, \"#fb9f3a\"], [0.8888888888888888, \"#fdca26\"], [1.0, \"#f0f921\"]], \"type\": \"contour\"}], \"contourcarpet\": [{\"colorbar\": {\"outlinewidth\": 0, \"ticks\": \"\"}, \"type\": \"contourcarpet\"}], \"heatmap\": [{\"colorbar\": {\"outlinewidth\": 0, \"ticks\": \"\"}, \"colorscale\": [[0.0, \"#0d0887\"], [0.1111111111111111, \"#46039f\"], [0.2222222222222222, \"#7201a8\"], [0.3333333333333333, \"#9c179e\"], [0.4444444444444444, \"#bd3786\"], [0.5555555555555556, \"#d8576b\"], [0.6666666666666666, \"#ed7953\"], [0.7777777777777778, \"#fb9f3a\"], [0.8888888888888888, \"#fdca26\"], [1.0, \"#f0f921\"]], \"type\": \"heatmap\"}], \"heatmapgl\": [{\"colorbar\": {\"outlinewidth\": 0, \"ticks\": \"\"}, \"colorscale\": [[0.0, \"#0d0887\"], [0.1111111111111111, \"#46039f\"], [0.2222222222222222, \"#7201a8\"], [0.3333333333333333, \"#9c179e\"], [0.4444444444444444, \"#bd3786\"], [0.5555555555555556, \"#d8576b\"], [0.6666666666666666, \"#ed7953\"], [0.7777777777777778, \"#fb9f3a\"], [0.8888888888888888, \"#fdca26\"], [1.0, \"#f0f921\"]], \"type\": \"heatmapgl\"}], \"histogram\": [{\"marker\": {\"colorbar\": {\"outlinewidth\": 0, \"ticks\": \"\"}}, \"type\": \"histogram\"}], \"histogram2d\": [{\"colorbar\": {\"outlinewidth\": 0, \"ticks\": \"\"}, \"colorscale\": [[0.0, \"#0d0887\"], [0.1111111111111111, \"#46039f\"], [0.2222222222222222, \"#7201a8\"], [0.3333333333333333, \"#9c179e\"], [0.4444444444444444, \"#bd3786\"], [0.5555555555555556, \"#d8576b\"], [0.6666666666666666, \"#ed7953\"], [0.7777777777777778, \"#fb9f3a\"], [0.8888888888888888, \"#fdca26\"], [1.0, \"#f0f921\"]], \"type\": \"histogram2d\"}], \"histogram2dcontour\": [{\"colorbar\": {\"outlinewidth\": 0, \"ticks\": \"\"}, \"colorscale\": [[0.0, \"#0d0887\"], [0.1111111111111111, \"#46039f\"], [0.2222222222222222, \"#7201a8\"], [0.3333333333333333, \"#9c179e\"], [0.4444444444444444, \"#bd3786\"], [0.5555555555555556, \"#d8576b\"], [0.6666666666666666, \"#ed7953\"], [0.7777777777777778, \"#fb9f3a\"], [0.8888888888888888, \"#fdca26\"], [1.0, \"#f0f921\"]], \"type\": \"histogram2dcontour\"}], \"mesh3d\": [{\"colorbar\": {\"outlinewidth\": 0, \"ticks\": \"\"}, \"type\": \"mesh3d\"}], \"parcoords\": [{\"line\": {\"colorbar\": {\"outlinewidth\": 0, \"ticks\": \"\"}}, \"type\": \"parcoords\"}], \"pie\": [{\"automargin\": true, \"type\": \"pie\"}], \"scatter\": [{\"marker\": {\"colorbar\": {\"outlinewidth\": 0, \"ticks\": \"\"}}, \"type\": \"scatter\"}], \"scatter3d\": [{\"line\": {\"colorbar\": {\"outlinewidth\": 0, \"ticks\": \"\"}}, \"marker\": {\"colorbar\": {\"outlinewidth\": 0, \"ticks\": \"\"}}, \"type\": \"scatter3d\"}], \"scattercarpet\": [{\"marker\": {\"colorbar\": {\"outlinewidth\": 0, \"ticks\": \"\"}}, \"type\": \"scattercarpet\"}], \"scattergeo\": [{\"marker\": {\"colorbar\": {\"outlinewidth\": 0, \"ticks\": \"\"}}, \"type\": \"scattergeo\"}], \"scattergl\": [{\"marker\": {\"colorbar\": {\"outlinewidth\": 0, \"ticks\": \"\"}}, \"type\": \"scattergl\"}], \"scattermapbox\": [{\"marker\": {\"colorbar\": {\"outlinewidth\": 0, \"ticks\": \"\"}}, \"type\": \"scattermapbox\"}], \"scatterpolar\": [{\"marker\": {\"colorbar\": {\"outlinewidth\": 0, \"ticks\": \"\"}}, \"type\": \"scatterpolar\"}], \"scatterpolargl\": [{\"marker\": {\"colorbar\": {\"outlinewidth\": 0, \"ticks\": \"\"}}, \"type\": \"scatterpolargl\"}], \"scatterternary\": [{\"marker\": {\"colorbar\": {\"outlinewidth\": 0, \"ticks\": \"\"}}, \"type\": \"scatterternary\"}], \"surface\": [{\"colorbar\": {\"outlinewidth\": 0, \"ticks\": \"\"}, \"colorscale\": [[0.0, \"#0d0887\"], [0.1111111111111111, \"#46039f\"], [0.2222222222222222, \"#7201a8\"], [0.3333333333333333, \"#9c179e\"], [0.4444444444444444, \"#bd3786\"], [0.5555555555555556, \"#d8576b\"], [0.6666666666666666, \"#ed7953\"], [0.7777777777777778, \"#fb9f3a\"], [0.8888888888888888, \"#fdca26\"], [1.0, \"#f0f921\"]], \"type\": \"surface\"}], \"table\": [{\"cells\": {\"fill\": {\"color\": \"#EBF0F8\"}, \"line\": {\"color\": \"white\"}}, \"header\": {\"fill\": {\"color\": \"#C8D4E3\"}, \"line\": {\"color\": \"white\"}}, \"type\": \"table\"}]}, \"layout\": {\"annotationdefaults\": {\"arrowcolor\": \"#2a3f5f\", \"arrowhead\": 0, \"arrowwidth\": 1}, \"coloraxis\": {\"colorbar\": {\"outlinewidth\": 0, \"ticks\": \"\"}}, \"colorscale\": {\"diverging\": [[0, \"#8e0152\"], [0.1, \"#c51b7d\"], [0.2, \"#de77ae\"], [0.3, \"#f1b6da\"], [0.4, \"#fde0ef\"], [0.5, \"#f7f7f7\"], [0.6, \"#e6f5d0\"], [0.7, \"#b8e186\"], [0.8, \"#7fbc41\"], [0.9, \"#4d9221\"], [1, \"#276419\"]], \"sequential\": [[0.0, \"#0d0887\"], [0.1111111111111111, \"#46039f\"], [0.2222222222222222, \"#7201a8\"], [0.3333333333333333, \"#9c179e\"], [0.4444444444444444, \"#bd3786\"], [0.5555555555555556, \"#d8576b\"], [0.6666666666666666, \"#ed7953\"], [0.7777777777777778, \"#fb9f3a\"], [0.8888888888888888, \"#fdca26\"], [1.0, \"#f0f921\"]], \"sequentialminus\": [[0.0, \"#0d0887\"], [0.1111111111111111, \"#46039f\"], [0.2222222222222222, \"#7201a8\"], [0.3333333333333333, \"#9c179e\"], [0.4444444444444444, \"#bd3786\"], [0.5555555555555556, \"#d8576b\"], [0.6666666666666666, \"#ed7953\"], [0.7777777777777778, \"#fb9f3a\"], [0.8888888888888888, \"#fdca26\"], [1.0, \"#f0f921\"]]}, \"colorway\": [\"#636efa\", \"#EF553B\", \"#00cc96\", \"#ab63fa\", \"#FFA15A\", \"#19d3f3\", \"#FF6692\", \"#B6E880\", \"#FF97FF\", \"#FECB52\"], \"font\": {\"color\": \"#2a3f5f\"}, \"geo\": {\"bgcolor\": \"white\", \"lakecolor\": \"white\", \"landcolor\": \"#E5ECF6\", \"showlakes\": true, \"showland\": true, \"subunitcolor\": \"white\"}, \"hoverlabel\": {\"align\": \"left\"}, \"hovermode\": \"closest\", \"mapbox\": {\"style\": \"light\"}, \"paper_bgcolor\": \"white\", \"plot_bgcolor\": \"#E5ECF6\", \"polar\": {\"angularaxis\": {\"gridcolor\": \"white\", \"linecolor\": \"white\", \"ticks\": \"\"}, \"bgcolor\": \"#E5ECF6\", \"radialaxis\": {\"gridcolor\": \"white\", \"linecolor\": \"white\", \"ticks\": \"\"}}, \"scene\": {\"xaxis\": {\"backgroundcolor\": \"#E5ECF6\", \"gridcolor\": \"white\", \"gridwidth\": 2, \"linecolor\": \"white\", \"showbackground\": true, \"ticks\": \"\", \"zerolinecolor\": \"white\"}, \"yaxis\": {\"backgroundcolor\": \"#E5ECF6\", \"gridcolor\": \"white\", \"gridwidth\": 2, \"linecolor\": \"white\", \"showbackground\": true, \"ticks\": \"\", \"zerolinecolor\": \"white\"}, \"zaxis\": {\"backgroundcolor\": \"#E5ECF6\", \"gridcolor\": \"white\", \"gridwidth\": 2, \"linecolor\": \"white\", \"showbackground\": true, \"ticks\": \"\", \"zerolinecolor\": \"white\"}}, \"shapedefaults\": {\"line\": {\"color\": \"#2a3f5f\"}}, \"ternary\": {\"aaxis\": {\"gridcolor\": \"white\", \"linecolor\": \"white\", \"ticks\": \"\"}, \"baxis\": {\"gridcolor\": \"white\", \"linecolor\": \"white\", \"ticks\": \"\"}, \"bgcolor\": \"#E5ECF6\", \"caxis\": {\"gridcolor\": \"white\", \"linecolor\": \"white\", \"ticks\": \"\"}}, \"title\": {\"x\": 0.05}, \"xaxis\": {\"automargin\": true, \"gridcolor\": \"white\", \"linecolor\": \"white\", \"ticks\": \"\", \"title\": {\"standoff\": 15}, \"zerolinecolor\": \"white\", \"zerolinewidth\": 2}, \"yaxis\": {\"automargin\": true, \"gridcolor\": \"white\", \"linecolor\": \"white\", \"ticks\": \"\", \"title\": {\"standoff\": 15}, \"zerolinecolor\": \"white\", \"zerolinewidth\": 2}}}, \"xaxis\": {\"type\": \"category\"}},                        {\"responsive\": true}                    ).then(function(){\n",
       "                            \n",
       "var gd = document.getElementById('1dbe43df-dfa5-4b18-b440-8f4a7a57b20a');\n",
       "var x = new MutationObserver(function (mutations, observer) {{\n",
       "        var display = window.getComputedStyle(gd).display;\n",
       "        if (!display || display === 'none') {{\n",
       "            console.log([gd, 'removed!']);\n",
       "            Plotly.purge(gd);\n",
       "            observer.disconnect();\n",
       "        }}\n",
       "}});\n",
       "\n",
       "// Listen for the removal of the full notebook cells\n",
       "var notebookContainer = gd.closest('#notebook-container');\n",
       "if (notebookContainer) {{\n",
       "    x.observe(notebookContainer, {childList: true});\n",
       "}}\n",
       "\n",
       "// Listen for the clearing of the current output cell\n",
       "var outputEl = gd.closest('.output');\n",
       "if (outputEl) {{\n",
       "    x.observe(outputEl, {childList: true});\n",
       "}}\n",
       "\n",
       "                        })                };                });            </script>        </div>"
      ]
     },
     "metadata": {},
     "output_type": "display_data"
    }
   ],
   "source": [
    "sort_index=np.argsort(word_freq)   #array index sort in small~big\n",
    "reverse_index=np.flip(sort_index)         #reverse array index\n",
    "\n",
    "x=[]\n",
    "y=[]\n",
    "for i in reverse_index[:30]:\n",
    "    x.append(all_feat.get_feature_names()[i])\n",
    "    y.append(word_freq[i])\n",
    "\n",
    "import plotly.graph_objs as go\n",
    "#import matplotlib.pyplot as plt\n",
    "#plt.figure(figsize=(10,5))\n",
    "#plt.bar(x,y)\n",
    "layout = go.Layout(xaxis=dict(type='category'))     #layout setting for int-like string in X, such as '00', '0000'\n",
    "fig = go.Figure(data=plotdata,layout=layout)            #  plotly see it as integer, so we need layout setting\n",
    "fig.show()\n",
    "#plt.show()"
   ]
  },
  {
   "cell_type": "markdown",
   "metadata": {},
   "source": [
    "---\n",
    "### ** >>> Exercise 2 (Take home): **  \n",
    "Generate an embedding using the TF-IDF vectorizer instead of th BOW one with 1000 features and show the feature names for features [100:110]."
   ]
  },
  {
   "cell_type": "code",
   "execution_count": 10,
   "metadata": {},
   "outputs": [
    {
     "name": "stderr",
     "output_type": "stream",
     "text": [
      "c:\\users\\me\\anaconda3\\envs\\tensorflow\\lib\\site-packages\\sklearn\\feature_extraction\\text.py:507: UserWarning:\n",
      "\n",
      "The parameter 'token_pattern' will not be used since 'tokenizer' is not None'\n",
      "\n"
     ]
    },
    {
     "data": {
      "text/plain": [
       "(3613, 1000)"
      ]
     },
     "execution_count": 10,
     "metadata": {},
     "output_type": "execute_result"
    }
   ],
   "source": [
    "from sklearn.feature_extraction.text import TfidfVectorizer\n",
    "\n",
    "# build analyzers (tfidf)\n",
    "tfidf_1000 = TfidfVectorizer(max_features=1000, tokenizer=nltk.word_tokenize)\n",
    "\n",
    "# apply analyzer to training data\n",
    "tfidf_1000.fit(train_df['text'])\n",
    "\n",
    "train_data_tfidf_features_1000 = tfidf_1000.transform(train_df['text'])\n",
    "\n",
    "## check dimension\n",
    "train_data_tfidf_features_1000.shape"
   ]
  },
  {
   "cell_type": "code",
   "execution_count": 11,
   "metadata": {},
   "outputs": [
    {
     "data": {
      "text/plain": [
       "['awareness',\n",
       " 'away',\n",
       " 'awe',\n",
       " 'awesome',\n",
       " 'awful',\n",
       " 'b',\n",
       " 'baby',\n",
       " 'back',\n",
       " 'bad',\n",
       " 'ball']"
      ]
     },
     "execution_count": 11,
     "metadata": {},
     "output_type": "execute_result"
    }
   ],
   "source": [
    "feature_name_1000=tfidf_1000.get_feature_names()\n",
    "feature_name_1000[100:110]"
   ]
  },
  {
   "cell_type": "markdown",
   "metadata": {},
   "source": [
    "#### Code for Exercise3"
   ]
  },
  {
   "cell_type": "code",
   "execution_count": 14,
   "metadata": {},
   "outputs": [
    {
     "name": "stderr",
     "output_type": "stream",
     "text": [
      "c:\\users\\me\\anaconda3\\envs\\tensorflow\\lib\\site-packages\\sklearn\\feature_extraction\\text.py:507: UserWarning:\n",
      "\n",
      "The parameter 'token_pattern' will not be used since 'tokenizer' is not None'\n",
      "\n"
     ]
    }
   ],
   "source": [
    "# build analyzers (bag-of-words)\n",
    "BOW_500 = CountVectorizer(max_features=500, tokenizer=nltk.word_tokenize) \n",
    "\n",
    "# apply analyzer to training data\n",
    "BOW_500.fit(train_df['text'])\n",
    "\n",
    "train_data_BOW_features_500 = BOW_500.transform(train_df['text'])\n",
    "\n",
    "feature_names_500 = BOW_500.get_feature_names()"
   ]
  },
  {
   "cell_type": "code",
   "execution_count": 15,
   "metadata": {},
   "outputs": [
    {
     "name": "stdout",
     "output_type": "stream",
     "text": [
      "X_train.shape:  (3613, 500)\n",
      "y_train.shape:  (3613,)\n",
      "X_test.shape:  (347, 500)\n",
      "y_test.shape:  (347,)\n"
     ]
    }
   ],
   "source": [
    "from sklearn.tree import DecisionTreeClassifier\n",
    "\n",
    "# for a classificaiton problem, you need to provide both training & testing data\n",
    "X_train = BOW_500.transform(train_df['text'])\n",
    "y_train = train_df['emotion']\n",
    "\n",
    "X_test = BOW_500.transform(test_df['text'])\n",
    "y_test = test_df['emotion']\n",
    "\n",
    "## take a look at data dimension is a good habbit  :)\n",
    "print('X_train.shape: ', X_train.shape)\n",
    "print('y_train.shape: ', y_train.shape)\n",
    "print('X_test.shape: ', X_test.shape)\n",
    "print('y_test.shape: ', y_test.shape)"
   ]
  },
  {
   "cell_type": "code",
   "execution_count": 16,
   "metadata": {},
   "outputs": [
    {
     "data": {
      "text/plain": [
       "array(['joy', 'joy', 'joy', 'anger', 'sadness', 'anger', 'fear', 'joy',\n",
       "       'fear', 'fear'], dtype=object)"
      ]
     },
     "execution_count": 16,
     "metadata": {},
     "output_type": "execute_result"
    }
   ],
   "source": [
    "## build DecisionTree model\n",
    "DT_model = DecisionTreeClassifier(random_state=0)\n",
    "\n",
    "## training!\n",
    "DT_model = DT_model.fit(X_train, y_train)\n",
    "\n",
    "## predict!\n",
    "y_train_pred = DT_model.predict(X_train)\n",
    "y_test_pred = DT_model.predict(X_test)\n",
    "\n",
    "## so we get the pred result\n",
    "y_test_pred[:10]"
   ]
  },
  {
   "cell_type": "code",
   "execution_count": 17,
   "metadata": {},
   "outputs": [
    {
     "name": "stdout",
     "output_type": "stream",
     "text": [
      "training accuracy: 0.99\n",
      "testing accuracy: 0.66\n"
     ]
    }
   ],
   "source": [
    "## accuracy\n",
    "from sklearn.metrics import accuracy_score\n",
    "\n",
    "acc_train = accuracy_score(y_true=y_train, y_pred=y_train_pred)\n",
    "acc_test = accuracy_score(y_true=y_test, y_pred=y_test_pred)\n",
    "\n",
    "print('training accuracy: {}'.format(round(acc_train, 2)))\n",
    "print('testing accuracy: {}'.format(round(acc_test, 2)))\n"
   ]
  },
  {
   "cell_type": "code",
   "execution_count": 18,
   "metadata": {},
   "outputs": [
    {
     "name": "stdout",
     "output_type": "stream",
     "text": [
      "              precision    recall  f1-score   support\n",
      "\n",
      "       anger       0.67      0.70      0.69        84\n",
      "        fear       0.67      0.65      0.66       110\n",
      "         joy       0.65      0.65      0.65        79\n",
      "     sadness       0.66      0.65      0.65        74\n",
      "\n",
      "    accuracy                           0.66       347\n",
      "   macro avg       0.66      0.66      0.66       347\n",
      "weighted avg       0.66      0.66      0.66       347\n",
      "\n"
     ]
    }
   ],
   "source": [
    "## precision, recall, f1-score,\n",
    "from sklearn.metrics import classification_report\n",
    "\n",
    "print(classification_report(y_true=y_test, y_pred=y_test_pred))"
   ]
  },
  {
   "cell_type": "code",
   "execution_count": 19,
   "metadata": {},
   "outputs": [
    {
     "name": "stdout",
     "output_type": "stream",
     "text": [
      "[[59 12 10  3]\n",
      " [15 72 10 13]\n",
      " [ 6 13 51  9]\n",
      " [ 8 10  8 48]]\n"
     ]
    }
   ],
   "source": [
    "## check by confusion matrix\n",
    "from sklearn.metrics import confusion_matrix\n",
    "\n",
    "cm = confusion_matrix(y_true=y_test, y_pred=y_test_pred) \n",
    "print(cm)"
   ]
  },
  {
   "cell_type": "code",
   "execution_count": 20,
   "metadata": {},
   "outputs": [],
   "source": [
    "# Funciton for visualizing confusion_matrix\n",
    "import matplotlib.pyplot as plt\n",
    "import seaborn as sns\n",
    "import numpy as np\n",
    "import itertools\n",
    "\n",
    "def plot_confusion_matrix(cm, classes, title='Confusion matrix',\n",
    "                          cmap=sns.cubehelix_palette(as_cmap=True)):\n",
    "    \"\"\"\n",
    "    This function is modified from: \n",
    "    http://scikit-learn.org/stable/auto_examples/model_selection/plot_confusion_matrix.html\n",
    "    \"\"\"\n",
    "    classes.sort()\n",
    "    tick_marks = np.arange(len(classes))    \n",
    "    \n",
    "    fig, ax = plt.subplots(figsize=(5,5))\n",
    "    im = ax.imshow(cm, interpolation='nearest', cmap=cmap)\n",
    "    ax.figure.colorbar(im, ax=ax)\n",
    "    ax.set(xticks=np.arange(cm.shape[1]),\n",
    "           yticks=np.arange(cm.shape[0]),\n",
    "           xticklabels = classes,\n",
    "           yticklabels = classes,\n",
    "           title = title,\n",
    "           xlabel = 'True label',\n",
    "           ylabel = 'Predicted label')\n",
    "\n",
    "    fmt = 'd'\n",
    "    thresh = cm.max() / 2.\n",
    "    for i, j in itertools.product(range(cm.shape[0]), range(cm.shape[1])):\n",
    "        plt.text(j, i, format(cm[i, j], fmt), horizontalalignment=\"center\", color=\"white\" if cm[i, j] > thresh else \"black\")\n",
    "    ylim_top = len(classes) - 0.5\n",
    "    plt.ylim([ylim_top, -.5])\n",
    "    plt.tight_layout()\n",
    "    plt.show()"
   ]
  },
  {
   "cell_type": "code",
   "execution_count": 21,
   "metadata": {},
   "outputs": [
    {
     "data": {
      "image/png": "[encoded data removed]",
      "text/plain": [
       "<Figure size 360x360 with 2 Axes>"
      ]
     },
     "metadata": {
      "needs_background": "light"
     },
     "output_type": "display_data"
    }
   ],
   "source": [
    "# plot your confusion matrix\n",
    "my_tags = ['anger', 'fear', 'joy', 'sadness']\n",
    "plot_confusion_matrix(cm, classes=my_tags, title='Confusion matrix')"
   ]
  },
  {
   "cell_type": "markdown",
   "metadata": {},
   "source": [
    "---\n",
    "### ** >>> Exercise 3 (Take home): **  \n",
    "Can you interpret the results above? What do they mean?"
   ]
  },
  {
   "cell_type": "markdown",
   "metadata": {},
   "source": [
    "### Answer here"
   ]
  },
  {
   "cell_type": "markdown",
   "metadata": {},
   "source": [
    "From precision, recall, f1-score, and cofusion matrix above, we can know that although \"fear\" is the emotion which the time predict correctly is the most, but it also has lots of not-fear label is predicted to fear, which impact the precision. And lots of fear be predicted to other emotion, impact the recall rate. So we can find out that fear is the emotion that contain the most in test data, which leads to get the most correct samples, but the f1-score isn't the best due to precision and recall rate."
   ]
  },
  {
   "cell_type": "markdown",
   "metadata": {},
   "source": [
    "---\n",
    "### ** >>> Exercise 4 (Take home): **  \n",
    "Build a model using a ```Naive Bayes``` model and train it. What are the testing results? \n",
    "\n",
    "*Reference*: https://scikit-learn.org/stable/modules/generated/sklearn.naive_bayes.MultinomialNB.html"
   ]
  },
  {
   "cell_type": "code",
   "execution_count": 22,
   "metadata": {},
   "outputs": [],
   "source": [
    "from sklearn.naive_bayes import MultinomialNB\n",
    "\n",
    "## build Naive Bayes model\n",
    "NB_model = MultinomialNB()\n",
    "\n",
    "## training!\n",
    "NB_model = NB_model.fit(X_train, y_train)\n",
    "\n",
    "## predict!\n",
    "y_train_pred = NB_model.predict(X_train)\n",
    "y_test_pred = NB_model.predict(X_test)"
   ]
  },
  {
   "cell_type": "code",
   "execution_count": 23,
   "metadata": {},
   "outputs": [
    {
     "name": "stdout",
     "output_type": "stream",
     "text": [
      "training accuracy: 0.79\n",
      "testing accuracy: 0.69\n"
     ]
    }
   ],
   "source": [
    "acc_train = accuracy_score(y_true=y_train, y_pred=y_train_pred)\n",
    "acc_test = accuracy_score(y_true=y_test, y_pred=y_test_pred)\n",
    "\n",
    "print('training accuracy: {}'.format(round(acc_train, 2)))\n",
    "print('testing accuracy: {}'.format(round(acc_test, 2)))"
   ]
  },
  {
   "cell_type": "code",
   "execution_count": 24,
   "metadata": {},
   "outputs": [
    {
     "name": "stdout",
     "output_type": "stream",
     "text": [
      "              precision    recall  f1-score   support\n",
      "\n",
      "       anger       0.65      0.65      0.65        84\n",
      "        fear       0.72      0.77      0.75       110\n",
      "         joy       0.76      0.70      0.73        79\n",
      "     sadness       0.63      0.62      0.63        74\n",
      "\n",
      "    accuracy                           0.69       347\n",
      "   macro avg       0.69      0.69      0.69       347\n",
      "weighted avg       0.70      0.69      0.69       347\n",
      "\n"
     ]
    }
   ],
   "source": [
    "## precision, recall, f1-score,\n",
    "\n",
    "print(classification_report(y_true=y_test, y_pred=y_test_pred))"
   ]
  },
  {
   "cell_type": "code",
   "execution_count": 25,
   "metadata": {},
   "outputs": [
    {
     "name": "stdout",
     "output_type": "stream",
     "text": [
      "[[55 15  5  9]\n",
      " [ 8 85  5 12]\n",
      " [10  8 55  6]\n",
      " [11 10  7 46]]\n"
     ]
    }
   ],
   "source": [
    "## check by confusion matrix\n",
    "\n",
    "cm = confusion_matrix(y_true=y_test, y_pred=y_test_pred) \n",
    "print(cm)"
   ]
  },
  {
   "cell_type": "code",
   "execution_count": 26,
   "metadata": {},
   "outputs": [
    {
     "data": {
      "image/png": "[encoded data removed]",
      "text/plain": [
       "<Figure size 360x360 with 2 Axes>"
      ]
     },
     "metadata": {
      "needs_background": "light"
     },
     "output_type": "display_data"
    }
   ],
   "source": [
    "# plot your confusion matrix\n",
    "my_tags = ['anger', 'fear', 'joy', 'sadness']\n",
    "plot_confusion_matrix(cm, classes=my_tags, title='Confusion matrix')"
   ]
  },
  {
   "cell_type": "markdown",
   "metadata": {},
   "source": [
    "It seems get higher precision and recall on fear and joy than decision tree."
   ]
  },
  {
   "cell_type": "markdown",
   "metadata": {},
   "source": [
    "---\n",
    "### ** >>> Exercise 5 (Take home): **  \n",
    "\n",
    "How do the results from the Naive Bayes model and the Decision Tree model compare? How do you interpret these differences? Use the theoretical background covered in class to try and explain these differences."
   ]
  },
  {
   "cell_type": "markdown",
   "metadata": {},
   "source": [
    "#### Answer here\n",
    "Naive Bayes model: It considers the probability of every feature to each class, at get the class which has biggest probability\n",
    "to be the answer.\n",
    "\n",
    "Decision Tree model: It split the class by some conditions, follow the flow of conditions to get the class prediction.\n",
    "\n",
    "In this set of data, training data: Decision Tree model(0.99) better than Naive Bayes model(0.79), testing data: Naive Bayes model(0.69) little better than Decision Tree model(0.66). In training data the Decision Tree model can cut the condition and split data into exact class, but in testing data it maybe more complex and the condition can't split data that well. Naive Bayes model take 500 feature's probability in to consider, it may be a better choice when data are complex."
   ]
  },
  {
   "cell_type": "markdown",
   "metadata": {},
   "source": [
    "---\n",
    "### ** >>> Exercise 6 (Take home): **  \n",
    "\n",
    "Plot the Training and Validation Accuracy and Loss (different plots), just like the images below (Note: the pictures below are an example from a different model). How to interpret the graphs you got? How are they related to the concept of overfitting/underfitting covered in class?\n",
    "<table><tr>\n",
    "    <td><img src=\"pics/pic3.png\" style=\"width: 300px;\"/> </td>\n",
    "    <td><img src=\"pics/pic4.png\" style=\"width: 300px;\"/> </td>\n",
    "</tr></table>"
   ]
  },
  {
   "cell_type": "code",
   "execution_count": 27,
   "metadata": {
    "scrolled": false
   },
   "outputs": [
    {
     "name": "stderr",
     "output_type": "stream",
     "text": [
      "Using TensorFlow backend.\n"
     ]
    },
    {
     "name": "stdout",
     "output_type": "stream",
     "text": [
      "X_train.shape:  (3613, 500)\n",
      "y_train.shape:  (3613,)\n",
      "X_test.shape:  (347, 500)\n",
      "y_test.shape:  (347,)\n"
     ]
    }
   ],
   "source": [
    "import keras\n",
    "\n",
    "# standardize name (X, y) \n",
    "X_train = BOW_500.transform(train_df['text'])\n",
    "y_train = train_df['emotion']\n",
    "\n",
    "X_test = BOW_500.transform(test_df['text'])\n",
    "y_test = test_df['emotion']\n",
    "\n",
    "## check dimension is a good habbit \n",
    "print('X_train.shape: ', X_train.shape)\n",
    "print('y_train.shape: ', y_train.shape)\n",
    "print('X_test.shape: ', X_test.shape)\n",
    "print('y_test.shape: ', y_test.shape)"
   ]
  },
  {
   "cell_type": "code",
   "execution_count": 28,
   "metadata": {},
   "outputs": [],
   "source": [
    "## deal with label (string -> one-hot)\n",
    "\n",
    "from sklearn.preprocessing import LabelEncoder\n",
    "\n",
    "label_encoder = LabelEncoder()\n",
    "label_encoder.fit(y_train)\n",
    "\n",
    "def label_encode(le, labels):\n",
    "    enc = le.transform(labels)\n",
    "    return keras.utils.to_categorical(enc)\n",
    "\n",
    "def label_decode(le, one_hot_label):\n",
    "    dec = np.argmax(one_hot_label, axis=1)\n",
    "    return le.inverse_transform(dec)\n",
    "\n",
    "y_train = label_encode(label_encoder, y_train)\n",
    "y_test = label_encode(label_encoder, y_test)"
   ]
  },
  {
   "cell_type": "code",
   "execution_count": 29,
   "metadata": {},
   "outputs": [
    {
     "name": "stdout",
     "output_type": "stream",
     "text": [
      "input_shape:  500\n",
      "output_shape:  4\n"
     ]
    }
   ],
   "source": [
    "# I/O check\n",
    "input_shape = X_train.shape[1]\n",
    "print('input_shape: ', input_shape)\n",
    "\n",
    "output_shape = len(label_encoder.classes_)\n",
    "print('output_shape: ', output_shape)"
   ]
  },
  {
   "cell_type": "code",
   "execution_count": 30,
   "metadata": {},
   "outputs": [
    {
     "name": "stdout",
     "output_type": "stream",
     "text": [
      "WARNING:tensorflow:From c:\\users\\me\\anaconda3\\envs\\tensorflow\\lib\\site-packages\\tensorflow_core\\python\\ops\\resource_variable_ops.py:1630: calling BaseResourceVariable.__init__ (from tensorflow.python.ops.resource_variable_ops) with constraint is deprecated and will be removed in a future version.\n",
      "Instructions for updating:\n",
      "If using Keras pass *_constraint arguments to layers.\n",
      "Model: \"model_1\"\n",
      "_________________________________________________________________\n",
      "Layer (type)                 Output Shape              Param #   \n",
      "=================================================================\n",
      "input_1 (InputLayer)         (None, 500)               0         \n",
      "_________________________________________________________________\n",
      "dense_1 (Dense)              (None, 64)                32064     \n",
      "_________________________________________________________________\n",
      "re_lu_1 (ReLU)               (None, 64)                0         \n",
      "_________________________________________________________________\n",
      "dense_2 (Dense)              (None, 64)                4160      \n",
      "_________________________________________________________________\n",
      "re_lu_2 (ReLU)               (None, 64)                0         \n",
      "_________________________________________________________________\n",
      "dense_3 (Dense)              (None, 4)                 260       \n",
      "_________________________________________________________________\n",
      "softmax_1 (Softmax)          (None, 4)                 0         \n",
      "=================================================================\n",
      "Total params: 36,484\n",
      "Trainable params: 36,484\n",
      "Non-trainable params: 0\n",
      "_________________________________________________________________\n"
     ]
    }
   ],
   "source": [
    "from keras.models import Model\n",
    "from keras.layers import Input, Dense\n",
    "from keras.layers import ReLU, Softmax\n",
    "\n",
    "# input layer\n",
    "model_input = Input(shape=(input_shape, ))  # 500\n",
    "X = model_input\n",
    "\n",
    "# 1st hidden layer\n",
    "X_W1 = Dense(units=64)(X)  # 64\n",
    "H1 = ReLU()(X_W1)\n",
    "\n",
    "# 2nd hidden layer\n",
    "H1_W2 = Dense(units=64)(H1)  # 64\n",
    "H2 = ReLU()(H1_W2)\n",
    "\n",
    "# output layer\n",
    "H2_W3 = Dense(units=output_shape)(H2)  # 4\n",
    "H3 = Softmax()(H2_W3)\n",
    "\n",
    "model_output = H3\n",
    "\n",
    "# create model\n",
    "model = Model(inputs=[model_input], outputs=[model_output])\n",
    "\n",
    "# loss function & optimizer\n",
    "model.compile(optimizer='adam',\n",
    "              loss='categorical_crossentropy',\n",
    "              metrics=['accuracy'])\n",
    "\n",
    "# show model construction\n",
    "model.summary()"
   ]
  },
  {
   "cell_type": "code",
   "execution_count": 31,
   "metadata": {},
   "outputs": [
    {
     "name": "stdout",
     "output_type": "stream",
     "text": [
      "WARNING:tensorflow:From c:\\users\\me\\anaconda3\\envs\\tensorflow\\lib\\site-packages\\keras\\backend\\tensorflow_backend.py:422: The name tf.global_variables is deprecated. Please use tf.compat.v1.global_variables instead.\n",
      "\n",
      "Train on 3613 samples, validate on 347 samples\n",
      "Epoch 1/25\n",
      "3613/3613 [==============================] - 1s 174us/step - loss: 1.3245 - accuracy: 0.3667 - val_loss: 1.2716 - val_accuracy: 0.4467\n",
      "Epoch 2/25\n",
      "3613/3613 [==============================] - 0s 99us/step - loss: 1.0061 - accuracy: 0.6291 - val_loss: 0.9357 - val_accuracy: 0.6657\n",
      "Epoch 3/25\n",
      "3613/3613 [==============================] - 0s 93us/step - loss: 0.6056 - accuracy: 0.7855 - val_loss: 0.7876 - val_accuracy: 0.6830\n",
      "Epoch 4/25\n",
      "3613/3613 [==============================] - 0s 87us/step - loss: 0.4230 - accuracy: 0.8456 - val_loss: 0.7886 - val_accuracy: 0.6830\n",
      "Epoch 5/25\n",
      "3613/3613 [==============================] - 0s 104us/step - loss: 0.3303 - accuracy: 0.8851 - val_loss: 0.8674 - val_accuracy: 0.6888\n",
      "Epoch 6/25\n",
      "3613/3613 [==============================] - 0s 94us/step - loss: 0.2734 - accuracy: 0.9076 - val_loss: 0.9074 - val_accuracy: 0.6686\n",
      "Epoch 7/25\n",
      "3613/3613 [==============================] - 0s 102us/step - loss: 0.2265 - accuracy: 0.9244 - val_loss: 0.8975 - val_accuracy: 0.6859\n",
      "Epoch 8/25\n",
      "3613/3613 [==============================] - 0s 90us/step - loss: 0.1905 - accuracy: 0.9388 - val_loss: 1.0413 - val_accuracy: 0.6657\n",
      "Epoch 9/25\n",
      "3613/3613 [==============================] - 0s 98us/step - loss: 0.1603 - accuracy: 0.9532 - val_loss: 1.0311 - val_accuracy: 0.6801\n",
      "Epoch 10/25\n",
      "3613/3613 [==============================] - 0s 116us/step - loss: 0.1412 - accuracy: 0.9601 - val_loss: 1.1092 - val_accuracy: 0.6801\n",
      "Epoch 11/25\n",
      "3613/3613 [==============================] - 1s 152us/step - loss: 0.1213 - accuracy: 0.9646 - val_loss: 1.1778 - val_accuracy: 0.6628\n",
      "Epoch 12/25\n",
      "3613/3613 [==============================] - 1s 162us/step - loss: 0.1142 - accuracy: 0.9651 - val_loss: 1.1779 - val_accuracy: 0.6715\n",
      "Epoch 13/25\n",
      "3613/3613 [==============================] - 1s 148us/step - loss: 0.1090 - accuracy: 0.9662 - val_loss: 1.2573 - val_accuracy: 0.6772\n",
      "Epoch 14/25\n",
      "3613/3613 [==============================] - 1s 164us/step - loss: 0.0963 - accuracy: 0.9704 - val_loss: 1.3392 - val_accuracy: 0.6571\n",
      "Epoch 15/25\n",
      "3613/3613 [==============================] - 1s 169us/step - loss: 0.0879 - accuracy: 0.9718 - val_loss: 1.3505 - val_accuracy: 0.6628\n",
      "Epoch 16/25\n",
      "3613/3613 [==============================] - 1s 161us/step - loss: 0.0884 - accuracy: 0.9740 - val_loss: 1.3617 - val_accuracy: 0.6715\n",
      "Epoch 17/25\n",
      "3613/3613 [==============================] - 1s 146us/step - loss: 0.0884 - accuracy: 0.9734 - val_loss: 1.4148 - val_accuracy: 0.6744\n",
      "Epoch 18/25\n",
      "3613/3613 [==============================] - 0s 133us/step - loss: 0.0814 - accuracy: 0.9732 - val_loss: 1.4248 - val_accuracy: 0.6657\n",
      "Epoch 19/25\n",
      "3613/3613 [==============================] - ETA: 0s - loss: 0.0742 - accuracy: 0.97 - 1s 186us/step - loss: 0.0745 - accuracy: 0.9756 - val_loss: 1.4719 - val_accuracy: 0.6657\n",
      "Epoch 20/25\n",
      "3613/3613 [==============================] - 1s 201us/step - loss: 0.0770 - accuracy: 0.9756 - val_loss: 1.4782 - val_accuracy: 0.6657\n",
      "Epoch 21/25\n",
      "3613/3613 [==============================] - 1s 190us/step - loss: 0.0679 - accuracy: 0.9756 - val_loss: 1.5134 - val_accuracy: 0.6628\n",
      "Epoch 22/25\n",
      "3613/3613 [==============================] - 1s 183us/step - loss: 0.0684 - accuracy: 0.9759 - val_loss: 1.5407 - val_accuracy: 0.6542\n",
      "Epoch 23/25\n",
      "3613/3613 [==============================] - 1s 235us/step - loss: 0.0649 - accuracy: 0.9770 - val_loss: 1.5781 - val_accuracy: 0.6542\n",
      "Epoch 24/25\n",
      "3613/3613 [==============================] - 1s 199us/step - loss: 0.0680 - accuracy: 0.9762 - val_loss: 1.5772 - val_accuracy: 0.6772\n",
      "Epoch 25/25\n",
      "3613/3613 [==============================] - 1s 171us/step - loss: 0.0585 - accuracy: 0.9795 - val_loss: 1.6125 - val_accuracy: 0.6628\n",
      "training finish\n"
     ]
    }
   ],
   "source": [
    "from keras.callbacks import CSVLogger\n",
    "\n",
    "csv_logger = CSVLogger('logs/training_log.csv')\n",
    "\n",
    "# training setting\n",
    "epochs = 25\n",
    "batch_size = 32\n",
    "\n",
    "# training!\n",
    "history = model.fit(X_train, y_train, \n",
    "                    epochs=epochs, \n",
    "                    batch_size=batch_size, \n",
    "                    callbacks=[csv_logger],\n",
    "                    validation_data = (X_test, y_test))\n",
    "print('training finish')"
   ]
  },
  {
   "cell_type": "code",
   "execution_count": 32,
   "metadata": {},
   "outputs": [],
   "source": [
    "#Let's take a look at the training log\n",
    "training_log = pd.DataFrame()\n",
    "training_log = pd.read_csv(\"logs/training_log.csv\")\n",
    "#training_log"
   ]
  },
  {
   "cell_type": "code",
   "execution_count": 33,
   "metadata": {},
   "outputs": [
    {
     "data": {
      "image/png": "[encoded data removed]",
      "text/plain": [
       "<Figure size 1152x360 with 2 Axes>"
      ]
     },
     "metadata": {
      "needs_background": "light"
     },
     "output_type": "display_data"
    }
   ],
   "source": [
    "plt.figure(figsize=(16,5))\n",
    "ax1=plt.subplot(1, 2, 1)\n",
    "ax1.plot(training_log.loc[:,'epoch'], training_log.loc[:,'accuracy'], color='b', label='Train accuracy')\n",
    "ax1.plot(training_log.loc[:,'epoch'], training_log.loc[:,'val_accuracy'], color='r', label='Val accuracy')\n",
    "ax1.set(xlabel='Epochs', ylabel='Accuracy', title='Training Accuracy per epoch')\n",
    "ax1.legend(loc='upper right', frameon=True)\n",
    "\n",
    "ax2=plt.subplot(1, 2, 2)\n",
    "ax2.plot(training_log.loc[:,'epoch'], training_log.loc[:,'loss'], color='b', label='Train loss')\n",
    "ax2.plot(training_log.loc[:,'epoch'], training_log.loc[:,'val_loss'], color='r', label='Val loss')\n",
    "ax2.set(xlabel='Epochs', ylabel='Loss', title='Training Loss per epoch')\n",
    "ax2.legend(loc='upper right', frameon=True)\n",
    "\n",
    "plt.show()"
   ]
  },
  {
   "cell_type": "markdown",
   "metadata": {},
   "source": [
    "When epoch goes on, the training data get better accuracy and smaller loss, but for validation data, accuracy don't get well and the loss is getting bigger. So it seems that this model occurs overfitting."
   ]
  },
  {
   "cell_type": "markdown",
   "metadata": {},
   "source": [
    "---\n",
    "### ** >>> Exercise 7 (Take home): **  \n",
    "\n",
    "Now, we have the word vectors, but our input data is a sequence of words (or say sentence). \n",
    "How can we utilize these \"word\" vectors to represent the sentence data and train our model?\n"
   ]
  },
  {
   "cell_type": "markdown",
   "metadata": {},
   "source": [
    "#### Method1:\n",
    "to get a sentence vector, we can get every word's vector times with tfidf, which means the vector impact by importance and appearance frequency, and sum up together\n",
    "\n",
    "advantage: it will always be in a particular length, same with every word vector<br />\n",
    "disadvantage: summing might not get every word's meaning, and it may sum up to the vector of other word"
   ]
  },
  {
   "cell_type": "code",
   "execution_count": 35,
   "metadata": {},
   "outputs": [
    {
     "name": "stdout",
     "output_type": "stream",
     "text": [
      "Word2Vec training fininsh\n"
     ]
    }
   ],
   "source": [
    "## check library\n",
    "import gensim\n",
    "\n",
    "## ignore warnings\n",
    "import warnings\n",
    "warnings.filterwarnings('ignore')\n",
    "\n",
    "# # if you want to see the training messages, you can use it\n",
    "# import logging\n",
    "# logging.basicConfig(format='%(asctime)s : %(levelname)s : %(message)s', level=logging.INFO)\n",
    "\n",
    "## the input type\n",
    "train_df['text_tokenized'] = train_df['text'].apply(lambda x: nltk.word_tokenize(x))\n",
    "\n",
    "## create the training corpus\n",
    "training_corpus = train_df['text_tokenized'].values\n",
    "\n",
    "from gensim.models import Word2Vec\n",
    "\n",
    "## setting\n",
    "vector_dim = 100\n",
    "window_size = 5\n",
    "min_count = 1\n",
    "training_iter = 20\n",
    "\n",
    "## model\n",
    "word2vec_model = Word2Vec(sentences=training_corpus, \n",
    "                          size=vector_dim, window=window_size, \n",
    "                          min_count=min_count, iter=training_iter)\n",
    "print('Word2Vec training fininsh')"
   ]
  },
  {
   "cell_type": "code",
   "execution_count": 36,
   "metadata": {},
   "outputs": [
    {
     "data": {
      "text/html": [
       "<div>\n",
       "<style scoped>\n",
       "    .dataframe tbody tr th:only-of-type {\n",
       "        vertical-align: middle;\n",
       "    }\n",
       "\n",
       "    .dataframe tbody tr th {\n",
       "        vertical-align: top;\n",
       "    }\n",
       "\n",
       "    .dataframe thead th {\n",
       "        text-align: right;\n",
       "    }\n",
       "</style>\n",
       "<table border=\"1\" class=\"dataframe\">\n",
       "  <thead>\n",
       "    <tr style=\"text-align: right;\">\n",
       "      <th></th>\n",
       "      <th>id</th>\n",
       "      <th>text</th>\n",
       "      <th>text_tokenized</th>\n",
       "    </tr>\n",
       "  </thead>\n",
       "  <tbody>\n",
       "    <tr>\n",
       "      <th>1436</th>\n",
       "      <td>20579</td>\n",
       "      <td>#TerribleDebateQuestions Madame Secretary, isn...</td>\n",
       "      <td>[#, TerribleDebateQuestions, Madame, Secretary...</td>\n",
       "    </tr>\n",
       "    <tr>\n",
       "      <th>333</th>\n",
       "      <td>10333</td>\n",
       "      <td>@SapientSoldier timid but determined version o...</td>\n",
       "      <td>[@, SapientSoldier, timid, but, determined, ve...</td>\n",
       "    </tr>\n",
       "    <tr>\n",
       "      <th>2734</th>\n",
       "      <td>30730</td>\n",
       "      <td>@NebulaJoker No, they aren't. Episodes are ani...</td>\n",
       "      <td>[@, NebulaJoker, No, ,, they, are, n't, ., Epi...</td>\n",
       "    </tr>\n",
       "    <tr>\n",
       "      <th>3162</th>\n",
       "      <td>40335</td>\n",
       "      <td>@WestermannNina xDD it's a song that can not b...</td>\n",
       "      <td>[@, WestermannNina, xDD, it, 's, a, song, that...</td>\n",
       "    </tr>\n",
       "    <tr>\n",
       "      <th>283</th>\n",
       "      <td>10283</td>\n",
       "      <td>seek to conduct attacks against Israel, intend...</td>\n",
       "      <td>[seek, to, conduct, attacks, against, Israel, ...</td>\n",
       "    </tr>\n",
       "  </tbody>\n",
       "</table>\n",
       "</div>"
      ],
      "text/plain": [
       "         id                                               text  \\\n",
       "1436  20579  #TerribleDebateQuestions Madame Secretary, isn...   \n",
       "333   10333  @SapientSoldier timid but determined version o...   \n",
       "2734  30730  @NebulaJoker No, they aren't. Episodes are ani...   \n",
       "3162  40335  @WestermannNina xDD it's a song that can not b...   \n",
       "283   10283  seek to conduct attacks against Israel, intend...   \n",
       "\n",
       "                                         text_tokenized  \n",
       "1436  [#, TerribleDebateQuestions, Madame, Secretary...  \n",
       "333   [@, SapientSoldier, timid, but, determined, ve...  \n",
       "2734  [@, NebulaJoker, No, ,, they, are, n't, ., Epi...  \n",
       "3162  [@, WestermannNina, xDD, it, 's, a, song, that...  \n",
       "283   [seek, to, conduct, attacks, against, Israel, ...  "
      ]
     },
     "execution_count": 36,
     "metadata": {},
     "output_type": "execute_result"
    }
   ],
   "source": [
    "## the input type\n",
    "train_df['text_tokenized'] = train_df['text'].apply(lambda x: nltk.word_tokenize(x))\n",
    "train_df[['id', 'text', 'text_tokenized']].head()"
   ]
  },
  {
   "cell_type": "code",
   "execution_count": 37,
   "metadata": {},
   "outputs": [
    {
     "data": {
      "text/plain": [
       "(3613, 10785)"
      ]
     },
     "execution_count": 37,
     "metadata": {},
     "output_type": "execute_result"
    }
   ],
   "source": [
    "from sklearn.feature_extraction.text import TfidfVectorizer\n",
    "\n",
    "tfidf_vect = TfidfVectorizer(tokenizer=nltk.word_tokenize)\n",
    "data_tfidf = tfidf_vect.fit_transform(train_df['text'])\n",
    "data_tfidf.shape"
   ]
  },
  {
   "cell_type": "code",
   "execution_count": null,
   "metadata": {},
   "outputs": [],
   "source": [
    "#but it take too much time for summing, so I comment it here\n",
    "'''\n",
    "sentence_vec=np.zeros((len(train_df),100))\n",
    "i=0\n",
    "for sentence_token,sentence in zip(train_df.loc[:,'text_tokenized'], train_df.loc[:,'text']):\n",
    "    sentence_tfidf=tfidf_vect.transform([sentence])\n",
    "    count=0\n",
    "    for word in sentence_token:\n",
    "#        print(type(word),word)\n",
    "        ratio=0\n",
    "        if word.lower() in tfidf_vect.get_feature_names():\n",
    "            word_index=tfidf_vect.get_feature_names().index(word.lower())\n",
    "            ratio=sentence_tfidf.toarray()[0][word_index]\n",
    "            sentence_vec[i,:]=sentence_vec[i,:]+word2vec_model.wv[word]*ratio\n",
    "        count=count+1\n",
    "    \n",
    "    sentence_vec[i,:]=sentence_vec[i,:]/count\n",
    "    i=i+1\n",
    "'''"
   ]
  },
  {
   "cell_type": "markdown",
   "metadata": {},
   "source": [
    "#### Method2:\n",
    "concat every word's vector to a long series, so every vectors won't be change\n",
    "\n",
    "advantage: every word's vector will be as original, so it absolutely means the word and the sentence, won't change<br />\n",
    "disadvantage: it will get different length on different sentence, so we need cutting or padding to fit it in model."
   ]
  },
  {
   "cell_type": "code",
   "execution_count": 12,
   "metadata": {},
   "outputs": [
    {
     "name": "stdout",
     "output_type": "stream",
     "text": [
      "load ok\n"
     ]
    }
   ],
   "source": [
    "import gensim.downloader as api\n",
    "\n",
    "## If you see `SSL: CERTIFICATE_VERIFY_FAILED` error, use this:\n",
    "import ssl\n",
    "import urllib.request\n",
    "ssl._create_default_https_context = ssl._create_unverified_context\n",
    "\n",
    "glove_twitter_25_model = api.load(\"glove-twitter-25\")\n",
    "print('load ok')\n",
    "\n",
    "#glove_twitter_25_model.most_similar('happy', topn=10)"
   ]
  },
  {
   "cell_type": "code",
   "execution_count": 41,
   "metadata": {},
   "outputs": [],
   "source": [
    "vector_whole=[]\n",
    "for sentence_token,sentence in zip(train_df.loc[:,'text_tokenized'], train_df.loc[:,'text']):\n",
    "    sentence_vector=[]\n",
    "    for word in sentence_token:\n",
    "        if word in glove_twitter_25_model.wv:\n",
    "            sentence_vector.append(glove_twitter_25_model.wv[word])\n",
    "    vector_whole.append(sentence_vector)"
   ]
  },
  {
   "cell_type": "code",
   "execution_count": 42,
   "metadata": {
    "scrolled": false
   },
   "outputs": [],
   "source": [
    "max_seq_length=10\n",
    "#dim=25\n",
    "pad_vec = keras.preprocessing.sequence.pad_sequences(vector_whole, maxlen = max_seq_length,dtype=\"float32\", padding=\"post\", value = 0.0)"
   ]
  },
  {
   "cell_type": "code",
   "execution_count": 45,
   "metadata": {},
   "outputs": [],
   "source": [
    "#glove_twitter_25_model.vocab.keys()\n",
    "#glove_twitter_25_model.wv.vocab.keys()"
   ]
  },
  {
   "cell_type": "markdown",
   "metadata": {},
   "source": [
    "---\n",
    "### ** >>> Exercise 8 (Take home): **  \n",
    "\n",
    "Generate a t-SNE visualization to show the 15 words most related to the words \"angry\", \"happy\", \"sad\", \"fear\" (60 words total)."
   ]
  },
  {
   "cell_type": "code",
   "execution_count": 48,
   "metadata": {},
   "outputs": [
    {
     "name": "stdout",
     "output_type": "stream",
     "text": [
      "angry_words:  ['angry', 'glad', 'pleased', 'ecstatic', 'overjoyed', 'thrilled', 'satisfied', 'proud', 'delighted', 'disappointed', 'excited', 'happier', 'Said_Hirschbeck', 'elated', 'thankful', 'unhappy']\n",
      "happy_words:  ['happy', 'irate', 'enraged', 'indignant', 'incensed', 'annoyed', 'agitated', 'frustrated', 'furious', 'unhappy', 'outraged', 'livid', 'irritated', 'exasperated', 'angrier', 'Angry']\n",
      "sad_words:  ['sad', 'Data', 'datasets', 'dataset', 'databases', 'statistics', 'information', 'database', 'Data_System_IPEDS', 'data.The', 'OpenSpirit_enabled', 'datafeeds', 'microdata', 'operator_Telecity', 'GT_Datamaker', 'datawarehouse']\n",
      "fear_words:  ['fear', 'Mining', 'mines', 'coal_mining', 'mine', 'miner', 'uranium_mining', 'miners', 'Mountaintop_removal_coal', 'goldmining', 'alluvial_mining', 'Ok_Tedi_copper', 'uranium_mines', 'coal_mines', 'openpit_mining', 'Mines']\n"
     ]
    }
   ],
   "source": [
    "from gensim.models import KeyedVectors\n",
    "\n",
    "## Note: this model is very huge, this will take some time ...\n",
    "model_path = \"GoogleNews/GoogleNews-vectors-negative300.bin.gz\"\n",
    "w2v_google_model = KeyedVectors.load_word2vec_format(model_path, binary=True)\n",
    "\n",
    "word_list = ['angry', 'happy', 'sad', 'fear']\n",
    "\n",
    "topn = 15\n",
    "angry_words = ['angry'] + [word_ for word_, sim_ in w2v_google_model.most_similar('happy', topn=topn)]\n",
    "happy_words = ['happy'] + [word_ for word_, sim_ in w2v_google_model.most_similar('angry', topn=topn)]        \n",
    "sad_words = ['sad'] + [word_ for word_, sim_ in w2v_google_model.most_similar('data', topn=topn)]        \n",
    "fear_words = ['fear'] + [word_ for word_, sim_ in w2v_google_model.most_similar('mining', topn=topn)]        \n",
    "\n",
    "print('angry_words: ', angry_words)\n",
    "print('happy_words: ', happy_words)\n",
    "print('sad_words: ', sad_words)\n",
    "print('fear_words: ', fear_words)\n",
    "\n",
    "target_words = angry_words + happy_words + sad_words + fear_words\n",
    "#print('\\ntarget words: ')\n",
    "#print(target_words)\n",
    "\n",
    "#print('\\ncolor list:')\n",
    "cn = topn + 1\n",
    "color = ['b'] * cn + ['g'] * cn + ['r'] * cn + ['y'] * cn\n",
    "#print(color)"
   ]
  },
  {
   "cell_type": "code",
   "execution_count": 52,
   "metadata": {},
   "outputs": [
    {
     "data": {
      "image/png": "[encoded data removed]",
      "text/plain": [
       "<Figure size 862.5x862.5 with 1 Axes>"
      ]
     },
     "metadata": {
      "needs_background": "light"
     },
     "output_type": "display_data"
    }
   ],
   "source": [
    "%matplotlib inline\n",
    "import matplotlib.pyplot as plt\n",
    "from sklearn.manifold import TSNE\n",
    "\n",
    "## w2v model\n",
    "model = w2v_google_model\n",
    "\n",
    "## prepare training word vectors\n",
    "size = 200\n",
    "target_size = len(target_words)\n",
    "all_word = list(model.vocab.keys())\n",
    "word_train = target_words + all_word[:size]\n",
    "X_train = model[word_train]\n",
    "\n",
    "## t-SNE model\n",
    "tsne = TSNE(n_components=2, metric='cosine', random_state=28)\n",
    "\n",
    "## training\n",
    "X_tsne = tsne.fit_transform(X_train)\n",
    "\n",
    "## plot the result\n",
    "plt.figure(figsize=(7.5, 7.5), dpi=115)\n",
    "plt.scatter(X_tsne[:target_size, 0], X_tsne[:target_size, 1], c=color)\n",
    "for label, x, y in zip(target_words, X_tsne[:target_size, 0], X_tsne[:target_size, 1]):\n",
    "    plt.annotate(label, xy=(x,y), xytext=(0,0),  textcoords='offset points')\n",
    "plt.show()"
   ]
  },
  {
   "cell_type": "markdown",
   "metadata": {},
   "source": [
    "## Part 2. Twitter Emotion Competition\n",
    "See result on the top"
   ]
  },
  {
   "cell_type": "markdown",
   "metadata": {},
   "source": [
    "## Part 3. Work for the Competition"
   ]
  },
  {
   "cell_type": "markdown",
   "metadata": {},
   "source": [
    "### Data Preprocessing"
   ]
  },
  {
   "cell_type": "markdown",
   "metadata": {},
   "source": [
    "#### Comment\n",
    "When we download the dataset, we will get data_identification.csv, emotion.csv, tweets_DM.json <br />\n",
    "First, load the json file and change to dataframe type"
   ]
  },
  {
   "cell_type": "code",
   "execution_count": 3,
   "metadata": {},
   "outputs": [
    {
     "data": {
      "text/html": [
       "<div>\n",
       "<style scoped>\n",
       "    .dataframe tbody tr th:only-of-type {\n",
       "        vertical-align: middle;\n",
       "    }\n",
       "\n",
       "    .dataframe tbody tr th {\n",
       "        vertical-align: top;\n",
       "    }\n",
       "\n",
       "    .dataframe thead th {\n",
       "        text-align: right;\n",
       "    }\n",
       "</style>\n",
       "<table border=\"1\" class=\"dataframe\">\n",
       "  <thead>\n",
       "    <tr style=\"text-align: right;\">\n",
       "      <th></th>\n",
       "      <th>tweet_id</th>\n",
       "      <th>tweet_text</th>\n",
       "      <th>tweet_hashtag</th>\n",
       "      <th>tweet_score</th>\n",
       "      <th>tweet_date</th>\n",
       "    </tr>\n",
       "  </thead>\n",
       "  <tbody>\n",
       "    <tr>\n",
       "      <th>0</th>\n",
       "      <td>0x376b20</td>\n",
       "      <td>People who post \"add me on #Snapchat\" must be ...</td>\n",
       "      <td>[Snapchat]</td>\n",
       "      <td>391</td>\n",
       "      <td>2015-05-23 11:42:47</td>\n",
       "    </tr>\n",
       "    <tr>\n",
       "      <th>1</th>\n",
       "      <td>0x2d5350</td>\n",
       "      <td>@brianklaas As we see, Trump is dangerous to #...</td>\n",
       "      <td>[freepress, TrumpLegacy, CNN]</td>\n",
       "      <td>433</td>\n",
       "      <td>2016-01-28 04:52:09</td>\n",
       "    </tr>\n",
       "    <tr>\n",
       "      <th>2</th>\n",
       "      <td>0x28b412</td>\n",
       "      <td>Confident of your obedience, I write to you, k...</td>\n",
       "      <td>[bibleverse]</td>\n",
       "      <td>232</td>\n",
       "      <td>2017-12-25 04:39:20</td>\n",
       "    </tr>\n",
       "    <tr>\n",
       "      <th>3</th>\n",
       "      <td>0x1cd5b0</td>\n",
       "      <td>Now ISSA is stalking Tasha 😂😂😂 &lt;LH&gt;</td>\n",
       "      <td>[]</td>\n",
       "      <td>376</td>\n",
       "      <td>2016-01-24 23:53:05</td>\n",
       "    </tr>\n",
       "    <tr>\n",
       "      <th>4</th>\n",
       "      <td>0x2de201</td>\n",
       "      <td>\"Trust is not the same as faith. A friend is s...</td>\n",
       "      <td>[]</td>\n",
       "      <td>989</td>\n",
       "      <td>2016-01-08 17:18:59</td>\n",
       "    </tr>\n",
       "    <tr>\n",
       "      <th>...</th>\n",
       "      <td>...</td>\n",
       "      <td>...</td>\n",
       "      <td>...</td>\n",
       "      <td>...</td>\n",
       "      <td>...</td>\n",
       "    </tr>\n",
       "    <tr>\n",
       "      <th>1867530</th>\n",
       "      <td>0x316b80</td>\n",
       "      <td>When you buy the last 2 tickets remaining for ...</td>\n",
       "      <td>[mixedfeeling, butimTHATperson]</td>\n",
       "      <td>827</td>\n",
       "      <td>2015-05-12 12:51:52</td>\n",
       "    </tr>\n",
       "    <tr>\n",
       "      <th>1867531</th>\n",
       "      <td>0x29d0cb</td>\n",
       "      <td>I swear all this hard work gone pay off one da...</td>\n",
       "      <td>[]</td>\n",
       "      <td>368</td>\n",
       "      <td>2017-10-02 17:54:04</td>\n",
       "    </tr>\n",
       "    <tr>\n",
       "      <th>1867532</th>\n",
       "      <td>0x2a6a4f</td>\n",
       "      <td>@Parcel2Go no card left when I wasn't in so I ...</td>\n",
       "      <td>[]</td>\n",
       "      <td>498</td>\n",
       "      <td>2016-10-10 11:04:32</td>\n",
       "    </tr>\n",
       "    <tr>\n",
       "      <th>1867533</th>\n",
       "      <td>0x24faed</td>\n",
       "      <td>Ah, corporate life, where you can date &lt;LH&gt; us...</td>\n",
       "      <td>[]</td>\n",
       "      <td>840</td>\n",
       "      <td>2016-09-02 14:25:06</td>\n",
       "    </tr>\n",
       "    <tr>\n",
       "      <th>1867534</th>\n",
       "      <td>0x34be8c</td>\n",
       "      <td>Blessed to be living #Sundayvibes &lt;LH&gt;</td>\n",
       "      <td>[Sundayvibes]</td>\n",
       "      <td>360</td>\n",
       "      <td>2016-11-16 01:40:07</td>\n",
       "    </tr>\n",
       "  </tbody>\n",
       "</table>\n",
       "<p>1867535 rows × 5 columns</p>\n",
       "</div>"
      ],
      "text/plain": [
       "         tweet_id                                         tweet_text  \\\n",
       "0        0x376b20  People who post \"add me on #Snapchat\" must be ...   \n",
       "1        0x2d5350  @brianklaas As we see, Trump is dangerous to #...   \n",
       "2        0x28b412  Confident of your obedience, I write to you, k...   \n",
       "3        0x1cd5b0                Now ISSA is stalking Tasha 😂😂😂 <LH>   \n",
       "4        0x2de201  \"Trust is not the same as faith. A friend is s...   \n",
       "...           ...                                                ...   \n",
       "1867530  0x316b80  When you buy the last 2 tickets remaining for ...   \n",
       "1867531  0x29d0cb  I swear all this hard work gone pay off one da...   \n",
       "1867532  0x2a6a4f  @Parcel2Go no card left when I wasn't in so I ...   \n",
       "1867533  0x24faed  Ah, corporate life, where you can date <LH> us...   \n",
       "1867534  0x34be8c             Blessed to be living #Sundayvibes <LH>   \n",
       "\n",
       "                           tweet_hashtag  tweet_score           tweet_date  \n",
       "0                             [Snapchat]          391  2015-05-23 11:42:47  \n",
       "1          [freepress, TrumpLegacy, CNN]          433  2016-01-28 04:52:09  \n",
       "2                           [bibleverse]          232  2017-12-25 04:39:20  \n",
       "3                                     []          376  2016-01-24 23:53:05  \n",
       "4                                     []          989  2016-01-08 17:18:59  \n",
       "...                                  ...          ...                  ...  \n",
       "1867530  [mixedfeeling, butimTHATperson]          827  2015-05-12 12:51:52  \n",
       "1867531                               []          368  2017-10-02 17:54:04  \n",
       "1867532                               []          498  2016-10-10 11:04:32  \n",
       "1867533                               []          840  2016-09-02 14:25:06  \n",
       "1867534                    [Sundayvibes]          360  2016-11-16 01:40:07  \n",
       "\n",
       "[1867535 rows x 5 columns]"
      ]
     },
     "execution_count": 3,
     "metadata": {},
     "output_type": "execute_result"
    }
   ],
   "source": [
    "import json\n",
    "tweets = []\n",
    "for line in open('data/tweets_DM.json', 'r'):\n",
    "    tweets.append(json.loads(line))\n",
    "    \n",
    "tweet_id=[]\n",
    "tweet_text=[]\n",
    "tweet_hashtag=[]\n",
    "tweet_score=[]\n",
    "tweet_date=[]\n",
    "\n",
    "for i in range(len(tweets)):\n",
    "    tweet_id.append(tweets[i]['_source']['tweet']['tweet_id'])\n",
    "    tweet_text.append(tweets[i]['_source']['tweet']['text'])\n",
    "    tweet_hashtag.append(tweets[i]['_source']['tweet']['hashtags'])\n",
    "    tweet_score.append(tweets[i]['_score'])\n",
    "    tweet_date.append(tweets[i]['_crawldate'])\n",
    "    \n",
    "import pandas as pd\n",
    "\n",
    "tweet_df=pd.DataFrame()\n",
    "tweet_df['tweet_id']=tweet_id\n",
    "tweet_df['tweet_text']=tweet_text\n",
    "tweet_df['tweet_hashtag']=tweet_hashtag\n",
    "tweet_df['tweet_score']=tweet_score\n",
    "tweet_df['tweet_date']=tweet_date\n",
    "\n",
    "tweet_df"
   ]
  },
  {
   "cell_type": "code",
   "execution_count": 4,
   "metadata": {},
   "outputs": [
    {
     "data": {
      "text/html": [
       "<div>\n",
       "<style scoped>\n",
       "    .dataframe tbody tr th:only-of-type {\n",
       "        vertical-align: middle;\n",
       "    }\n",
       "\n",
       "    .dataframe tbody tr th {\n",
       "        vertical-align: top;\n",
       "    }\n",
       "\n",
       "    .dataframe thead th {\n",
       "        text-align: right;\n",
       "    }\n",
       "</style>\n",
       "<table border=\"1\" class=\"dataframe\">\n",
       "  <thead>\n",
       "    <tr style=\"text-align: right;\">\n",
       "      <th></th>\n",
       "      <th>tweet_id</th>\n",
       "      <th>identification</th>\n",
       "    </tr>\n",
       "  </thead>\n",
       "  <tbody>\n",
       "    <tr>\n",
       "      <th>0</th>\n",
       "      <td>0x28cc61</td>\n",
       "      <td>test</td>\n",
       "    </tr>\n",
       "    <tr>\n",
       "      <th>1</th>\n",
       "      <td>0x29e452</td>\n",
       "      <td>train</td>\n",
       "    </tr>\n",
       "    <tr>\n",
       "      <th>2</th>\n",
       "      <td>0x2b3819</td>\n",
       "      <td>train</td>\n",
       "    </tr>\n",
       "    <tr>\n",
       "      <th>3</th>\n",
       "      <td>0x2db41f</td>\n",
       "      <td>test</td>\n",
       "    </tr>\n",
       "    <tr>\n",
       "      <th>4</th>\n",
       "      <td>0x2a2acc</td>\n",
       "      <td>train</td>\n",
       "    </tr>\n",
       "    <tr>\n",
       "      <th>...</th>\n",
       "      <td>...</td>\n",
       "      <td>...</td>\n",
       "    </tr>\n",
       "    <tr>\n",
       "      <th>1867530</th>\n",
       "      <td>0x227e25</td>\n",
       "      <td>train</td>\n",
       "    </tr>\n",
       "    <tr>\n",
       "      <th>1867531</th>\n",
       "      <td>0x293813</td>\n",
       "      <td>train</td>\n",
       "    </tr>\n",
       "    <tr>\n",
       "      <th>1867532</th>\n",
       "      <td>0x1e1a7e</td>\n",
       "      <td>train</td>\n",
       "    </tr>\n",
       "    <tr>\n",
       "      <th>1867533</th>\n",
       "      <td>0x2156a5</td>\n",
       "      <td>train</td>\n",
       "    </tr>\n",
       "    <tr>\n",
       "      <th>1867534</th>\n",
       "      <td>0x2bb9d2</td>\n",
       "      <td>train</td>\n",
       "    </tr>\n",
       "  </tbody>\n",
       "</table>\n",
       "<p>1867535 rows × 2 columns</p>\n",
       "</div>"
      ],
      "text/plain": [
       "         tweet_id identification\n",
       "0        0x28cc61           test\n",
       "1        0x29e452          train\n",
       "2        0x2b3819          train\n",
       "3        0x2db41f           test\n",
       "4        0x2a2acc          train\n",
       "...           ...            ...\n",
       "1867530  0x227e25          train\n",
       "1867531  0x293813          train\n",
       "1867532  0x1e1a7e          train\n",
       "1867533  0x2156a5          train\n",
       "1867534  0x2bb9d2          train\n",
       "\n",
       "[1867535 rows x 2 columns]"
      ]
     },
     "execution_count": 4,
     "metadata": {},
     "output_type": "execute_result"
    }
   ],
   "source": [
    "data_identification = pd.read_csv(\"data/data_identification.csv\")\n",
    "data_identification"
   ]
  },
  {
   "cell_type": "code",
   "execution_count": 5,
   "metadata": {},
   "outputs": [
    {
     "data": {
      "text/html": [
       "<div>\n",
       "<style scoped>\n",
       "    .dataframe tbody tr th:only-of-type {\n",
       "        vertical-align: middle;\n",
       "    }\n",
       "\n",
       "    .dataframe tbody tr th {\n",
       "        vertical-align: top;\n",
       "    }\n",
       "\n",
       "    .dataframe thead th {\n",
       "        text-align: right;\n",
       "    }\n",
       "</style>\n",
       "<table border=\"1\" class=\"dataframe\">\n",
       "  <thead>\n",
       "    <tr style=\"text-align: right;\">\n",
       "      <th></th>\n",
       "      <th>tweet_id</th>\n",
       "      <th>emotion</th>\n",
       "    </tr>\n",
       "  </thead>\n",
       "  <tbody>\n",
       "    <tr>\n",
       "      <th>0</th>\n",
       "      <td>0x3140b1</td>\n",
       "      <td>sadness</td>\n",
       "    </tr>\n",
       "    <tr>\n",
       "      <th>1</th>\n",
       "      <td>0x368b73</td>\n",
       "      <td>disgust</td>\n",
       "    </tr>\n",
       "    <tr>\n",
       "      <th>2</th>\n",
       "      <td>0x296183</td>\n",
       "      <td>anticipation</td>\n",
       "    </tr>\n",
       "    <tr>\n",
       "      <th>3</th>\n",
       "      <td>0x2bd6e1</td>\n",
       "      <td>joy</td>\n",
       "    </tr>\n",
       "    <tr>\n",
       "      <th>4</th>\n",
       "      <td>0x2ee1dd</td>\n",
       "      <td>anticipation</td>\n",
       "    </tr>\n",
       "    <tr>\n",
       "      <th>...</th>\n",
       "      <td>...</td>\n",
       "      <td>...</td>\n",
       "    </tr>\n",
       "    <tr>\n",
       "      <th>1455558</th>\n",
       "      <td>0x38dba0</td>\n",
       "      <td>joy</td>\n",
       "    </tr>\n",
       "    <tr>\n",
       "      <th>1455559</th>\n",
       "      <td>0x300ea2</td>\n",
       "      <td>joy</td>\n",
       "    </tr>\n",
       "    <tr>\n",
       "      <th>1455560</th>\n",
       "      <td>0x360b99</td>\n",
       "      <td>fear</td>\n",
       "    </tr>\n",
       "    <tr>\n",
       "      <th>1455561</th>\n",
       "      <td>0x22eecf</td>\n",
       "      <td>joy</td>\n",
       "    </tr>\n",
       "    <tr>\n",
       "      <th>1455562</th>\n",
       "      <td>0x2fb282</td>\n",
       "      <td>anticipation</td>\n",
       "    </tr>\n",
       "  </tbody>\n",
       "</table>\n",
       "<p>1455563 rows × 2 columns</p>\n",
       "</div>"
      ],
      "text/plain": [
       "         tweet_id       emotion\n",
       "0        0x3140b1       sadness\n",
       "1        0x368b73       disgust\n",
       "2        0x296183  anticipation\n",
       "3        0x2bd6e1           joy\n",
       "4        0x2ee1dd  anticipation\n",
       "...           ...           ...\n",
       "1455558  0x38dba0           joy\n",
       "1455559  0x300ea2           joy\n",
       "1455560  0x360b99          fear\n",
       "1455561  0x22eecf           joy\n",
       "1455562  0x2fb282  anticipation\n",
       "\n",
       "[1455563 rows x 2 columns]"
      ]
     },
     "execution_count": 5,
     "metadata": {},
     "output_type": "execute_result"
    }
   ],
   "source": [
    "data_emotion = pd.read_csv(\"data/emotion.csv\")\n",
    "data_emotion"
   ]
  },
  {
   "cell_type": "markdown",
   "metadata": {},
   "source": [
    "#### Comment\n",
    "After loading 3 files, we can find that tweet and identification contain both train and test, emotion has only train of course.<br \\>\n",
    "But the order are not the same so we need to sort them to same order to combine them."
   ]
  },
  {
   "cell_type": "code",
   "execution_count": 6,
   "metadata": {},
   "outputs": [
    {
     "data": {
      "text/html": [
       "<div>\n",
       "<style scoped>\n",
       "    .dataframe tbody tr th:only-of-type {\n",
       "        vertical-align: middle;\n",
       "    }\n",
       "\n",
       "    .dataframe tbody tr th {\n",
       "        vertical-align: top;\n",
       "    }\n",
       "\n",
       "    .dataframe thead th {\n",
       "        text-align: right;\n",
       "    }\n",
       "</style>\n",
       "<table border=\"1\" class=\"dataframe\">\n",
       "  <thead>\n",
       "    <tr style=\"text-align: right;\">\n",
       "      <th></th>\n",
       "      <th>tweet_id</th>\n",
       "      <th>tweet_text</th>\n",
       "      <th>tweet_hashtag</th>\n",
       "      <th>tweet_score</th>\n",
       "      <th>tweet_date</th>\n",
       "    </tr>\n",
       "  </thead>\n",
       "  <tbody>\n",
       "    <tr>\n",
       "      <th>0</th>\n",
       "      <td>0x1c7f0f</td>\n",
       "      <td>@JZED74 While inappropriate AF, he likely wasn...</td>\n",
       "      <td>[]</td>\n",
       "      <td>62</td>\n",
       "      <td>2017-05-14 11:39:43</td>\n",
       "    </tr>\n",
       "    <tr>\n",
       "      <th>1</th>\n",
       "      <td>0x1c7f10</td>\n",
       "      <td>o m g Shut Up And Dance though #BlackMirror &lt;LH&gt;</td>\n",
       "      <td>[BlackMirror]</td>\n",
       "      <td>242</td>\n",
       "      <td>2015-05-16 10:36:47</td>\n",
       "    </tr>\n",
       "    <tr>\n",
       "      <th>2</th>\n",
       "      <td>0x1c7f11</td>\n",
       "      <td>On #twitch &lt;LH&gt; on the #Destinybeta #Destiny #...</td>\n",
       "      <td>[twitch, Destinybeta, Destiny, Destiny2, Desti...</td>\n",
       "      <td>915</td>\n",
       "      <td>2016-10-15 20:46:37</td>\n",
       "    </tr>\n",
       "    <tr>\n",
       "      <th>3</th>\n",
       "      <td>0x1c7f12</td>\n",
       "      <td>I tried to figure out why you mean so much to ...</td>\n",
       "      <td>[]</td>\n",
       "      <td>756</td>\n",
       "      <td>2016-02-14 15:55:45</td>\n",
       "    </tr>\n",
       "    <tr>\n",
       "      <th>4</th>\n",
       "      <td>0x1c7f13</td>\n",
       "      <td>The only “big plan” you ever had in your life,...</td>\n",
       "      <td>[auspol, fizza]</td>\n",
       "      <td>213</td>\n",
       "      <td>2016-07-25 17:05:35</td>\n",
       "    </tr>\n",
       "    <tr>\n",
       "      <th>...</th>\n",
       "      <td>...</td>\n",
       "      <td>...</td>\n",
       "      <td>...</td>\n",
       "      <td>...</td>\n",
       "      <td>...</td>\n",
       "    </tr>\n",
       "    <tr>\n",
       "      <th>1867530</th>\n",
       "      <td>0x38fe19</td>\n",
       "      <td>Where is #WesHoolahan?!  #WALvIRL #COYBIG &lt;LH&gt;</td>\n",
       "      <td>[WesHoolahan, WALvIRL, COYBIG]</td>\n",
       "      <td>77</td>\n",
       "      <td>2015-02-01 18:04:28</td>\n",
       "    </tr>\n",
       "    <tr>\n",
       "      <th>1867531</th>\n",
       "      <td>0x38fe1a</td>\n",
       "      <td>@mattmfm Fake news! &lt;LH&gt; propagated by Tumpkin...</td>\n",
       "      <td>[not, maga]</td>\n",
       "      <td>25</td>\n",
       "      <td>2016-12-20 17:19:58</td>\n",
       "    </tr>\n",
       "    <tr>\n",
       "      <th>1867532</th>\n",
       "      <td>0x38fe1b</td>\n",
       "      <td>I told myself I'd be twitter famous. twitter m...</td>\n",
       "      <td>[]</td>\n",
       "      <td>611</td>\n",
       "      <td>2016-02-14 03:24:55</td>\n",
       "    </tr>\n",
       "    <tr>\n",
       "      <th>1867533</th>\n",
       "      <td>0x38fe1c</td>\n",
       "      <td>..today was brutal  ..#Hungover</td>\n",
       "      <td>[]</td>\n",
       "      <td>639</td>\n",
       "      <td>2016-09-13 06:31:27</td>\n",
       "    </tr>\n",
       "    <tr>\n",
       "      <th>1867534</th>\n",
       "      <td>0x38fe1d</td>\n",
       "      <td>Love it when I sun burn my forehead!! NOT!! 😫😱...</td>\n",
       "      <td>[redheadproblems, ouch, burnt]</td>\n",
       "      <td>630</td>\n",
       "      <td>2016-09-19 14:35:01</td>\n",
       "    </tr>\n",
       "  </tbody>\n",
       "</table>\n",
       "<p>1867535 rows × 5 columns</p>\n",
       "</div>"
      ],
      "text/plain": [
       "         tweet_id                                         tweet_text  \\\n",
       "0        0x1c7f0f  @JZED74 While inappropriate AF, he likely wasn...   \n",
       "1        0x1c7f10   o m g Shut Up And Dance though #BlackMirror <LH>   \n",
       "2        0x1c7f11  On #twitch <LH> on the #Destinybeta #Destiny #...   \n",
       "3        0x1c7f12  I tried to figure out why you mean so much to ...   \n",
       "4        0x1c7f13  The only “big plan” you ever had in your life,...   \n",
       "...           ...                                                ...   \n",
       "1867530  0x38fe19     Where is #WesHoolahan?!  #WALvIRL #COYBIG <LH>   \n",
       "1867531  0x38fe1a  @mattmfm Fake news! <LH> propagated by Tumpkin...   \n",
       "1867532  0x38fe1b  I told myself I'd be twitter famous. twitter m...   \n",
       "1867533  0x38fe1c                    ..today was brutal  ..#Hungover   \n",
       "1867534  0x38fe1d  Love it when I sun burn my forehead!! NOT!! 😫😱...   \n",
       "\n",
       "                                             tweet_hashtag  tweet_score  \\\n",
       "0                                                       []           62   \n",
       "1                                            [BlackMirror]          242   \n",
       "2        [twitch, Destinybeta, Destiny, Destiny2, Desti...          915   \n",
       "3                                                       []          756   \n",
       "4                                          [auspol, fizza]          213   \n",
       "...                                                    ...          ...   \n",
       "1867530                     [WesHoolahan, WALvIRL, COYBIG]           77   \n",
       "1867531                                        [not, maga]           25   \n",
       "1867532                                                 []          611   \n",
       "1867533                                                 []          639   \n",
       "1867534                     [redheadproblems, ouch, burnt]          630   \n",
       "\n",
       "                  tweet_date  \n",
       "0        2017-05-14 11:39:43  \n",
       "1        2015-05-16 10:36:47  \n",
       "2        2016-10-15 20:46:37  \n",
       "3        2016-02-14 15:55:45  \n",
       "4        2016-07-25 17:05:35  \n",
       "...                      ...  \n",
       "1867530  2015-02-01 18:04:28  \n",
       "1867531  2016-12-20 17:19:58  \n",
       "1867532  2016-02-14 03:24:55  \n",
       "1867533  2016-09-13 06:31:27  \n",
       "1867534  2016-09-19 14:35:01  \n",
       "\n",
       "[1867535 rows x 5 columns]"
      ]
     },
     "execution_count": 6,
     "metadata": {},
     "output_type": "execute_result"
    }
   ],
   "source": [
    "sort_tweet=tweet_df.sort_values(by=['tweet_id'])\n",
    "sort_tweet=sort_tweet.reset_index(drop=True)\n",
    "sort_tweet"
   ]
  },
  {
   "cell_type": "code",
   "execution_count": 7,
   "metadata": {},
   "outputs": [
    {
     "data": {
      "text/html": [
       "<div>\n",
       "<style scoped>\n",
       "    .dataframe tbody tr th:only-of-type {\n",
       "        vertical-align: middle;\n",
       "    }\n",
       "\n",
       "    .dataframe tbody tr th {\n",
       "        vertical-align: top;\n",
       "    }\n",
       "\n",
       "    .dataframe thead th {\n",
       "        text-align: right;\n",
       "    }\n",
       "</style>\n",
       "<table border=\"1\" class=\"dataframe\">\n",
       "  <thead>\n",
       "    <tr style=\"text-align: right;\">\n",
       "      <th></th>\n",
       "      <th>tweet_id</th>\n",
       "      <th>identification</th>\n",
       "    </tr>\n",
       "  </thead>\n",
       "  <tbody>\n",
       "    <tr>\n",
       "      <th>0</th>\n",
       "      <td>0x1c7f0f</td>\n",
       "      <td>test</td>\n",
       "    </tr>\n",
       "    <tr>\n",
       "      <th>1</th>\n",
       "      <td>0x1c7f10</td>\n",
       "      <td>train</td>\n",
       "    </tr>\n",
       "    <tr>\n",
       "      <th>2</th>\n",
       "      <td>0x1c7f11</td>\n",
       "      <td>train</td>\n",
       "    </tr>\n",
       "    <tr>\n",
       "      <th>3</th>\n",
       "      <td>0x1c7f12</td>\n",
       "      <td>test</td>\n",
       "    </tr>\n",
       "    <tr>\n",
       "      <th>4</th>\n",
       "      <td>0x1c7f13</td>\n",
       "      <td>test</td>\n",
       "    </tr>\n",
       "    <tr>\n",
       "      <th>...</th>\n",
       "      <td>...</td>\n",
       "      <td>...</td>\n",
       "    </tr>\n",
       "    <tr>\n",
       "      <th>1867530</th>\n",
       "      <td>0x38fe19</td>\n",
       "      <td>train</td>\n",
       "    </tr>\n",
       "    <tr>\n",
       "      <th>1867531</th>\n",
       "      <td>0x38fe1a</td>\n",
       "      <td>train</td>\n",
       "    </tr>\n",
       "    <tr>\n",
       "      <th>1867532</th>\n",
       "      <td>0x38fe1b</td>\n",
       "      <td>test</td>\n",
       "    </tr>\n",
       "    <tr>\n",
       "      <th>1867533</th>\n",
       "      <td>0x38fe1c</td>\n",
       "      <td>train</td>\n",
       "    </tr>\n",
       "    <tr>\n",
       "      <th>1867534</th>\n",
       "      <td>0x38fe1d</td>\n",
       "      <td>train</td>\n",
       "    </tr>\n",
       "  </tbody>\n",
       "</table>\n",
       "<p>1867535 rows × 2 columns</p>\n",
       "</div>"
      ],
      "text/plain": [
       "         tweet_id identification\n",
       "0        0x1c7f0f           test\n",
       "1        0x1c7f10          train\n",
       "2        0x1c7f11          train\n",
       "3        0x1c7f12           test\n",
       "4        0x1c7f13           test\n",
       "...           ...            ...\n",
       "1867530  0x38fe19          train\n",
       "1867531  0x38fe1a          train\n",
       "1867532  0x38fe1b           test\n",
       "1867533  0x38fe1c          train\n",
       "1867534  0x38fe1d          train\n",
       "\n",
       "[1867535 rows x 2 columns]"
      ]
     },
     "execution_count": 7,
     "metadata": {},
     "output_type": "execute_result"
    }
   ],
   "source": [
    "sort_ident=data_identification.sort_values(by=['tweet_id'])\n",
    "sort_ident=sort_ident.reset_index(drop=True)\n",
    "sort_ident"
   ]
  },
  {
   "cell_type": "code",
   "execution_count": 8,
   "metadata": {},
   "outputs": [
    {
     "data": {
      "text/html": [
       "<div>\n",
       "<style scoped>\n",
       "    .dataframe tbody tr th:only-of-type {\n",
       "        vertical-align: middle;\n",
       "    }\n",
       "\n",
       "    .dataframe tbody tr th {\n",
       "        vertical-align: top;\n",
       "    }\n",
       "\n",
       "    .dataframe thead th {\n",
       "        text-align: right;\n",
       "    }\n",
       "</style>\n",
       "<table border=\"1\" class=\"dataframe\">\n",
       "  <thead>\n",
       "    <tr style=\"text-align: right;\">\n",
       "      <th></th>\n",
       "      <th>tweet_id</th>\n",
       "      <th>tweet_text</th>\n",
       "      <th>tweet_hashtag</th>\n",
       "      <th>tweet_score</th>\n",
       "      <th>tweet_date</th>\n",
       "      <th>identification</th>\n",
       "    </tr>\n",
       "  </thead>\n",
       "  <tbody>\n",
       "    <tr>\n",
       "      <th>0</th>\n",
       "      <td>0x1c7f0f</td>\n",
       "      <td>@JZED74 While inappropriate AF, he likely wasn...</td>\n",
       "      <td>[]</td>\n",
       "      <td>62</td>\n",
       "      <td>2017-05-14 11:39:43</td>\n",
       "      <td>test</td>\n",
       "    </tr>\n",
       "    <tr>\n",
       "      <th>1</th>\n",
       "      <td>0x1c7f10</td>\n",
       "      <td>o m g Shut Up And Dance though #BlackMirror &lt;LH&gt;</td>\n",
       "      <td>[BlackMirror]</td>\n",
       "      <td>242</td>\n",
       "      <td>2015-05-16 10:36:47</td>\n",
       "      <td>train</td>\n",
       "    </tr>\n",
       "    <tr>\n",
       "      <th>2</th>\n",
       "      <td>0x1c7f11</td>\n",
       "      <td>On #twitch &lt;LH&gt; on the #Destinybeta #Destiny #...</td>\n",
       "      <td>[twitch, Destinybeta, Destiny, Destiny2, Desti...</td>\n",
       "      <td>915</td>\n",
       "      <td>2016-10-15 20:46:37</td>\n",
       "      <td>train</td>\n",
       "    </tr>\n",
       "    <tr>\n",
       "      <th>3</th>\n",
       "      <td>0x1c7f12</td>\n",
       "      <td>I tried to figure out why you mean so much to ...</td>\n",
       "      <td>[]</td>\n",
       "      <td>756</td>\n",
       "      <td>2016-02-14 15:55:45</td>\n",
       "      <td>test</td>\n",
       "    </tr>\n",
       "    <tr>\n",
       "      <th>4</th>\n",
       "      <td>0x1c7f13</td>\n",
       "      <td>The only “big plan” you ever had in your life,...</td>\n",
       "      <td>[auspol, fizza]</td>\n",
       "      <td>213</td>\n",
       "      <td>2016-07-25 17:05:35</td>\n",
       "      <td>test</td>\n",
       "    </tr>\n",
       "    <tr>\n",
       "      <th>...</th>\n",
       "      <td>...</td>\n",
       "      <td>...</td>\n",
       "      <td>...</td>\n",
       "      <td>...</td>\n",
       "      <td>...</td>\n",
       "      <td>...</td>\n",
       "    </tr>\n",
       "    <tr>\n",
       "      <th>1867530</th>\n",
       "      <td>0x38fe19</td>\n",
       "      <td>Where is #WesHoolahan?!  #WALvIRL #COYBIG &lt;LH&gt;</td>\n",
       "      <td>[WesHoolahan, WALvIRL, COYBIG]</td>\n",
       "      <td>77</td>\n",
       "      <td>2015-02-01 18:04:28</td>\n",
       "      <td>train</td>\n",
       "    </tr>\n",
       "    <tr>\n",
       "      <th>1867531</th>\n",
       "      <td>0x38fe1a</td>\n",
       "      <td>@mattmfm Fake news! &lt;LH&gt; propagated by Tumpkin...</td>\n",
       "      <td>[not, maga]</td>\n",
       "      <td>25</td>\n",
       "      <td>2016-12-20 17:19:58</td>\n",
       "      <td>train</td>\n",
       "    </tr>\n",
       "    <tr>\n",
       "      <th>1867532</th>\n",
       "      <td>0x38fe1b</td>\n",
       "      <td>I told myself I'd be twitter famous. twitter m...</td>\n",
       "      <td>[]</td>\n",
       "      <td>611</td>\n",
       "      <td>2016-02-14 03:24:55</td>\n",
       "      <td>test</td>\n",
       "    </tr>\n",
       "    <tr>\n",
       "      <th>1867533</th>\n",
       "      <td>0x38fe1c</td>\n",
       "      <td>..today was brutal  ..#Hungover</td>\n",
       "      <td>[]</td>\n",
       "      <td>639</td>\n",
       "      <td>2016-09-13 06:31:27</td>\n",
       "      <td>train</td>\n",
       "    </tr>\n",
       "    <tr>\n",
       "      <th>1867534</th>\n",
       "      <td>0x38fe1d</td>\n",
       "      <td>Love it when I sun burn my forehead!! NOT!! 😫😱...</td>\n",
       "      <td>[redheadproblems, ouch, burnt]</td>\n",
       "      <td>630</td>\n",
       "      <td>2016-09-19 14:35:01</td>\n",
       "      <td>train</td>\n",
       "    </tr>\n",
       "  </tbody>\n",
       "</table>\n",
       "<p>1867535 rows × 6 columns</p>\n",
       "</div>"
      ],
      "text/plain": [
       "         tweet_id                                         tweet_text  \\\n",
       "0        0x1c7f0f  @JZED74 While inappropriate AF, he likely wasn...   \n",
       "1        0x1c7f10   o m g Shut Up And Dance though #BlackMirror <LH>   \n",
       "2        0x1c7f11  On #twitch <LH> on the #Destinybeta #Destiny #...   \n",
       "3        0x1c7f12  I tried to figure out why you mean so much to ...   \n",
       "4        0x1c7f13  The only “big plan” you ever had in your life,...   \n",
       "...           ...                                                ...   \n",
       "1867530  0x38fe19     Where is #WesHoolahan?!  #WALvIRL #COYBIG <LH>   \n",
       "1867531  0x38fe1a  @mattmfm Fake news! <LH> propagated by Tumpkin...   \n",
       "1867532  0x38fe1b  I told myself I'd be twitter famous. twitter m...   \n",
       "1867533  0x38fe1c                    ..today was brutal  ..#Hungover   \n",
       "1867534  0x38fe1d  Love it when I sun burn my forehead!! NOT!! 😫😱...   \n",
       "\n",
       "                                             tweet_hashtag  tweet_score  \\\n",
       "0                                                       []           62   \n",
       "1                                            [BlackMirror]          242   \n",
       "2        [twitch, Destinybeta, Destiny, Destiny2, Desti...          915   \n",
       "3                                                       []          756   \n",
       "4                                          [auspol, fizza]          213   \n",
       "...                                                    ...          ...   \n",
       "1867530                     [WesHoolahan, WALvIRL, COYBIG]           77   \n",
       "1867531                                        [not, maga]           25   \n",
       "1867532                                                 []          611   \n",
       "1867533                                                 []          639   \n",
       "1867534                     [redheadproblems, ouch, burnt]          630   \n",
       "\n",
       "                  tweet_date identification  \n",
       "0        2017-05-14 11:39:43           test  \n",
       "1        2015-05-16 10:36:47          train  \n",
       "2        2016-10-15 20:46:37          train  \n",
       "3        2016-02-14 15:55:45           test  \n",
       "4        2016-07-25 17:05:35           test  \n",
       "...                      ...            ...  \n",
       "1867530  2015-02-01 18:04:28          train  \n",
       "1867531  2016-12-20 17:19:58          train  \n",
       "1867532  2016-02-14 03:24:55           test  \n",
       "1867533  2016-09-13 06:31:27          train  \n",
       "1867534  2016-09-19 14:35:01          train  \n",
       "\n",
       "[1867535 rows x 6 columns]"
      ]
     },
     "execution_count": 8,
     "metadata": {},
     "output_type": "execute_result"
    }
   ],
   "source": [
    "sort_tweet['identification']=sort_ident['identification']\n",
    "sort_tweet"
   ]
  },
  {
   "cell_type": "markdown",
   "metadata": {},
   "source": [
    "#### Comment\n",
    "After combining the tweet and identification, we can seperate them to training data and testing data.<br />\n",
    "For training data we can combine with the emotion."
   ]
  },
  {
   "cell_type": "code",
   "execution_count": 9,
   "metadata": {},
   "outputs": [],
   "source": [
    "train_tweet=sort_tweet[ sort_tweet.loc[:,'identification']=='train' ]\n",
    "test_tweet=sort_tweet[ sort_tweet.loc[:,'identification']=='test' ]"
   ]
  },
  {
   "cell_type": "code",
   "execution_count": 10,
   "metadata": {},
   "outputs": [
    {
     "data": {
      "text/html": [
       "<div>\n",
       "<style scoped>\n",
       "    .dataframe tbody tr th:only-of-type {\n",
       "        vertical-align: middle;\n",
       "    }\n",
       "\n",
       "    .dataframe tbody tr th {\n",
       "        vertical-align: top;\n",
       "    }\n",
       "\n",
       "    .dataframe thead th {\n",
       "        text-align: right;\n",
       "    }\n",
       "</style>\n",
       "<table border=\"1\" class=\"dataframe\">\n",
       "  <thead>\n",
       "    <tr style=\"text-align: right;\">\n",
       "      <th></th>\n",
       "      <th>tweet_id</th>\n",
       "      <th>tweet_text</th>\n",
       "      <th>tweet_hashtag</th>\n",
       "      <th>tweet_score</th>\n",
       "      <th>tweet_date</th>\n",
       "      <th>identification</th>\n",
       "    </tr>\n",
       "  </thead>\n",
       "  <tbody>\n",
       "    <tr>\n",
       "      <th>0</th>\n",
       "      <td>0x1c7f10</td>\n",
       "      <td>o m g Shut Up And Dance though #BlackMirror &lt;LH&gt;</td>\n",
       "      <td>[BlackMirror]</td>\n",
       "      <td>242</td>\n",
       "      <td>2015-05-16 10:36:47</td>\n",
       "      <td>train</td>\n",
       "    </tr>\n",
       "    <tr>\n",
       "      <th>1</th>\n",
       "      <td>0x1c7f11</td>\n",
       "      <td>On #twitch &lt;LH&gt; on the #Destinybeta #Destiny #...</td>\n",
       "      <td>[twitch, Destinybeta, Destiny, Destiny2, Desti...</td>\n",
       "      <td>915</td>\n",
       "      <td>2016-10-15 20:46:37</td>\n",
       "      <td>train</td>\n",
       "    </tr>\n",
       "    <tr>\n",
       "      <th>2</th>\n",
       "      <td>0x1c7f14</td>\n",
       "      <td>A nice sunny wak this morning not many &lt;LH&gt; ar...</td>\n",
       "      <td>[]</td>\n",
       "      <td>939</td>\n",
       "      <td>2016-07-04 07:22:56</td>\n",
       "      <td>train</td>\n",
       "    </tr>\n",
       "    <tr>\n",
       "      <th>3</th>\n",
       "      <td>0x1c7f15</td>\n",
       "      <td>I'm one of those people who love candy corn......</td>\n",
       "      <td>[Confession, NationalCandyCornDay, CouldEatThe...</td>\n",
       "      <td>181</td>\n",
       "      <td>2016-04-16 12:53:40</td>\n",
       "      <td>train</td>\n",
       "    </tr>\n",
       "    <tr>\n",
       "      <th>4</th>\n",
       "      <td>0x1c7f16</td>\n",
       "      <td>@metmuseum What are these? They look like some...</td>\n",
       "      <td>[]</td>\n",
       "      <td>970</td>\n",
       "      <td>2017-04-22 17:50:28</td>\n",
       "      <td>train</td>\n",
       "    </tr>\n",
       "    <tr>\n",
       "      <th>...</th>\n",
       "      <td>...</td>\n",
       "      <td>...</td>\n",
       "      <td>...</td>\n",
       "      <td>...</td>\n",
       "      <td>...</td>\n",
       "      <td>...</td>\n",
       "    </tr>\n",
       "    <tr>\n",
       "      <th>1455558</th>\n",
       "      <td>0x38fe18</td>\n",
       "      <td>@LJPBR @FifthHarmony Um  My vote For @FifthHar...</td>\n",
       "      <td>[]</td>\n",
       "      <td>922</td>\n",
       "      <td>2016-12-06 11:10:57</td>\n",
       "      <td>train</td>\n",
       "    </tr>\n",
       "    <tr>\n",
       "      <th>1455559</th>\n",
       "      <td>0x38fe19</td>\n",
       "      <td>Where is #WesHoolahan?!  #WALvIRL #COYBIG &lt;LH&gt;</td>\n",
       "      <td>[WesHoolahan, WALvIRL, COYBIG]</td>\n",
       "      <td>77</td>\n",
       "      <td>2015-02-01 18:04:28</td>\n",
       "      <td>train</td>\n",
       "    </tr>\n",
       "    <tr>\n",
       "      <th>1455560</th>\n",
       "      <td>0x38fe1a</td>\n",
       "      <td>@mattmfm Fake news! &lt;LH&gt; propagated by Tumpkin...</td>\n",
       "      <td>[not, maga]</td>\n",
       "      <td>25</td>\n",
       "      <td>2016-12-20 17:19:58</td>\n",
       "      <td>train</td>\n",
       "    </tr>\n",
       "    <tr>\n",
       "      <th>1455561</th>\n",
       "      <td>0x38fe1c</td>\n",
       "      <td>..today was brutal  ..#Hungover</td>\n",
       "      <td>[]</td>\n",
       "      <td>639</td>\n",
       "      <td>2016-09-13 06:31:27</td>\n",
       "      <td>train</td>\n",
       "    </tr>\n",
       "    <tr>\n",
       "      <th>1455562</th>\n",
       "      <td>0x38fe1d</td>\n",
       "      <td>Love it when I sun burn my forehead!! NOT!! 😫😱...</td>\n",
       "      <td>[redheadproblems, ouch, burnt]</td>\n",
       "      <td>630</td>\n",
       "      <td>2016-09-19 14:35:01</td>\n",
       "      <td>train</td>\n",
       "    </tr>\n",
       "  </tbody>\n",
       "</table>\n",
       "<p>1455563 rows × 6 columns</p>\n",
       "</div>"
      ],
      "text/plain": [
       "         tweet_id                                         tweet_text  \\\n",
       "0        0x1c7f10   o m g Shut Up And Dance though #BlackMirror <LH>   \n",
       "1        0x1c7f11  On #twitch <LH> on the #Destinybeta #Destiny #...   \n",
       "2        0x1c7f14  A nice sunny wak this morning not many <LH> ar...   \n",
       "3        0x1c7f15  I'm one of those people who love candy corn......   \n",
       "4        0x1c7f16  @metmuseum What are these? They look like some...   \n",
       "...           ...                                                ...   \n",
       "1455558  0x38fe18  @LJPBR @FifthHarmony Um  My vote For @FifthHar...   \n",
       "1455559  0x38fe19     Where is #WesHoolahan?!  #WALvIRL #COYBIG <LH>   \n",
       "1455560  0x38fe1a  @mattmfm Fake news! <LH> propagated by Tumpkin...   \n",
       "1455561  0x38fe1c                    ..today was brutal  ..#Hungover   \n",
       "1455562  0x38fe1d  Love it when I sun burn my forehead!! NOT!! 😫😱...   \n",
       "\n",
       "                                             tweet_hashtag  tweet_score  \\\n",
       "0                                            [BlackMirror]          242   \n",
       "1        [twitch, Destinybeta, Destiny, Destiny2, Desti...          915   \n",
       "2                                                       []          939   \n",
       "3        [Confession, NationalCandyCornDay, CouldEatThe...          181   \n",
       "4                                                       []          970   \n",
       "...                                                    ...          ...   \n",
       "1455558                                                 []          922   \n",
       "1455559                     [WesHoolahan, WALvIRL, COYBIG]           77   \n",
       "1455560                                        [not, maga]           25   \n",
       "1455561                                                 []          639   \n",
       "1455562                     [redheadproblems, ouch, burnt]          630   \n",
       "\n",
       "                  tweet_date identification  \n",
       "0        2015-05-16 10:36:47          train  \n",
       "1        2016-10-15 20:46:37          train  \n",
       "2        2016-07-04 07:22:56          train  \n",
       "3        2016-04-16 12:53:40          train  \n",
       "4        2017-04-22 17:50:28          train  \n",
       "...                      ...            ...  \n",
       "1455558  2016-12-06 11:10:57          train  \n",
       "1455559  2015-02-01 18:04:28          train  \n",
       "1455560  2016-12-20 17:19:58          train  \n",
       "1455561  2016-09-13 06:31:27          train  \n",
       "1455562  2016-09-19 14:35:01          train  \n",
       "\n",
       "[1455563 rows x 6 columns]"
      ]
     },
     "execution_count": 10,
     "metadata": {},
     "output_type": "execute_result"
    }
   ],
   "source": [
    "train_tweet=train_tweet.reset_index(drop=True)\n",
    "train_tweet"
   ]
  },
  {
   "cell_type": "code",
   "execution_count": 11,
   "metadata": {},
   "outputs": [
    {
     "data": {
      "text/html": [
       "<div>\n",
       "<style scoped>\n",
       "    .dataframe tbody tr th:only-of-type {\n",
       "        vertical-align: middle;\n",
       "    }\n",
       "\n",
       "    .dataframe tbody tr th {\n",
       "        vertical-align: top;\n",
       "    }\n",
       "\n",
       "    .dataframe thead th {\n",
       "        text-align: right;\n",
       "    }\n",
       "</style>\n",
       "<table border=\"1\" class=\"dataframe\">\n",
       "  <thead>\n",
       "    <tr style=\"text-align: right;\">\n",
       "      <th></th>\n",
       "      <th>tweet_id</th>\n",
       "      <th>tweet_text</th>\n",
       "      <th>tweet_hashtag</th>\n",
       "      <th>tweet_score</th>\n",
       "      <th>tweet_date</th>\n",
       "      <th>identification</th>\n",
       "    </tr>\n",
       "  </thead>\n",
       "  <tbody>\n",
       "    <tr>\n",
       "      <th>0</th>\n",
       "      <td>0x1c7f0f</td>\n",
       "      <td>@JZED74 While inappropriate AF, he likely wasn...</td>\n",
       "      <td>[]</td>\n",
       "      <td>62</td>\n",
       "      <td>2017-05-14 11:39:43</td>\n",
       "      <td>test</td>\n",
       "    </tr>\n",
       "    <tr>\n",
       "      <th>1</th>\n",
       "      <td>0x1c7f12</td>\n",
       "      <td>I tried to figure out why you mean so much to ...</td>\n",
       "      <td>[]</td>\n",
       "      <td>756</td>\n",
       "      <td>2016-02-14 15:55:45</td>\n",
       "      <td>test</td>\n",
       "    </tr>\n",
       "    <tr>\n",
       "      <th>2</th>\n",
       "      <td>0x1c7f13</td>\n",
       "      <td>The only “big plan” you ever had in your life,...</td>\n",
       "      <td>[auspol, fizza]</td>\n",
       "      <td>213</td>\n",
       "      <td>2016-07-25 17:05:35</td>\n",
       "      <td>test</td>\n",
       "    </tr>\n",
       "    <tr>\n",
       "      <th>3</th>\n",
       "      <td>0x1c7f17</td>\n",
       "      <td>Looking back on situations old &amp; new, recent o...</td>\n",
       "      <td>[]</td>\n",
       "      <td>603</td>\n",
       "      <td>2017-01-21 19:25:33</td>\n",
       "      <td>test</td>\n",
       "    </tr>\n",
       "    <tr>\n",
       "      <th>4</th>\n",
       "      <td>0x1c7f18</td>\n",
       "      <td>@jasoninthehouse Why do you insist on talking ...</td>\n",
       "      <td>[]</td>\n",
       "      <td>609</td>\n",
       "      <td>2017-04-25 16:36:47</td>\n",
       "      <td>test</td>\n",
       "    </tr>\n",
       "    <tr>\n",
       "      <th>...</th>\n",
       "      <td>...</td>\n",
       "      <td>...</td>\n",
       "      <td>...</td>\n",
       "      <td>...</td>\n",
       "      <td>...</td>\n",
       "      <td>...</td>\n",
       "    </tr>\n",
       "    <tr>\n",
       "      <th>411967</th>\n",
       "      <td>0x38fe04</td>\n",
       "      <td>\"The Grand Bargain\" The Great American Betraya...</td>\n",
       "      <td>[traitor, treason]</td>\n",
       "      <td>497</td>\n",
       "      <td>2016-12-05 19:57:34</td>\n",
       "      <td>test</td>\n",
       "    </tr>\n",
       "    <tr>\n",
       "      <th>411968</th>\n",
       "      <td>0x38fe06</td>\n",
       "      <td>I get to be a 1 year old girl's new mama start...</td>\n",
       "      <td>[FosterCare, roadtoadoption, Adoption]</td>\n",
       "      <td>187</td>\n",
       "      <td>2017-07-15 19:43:46</td>\n",
       "      <td>test</td>\n",
       "    </tr>\n",
       "    <tr>\n",
       "      <th>411969</th>\n",
       "      <td>0x38fe13</td>\n",
       "      <td>Asian dude with dangly gold earrings is back &amp;...</td>\n",
       "      <td>[artworld]</td>\n",
       "      <td>139</td>\n",
       "      <td>2017-07-13 07:01:50</td>\n",
       "      <td>test</td>\n",
       "    </tr>\n",
       "    <tr>\n",
       "      <th>411970</th>\n",
       "      <td>0x38fe14</td>\n",
       "      <td>I think @kostakoufos might be the worst player...</td>\n",
       "      <td>[nba, cantmakeaJ]</td>\n",
       "      <td>251</td>\n",
       "      <td>2016-08-22 22:13:06</td>\n",
       "      <td>test</td>\n",
       "    </tr>\n",
       "    <tr>\n",
       "      <th>411971</th>\n",
       "      <td>0x38fe1b</td>\n",
       "      <td>I told myself I'd be twitter famous. twitter m...</td>\n",
       "      <td>[]</td>\n",
       "      <td>611</td>\n",
       "      <td>2016-02-14 03:24:55</td>\n",
       "      <td>test</td>\n",
       "    </tr>\n",
       "  </tbody>\n",
       "</table>\n",
       "<p>411972 rows × 6 columns</p>\n",
       "</div>"
      ],
      "text/plain": [
       "        tweet_id                                         tweet_text  \\\n",
       "0       0x1c7f0f  @JZED74 While inappropriate AF, he likely wasn...   \n",
       "1       0x1c7f12  I tried to figure out why you mean so much to ...   \n",
       "2       0x1c7f13  The only “big plan” you ever had in your life,...   \n",
       "3       0x1c7f17  Looking back on situations old & new, recent o...   \n",
       "4       0x1c7f18  @jasoninthehouse Why do you insist on talking ...   \n",
       "...          ...                                                ...   \n",
       "411967  0x38fe04  \"The Grand Bargain\" The Great American Betraya...   \n",
       "411968  0x38fe06  I get to be a 1 year old girl's new mama start...   \n",
       "411969  0x38fe13  Asian dude with dangly gold earrings is back &...   \n",
       "411970  0x38fe14  I think @kostakoufos might be the worst player...   \n",
       "411971  0x38fe1b  I told myself I'd be twitter famous. twitter m...   \n",
       "\n",
       "                                 tweet_hashtag  tweet_score  \\\n",
       "0                                           []           62   \n",
       "1                                           []          756   \n",
       "2                              [auspol, fizza]          213   \n",
       "3                                           []          603   \n",
       "4                                           []          609   \n",
       "...                                        ...          ...   \n",
       "411967                      [traitor, treason]          497   \n",
       "411968  [FosterCare, roadtoadoption, Adoption]          187   \n",
       "411969                              [artworld]          139   \n",
       "411970                       [nba, cantmakeaJ]          251   \n",
       "411971                                      []          611   \n",
       "\n",
       "                 tweet_date identification  \n",
       "0       2017-05-14 11:39:43           test  \n",
       "1       2016-02-14 15:55:45           test  \n",
       "2       2016-07-25 17:05:35           test  \n",
       "3       2017-01-21 19:25:33           test  \n",
       "4       2017-04-25 16:36:47           test  \n",
       "...                     ...            ...  \n",
       "411967  2016-12-05 19:57:34           test  \n",
       "411968  2017-07-15 19:43:46           test  \n",
       "411969  2017-07-13 07:01:50           test  \n",
       "411970  2016-08-22 22:13:06           test  \n",
       "411971  2016-02-14 03:24:55           test  \n",
       "\n",
       "[411972 rows x 6 columns]"
      ]
     },
     "execution_count": 11,
     "metadata": {},
     "output_type": "execute_result"
    }
   ],
   "source": [
    "test_tweet=test_tweet.reset_index(drop=True)\n",
    "test_tweet"
   ]
  },
  {
   "cell_type": "code",
   "execution_count": 13,
   "metadata": {},
   "outputs": [
    {
     "data": {
      "text/html": [
       "<div>\n",
       "<style scoped>\n",
       "    .dataframe tbody tr th:only-of-type {\n",
       "        vertical-align: middle;\n",
       "    }\n",
       "\n",
       "    .dataframe tbody tr th {\n",
       "        vertical-align: top;\n",
       "    }\n",
       "\n",
       "    .dataframe thead th {\n",
       "        text-align: right;\n",
       "    }\n",
       "</style>\n",
       "<table border=\"1\" class=\"dataframe\">\n",
       "  <thead>\n",
       "    <tr style=\"text-align: right;\">\n",
       "      <th></th>\n",
       "      <th>tweet_id</th>\n",
       "      <th>emotion</th>\n",
       "    </tr>\n",
       "  </thead>\n",
       "  <tbody>\n",
       "    <tr>\n",
       "      <th>0</th>\n",
       "      <td>0x1c7f10</td>\n",
       "      <td>joy</td>\n",
       "    </tr>\n",
       "    <tr>\n",
       "      <th>1</th>\n",
       "      <td>0x1c7f11</td>\n",
       "      <td>anticipation</td>\n",
       "    </tr>\n",
       "    <tr>\n",
       "      <th>2</th>\n",
       "      <td>0x1c7f14</td>\n",
       "      <td>joy</td>\n",
       "    </tr>\n",
       "    <tr>\n",
       "      <th>3</th>\n",
       "      <td>0x1c7f15</td>\n",
       "      <td>joy</td>\n",
       "    </tr>\n",
       "    <tr>\n",
       "      <th>4</th>\n",
       "      <td>0x1c7f16</td>\n",
       "      <td>disgust</td>\n",
       "    </tr>\n",
       "    <tr>\n",
       "      <th>...</th>\n",
       "      <td>...</td>\n",
       "      <td>...</td>\n",
       "    </tr>\n",
       "    <tr>\n",
       "      <th>1455558</th>\n",
       "      <td>0x38fe18</td>\n",
       "      <td>sadness</td>\n",
       "    </tr>\n",
       "    <tr>\n",
       "      <th>1455559</th>\n",
       "      <td>0x38fe19</td>\n",
       "      <td>anticipation</td>\n",
       "    </tr>\n",
       "    <tr>\n",
       "      <th>1455560</th>\n",
       "      <td>0x38fe1a</td>\n",
       "      <td>surprise</td>\n",
       "    </tr>\n",
       "    <tr>\n",
       "      <th>1455561</th>\n",
       "      <td>0x38fe1c</td>\n",
       "      <td>disgust</td>\n",
       "    </tr>\n",
       "    <tr>\n",
       "      <th>1455562</th>\n",
       "      <td>0x38fe1d</td>\n",
       "      <td>sadness</td>\n",
       "    </tr>\n",
       "  </tbody>\n",
       "</table>\n",
       "<p>1455563 rows × 2 columns</p>\n",
       "</div>"
      ],
      "text/plain": [
       "         tweet_id       emotion\n",
       "0        0x1c7f10           joy\n",
       "1        0x1c7f11  anticipation\n",
       "2        0x1c7f14           joy\n",
       "3        0x1c7f15           joy\n",
       "4        0x1c7f16       disgust\n",
       "...           ...           ...\n",
       "1455558  0x38fe18       sadness\n",
       "1455559  0x38fe19  anticipation\n",
       "1455560  0x38fe1a      surprise\n",
       "1455561  0x38fe1c       disgust\n",
       "1455562  0x38fe1d       sadness\n",
       "\n",
       "[1455563 rows x 2 columns]"
      ]
     },
     "execution_count": 13,
     "metadata": {},
     "output_type": "execute_result"
    }
   ],
   "source": [
    "sort_emotion=data_emotion.sort_values(by=['tweet_id'])\n",
    "sort_emotion=sort_emotion.reset_index(drop=True)\n",
    "sort_emotion"
   ]
  },
  {
   "cell_type": "code",
   "execution_count": 14,
   "metadata": {},
   "outputs": [
    {
     "data": {
      "text/html": [
       "<div>\n",
       "<style scoped>\n",
       "    .dataframe tbody tr th:only-of-type {\n",
       "        vertical-align: middle;\n",
       "    }\n",
       "\n",
       "    .dataframe tbody tr th {\n",
       "        vertical-align: top;\n",
       "    }\n",
       "\n",
       "    .dataframe thead th {\n",
       "        text-align: right;\n",
       "    }\n",
       "</style>\n",
       "<table border=\"1\" class=\"dataframe\">\n",
       "  <thead>\n",
       "    <tr style=\"text-align: right;\">\n",
       "      <th></th>\n",
       "      <th>tweet_id</th>\n",
       "      <th>tweet_text</th>\n",
       "      <th>tweet_hashtag</th>\n",
       "      <th>tweet_score</th>\n",
       "      <th>tweet_date</th>\n",
       "      <th>identification</th>\n",
       "      <th>emotion</th>\n",
       "    </tr>\n",
       "  </thead>\n",
       "  <tbody>\n",
       "    <tr>\n",
       "      <th>0</th>\n",
       "      <td>0x1c7f10</td>\n",
       "      <td>o m g Shut Up And Dance though #BlackMirror &lt;LH&gt;</td>\n",
       "      <td>[BlackMirror]</td>\n",
       "      <td>242</td>\n",
       "      <td>2015-05-16 10:36:47</td>\n",
       "      <td>train</td>\n",
       "      <td>joy</td>\n",
       "    </tr>\n",
       "    <tr>\n",
       "      <th>1</th>\n",
       "      <td>0x1c7f11</td>\n",
       "      <td>On #twitch &lt;LH&gt; on the #Destinybeta #Destiny #...</td>\n",
       "      <td>[twitch, Destinybeta, Destiny, Destiny2, Desti...</td>\n",
       "      <td>915</td>\n",
       "      <td>2016-10-15 20:46:37</td>\n",
       "      <td>train</td>\n",
       "      <td>anticipation</td>\n",
       "    </tr>\n",
       "    <tr>\n",
       "      <th>2</th>\n",
       "      <td>0x1c7f14</td>\n",
       "      <td>A nice sunny wak this morning not many &lt;LH&gt; ar...</td>\n",
       "      <td>[]</td>\n",
       "      <td>939</td>\n",
       "      <td>2016-07-04 07:22:56</td>\n",
       "      <td>train</td>\n",
       "      <td>joy</td>\n",
       "    </tr>\n",
       "    <tr>\n",
       "      <th>3</th>\n",
       "      <td>0x1c7f15</td>\n",
       "      <td>I'm one of those people who love candy corn......</td>\n",
       "      <td>[Confession, NationalCandyCornDay, CouldEatThe...</td>\n",
       "      <td>181</td>\n",
       "      <td>2016-04-16 12:53:40</td>\n",
       "      <td>train</td>\n",
       "      <td>joy</td>\n",
       "    </tr>\n",
       "    <tr>\n",
       "      <th>4</th>\n",
       "      <td>0x1c7f16</td>\n",
       "      <td>@metmuseum What are these? They look like some...</td>\n",
       "      <td>[]</td>\n",
       "      <td>970</td>\n",
       "      <td>2017-04-22 17:50:28</td>\n",
       "      <td>train</td>\n",
       "      <td>disgust</td>\n",
       "    </tr>\n",
       "    <tr>\n",
       "      <th>...</th>\n",
       "      <td>...</td>\n",
       "      <td>...</td>\n",
       "      <td>...</td>\n",
       "      <td>...</td>\n",
       "      <td>...</td>\n",
       "      <td>...</td>\n",
       "      <td>...</td>\n",
       "    </tr>\n",
       "    <tr>\n",
       "      <th>1455558</th>\n",
       "      <td>0x38fe18</td>\n",
       "      <td>@LJPBR @FifthHarmony Um  My vote For @FifthHar...</td>\n",
       "      <td>[]</td>\n",
       "      <td>922</td>\n",
       "      <td>2016-12-06 11:10:57</td>\n",
       "      <td>train</td>\n",
       "      <td>sadness</td>\n",
       "    </tr>\n",
       "    <tr>\n",
       "      <th>1455559</th>\n",
       "      <td>0x38fe19</td>\n",
       "      <td>Where is #WesHoolahan?!  #WALvIRL #COYBIG &lt;LH&gt;</td>\n",
       "      <td>[WesHoolahan, WALvIRL, COYBIG]</td>\n",
       "      <td>77</td>\n",
       "      <td>2015-02-01 18:04:28</td>\n",
       "      <td>train</td>\n",
       "      <td>anticipation</td>\n",
       "    </tr>\n",
       "    <tr>\n",
       "      <th>1455560</th>\n",
       "      <td>0x38fe1a</td>\n",
       "      <td>@mattmfm Fake news! &lt;LH&gt; propagated by Tumpkin...</td>\n",
       "      <td>[not, maga]</td>\n",
       "      <td>25</td>\n",
       "      <td>2016-12-20 17:19:58</td>\n",
       "      <td>train</td>\n",
       "      <td>surprise</td>\n",
       "    </tr>\n",
       "    <tr>\n",
       "      <th>1455561</th>\n",
       "      <td>0x38fe1c</td>\n",
       "      <td>..today was brutal  ..#Hungover</td>\n",
       "      <td>[]</td>\n",
       "      <td>639</td>\n",
       "      <td>2016-09-13 06:31:27</td>\n",
       "      <td>train</td>\n",
       "      <td>disgust</td>\n",
       "    </tr>\n",
       "    <tr>\n",
       "      <th>1455562</th>\n",
       "      <td>0x38fe1d</td>\n",
       "      <td>Love it when I sun burn my forehead!! NOT!! 😫😱...</td>\n",
       "      <td>[redheadproblems, ouch, burnt]</td>\n",
       "      <td>630</td>\n",
       "      <td>2016-09-19 14:35:01</td>\n",
       "      <td>train</td>\n",
       "      <td>sadness</td>\n",
       "    </tr>\n",
       "  </tbody>\n",
       "</table>\n",
       "<p>1455563 rows × 7 columns</p>\n",
       "</div>"
      ],
      "text/plain": [
       "         tweet_id                                         tweet_text  \\\n",
       "0        0x1c7f10   o m g Shut Up And Dance though #BlackMirror <LH>   \n",
       "1        0x1c7f11  On #twitch <LH> on the #Destinybeta #Destiny #...   \n",
       "2        0x1c7f14  A nice sunny wak this morning not many <LH> ar...   \n",
       "3        0x1c7f15  I'm one of those people who love candy corn......   \n",
       "4        0x1c7f16  @metmuseum What are these? They look like some...   \n",
       "...           ...                                                ...   \n",
       "1455558  0x38fe18  @LJPBR @FifthHarmony Um  My vote For @FifthHar...   \n",
       "1455559  0x38fe19     Where is #WesHoolahan?!  #WALvIRL #COYBIG <LH>   \n",
       "1455560  0x38fe1a  @mattmfm Fake news! <LH> propagated by Tumpkin...   \n",
       "1455561  0x38fe1c                    ..today was brutal  ..#Hungover   \n",
       "1455562  0x38fe1d  Love it when I sun burn my forehead!! NOT!! 😫😱...   \n",
       "\n",
       "                                             tweet_hashtag  tweet_score  \\\n",
       "0                                            [BlackMirror]          242   \n",
       "1        [twitch, Destinybeta, Destiny, Destiny2, Desti...          915   \n",
       "2                                                       []          939   \n",
       "3        [Confession, NationalCandyCornDay, CouldEatThe...          181   \n",
       "4                                                       []          970   \n",
       "...                                                    ...          ...   \n",
       "1455558                                                 []          922   \n",
       "1455559                     [WesHoolahan, WALvIRL, COYBIG]           77   \n",
       "1455560                                        [not, maga]           25   \n",
       "1455561                                                 []          639   \n",
       "1455562                     [redheadproblems, ouch, burnt]          630   \n",
       "\n",
       "                  tweet_date identification       emotion  \n",
       "0        2015-05-16 10:36:47          train           joy  \n",
       "1        2016-10-15 20:46:37          train  anticipation  \n",
       "2        2016-07-04 07:22:56          train           joy  \n",
       "3        2016-04-16 12:53:40          train           joy  \n",
       "4        2017-04-22 17:50:28          train       disgust  \n",
       "...                      ...            ...           ...  \n",
       "1455558  2016-12-06 11:10:57          train       sadness  \n",
       "1455559  2015-02-01 18:04:28          train  anticipation  \n",
       "1455560  2016-12-20 17:19:58          train      surprise  \n",
       "1455561  2016-09-13 06:31:27          train       disgust  \n",
       "1455562  2016-09-19 14:35:01          train       sadness  \n",
       "\n",
       "[1455563 rows x 7 columns]"
      ]
     },
     "execution_count": 14,
     "metadata": {},
     "output_type": "execute_result"
    }
   ],
   "source": [
    "train_tweet['emotion']=sort_emotion['emotion']\n",
    "train_tweet"
   ]
  },
  {
   "cell_type": "markdown",
   "metadata": {},
   "source": [
    "#### Comment\n",
    "Then I tokenized the tweet to get every term, it also change word to lower case and change word to the original type(ex: runner-> running)"
   ]
  },
  {
   "cell_type": "code",
   "execution_count": 15,
   "metadata": {},
   "outputs": [
    {
     "name": "stderr",
     "output_type": "stream",
     "text": [
      "[nltk_data] Downloading package averaged_perceptron_tagger to\n",
      "[nltk_data]     C:\\Users\\me\\AppData\\Roaming\\nltk_data...\n",
      "[nltk_data]   Package averaged_perceptron_tagger is already up-to-\n",
      "[nltk_data]       date!\n",
      "[nltk_data] Downloading package wordnet to\n",
      "[nltk_data]     C:\\Users\\me\\AppData\\Roaming\\nltk_data...\n",
      "[nltk_data]   Package wordnet is already up-to-date!\n"
     ]
    }
   ],
   "source": [
    "#''''\n",
    "import nltk\n",
    "nltk.download('averaged_perceptron_tagger')\n",
    "nltk.download('wordnet')\n",
    "from nltk import word_tokenize, pos_tag\n",
    "from nltk.corpus import wordnet\n",
    "from nltk.stem import WordNetLemmatizer\n",
    "\n",
    "def get_wordnet_pos(tag):\n",
    "        if tag.startswith('J'):\n",
    "            return wordnet.ADJ\n",
    "        elif tag.startswith('V'):\n",
    "            return wordnet.VERB\n",
    "        elif tag.startswith('N'):\n",
    "            return wordnet.NOUN\n",
    "        elif tag.startswith('R'):\n",
    "            return wordnet.ADV\n",
    "        else:\n",
    "            return None\n",
    "\n",
    "def lema(sentence):\n",
    "        \n",
    "    tokens = word_tokenize(sentence)  \n",
    "    tagged_sent = pos_tag(tokens)     \n",
    "\n",
    "    wnl = WordNetLemmatizer()\n",
    "    lemmas_sent = []\n",
    "    for tag in tagged_sent:\n",
    "        wordnet_pos = get_wordnet_pos(tag[1]) or wordnet.NOUN\n",
    "        lemmas_sent.append(wnl.lemmatize(tag[0], pos=wordnet_pos)) \n",
    "\n",
    "    return lemmas_sent"
   ]
  },
  {
   "cell_type": "code",
   "execution_count": 16,
   "metadata": {},
   "outputs": [],
   "source": [
    "#''''\n",
    "import re\n",
    "from bs4 import BeautifulSoup\n",
    "\n",
    "def preprocessor( text):\n",
    "    # remove <LH>\n",
    "    text = BeautifulSoup(text, 'html.parser').get_text()\n",
    "    r = '(?::|;|=|X)(?:-)?(?:\\)|\\(|D|P)'\n",
    "    emoticons = re.findall(r, text)\n",
    "    text = re.sub(r, '', text)\n",
    "    text = re.sub('[\\W]+', ' ', text.lower()) + ' ' + ' '.join(emoticons).replace('-','')\n",
    "    return text"
   ]
  },
  {
   "cell_type": "code",
   "execution_count": 17,
   "metadata": {},
   "outputs": [
    {
     "name": "stderr",
     "output_type": "stream",
     "text": [
      "c:\\users\\me\\anaconda3\\envs\\tensorflow\\lib\\site-packages\\bs4\\__init__.py:336: MarkupResemblesLocatorWarning: \"On our way to Boracay 😂👌 #excited../..\" looks like a filename, not markup. You should probably open this file and pass the filehandle into Beautiful Soup.\n",
      "  MarkupResemblesLocatorWarning\n"
     ]
    },
    {
     "data": {
      "text/html": [
       "<div>\n",
       "<style scoped>\n",
       "    .dataframe tbody tr th:only-of-type {\n",
       "        vertical-align: middle;\n",
       "    }\n",
       "\n",
       "    .dataframe tbody tr th {\n",
       "        vertical-align: top;\n",
       "    }\n",
       "\n",
       "    .dataframe thead th {\n",
       "        text-align: right;\n",
       "    }\n",
       "</style>\n",
       "<table border=\"1\" class=\"dataframe\">\n",
       "  <thead>\n",
       "    <tr style=\"text-align: right;\">\n",
       "      <th></th>\n",
       "      <th>tweet_id</th>\n",
       "      <th>tweet_text</th>\n",
       "      <th>tweet_hashtag</th>\n",
       "      <th>tweet_score</th>\n",
       "      <th>tweet_date</th>\n",
       "      <th>identification</th>\n",
       "      <th>emotion</th>\n",
       "      <th>text_tokenized</th>\n",
       "    </tr>\n",
       "  </thead>\n",
       "  <tbody>\n",
       "    <tr>\n",
       "      <th>0</th>\n",
       "      <td>0x1c7f10</td>\n",
       "      <td>o m g Shut Up And Dance though #BlackMirror &lt;LH&gt;</td>\n",
       "      <td>[BlackMirror]</td>\n",
       "      <td>242</td>\n",
       "      <td>2015-05-16 10:36:47</td>\n",
       "      <td>train</td>\n",
       "      <td>joy</td>\n",
       "      <td>[o, m, g, shut, up, and, dance, though, blackm...</td>\n",
       "    </tr>\n",
       "    <tr>\n",
       "      <th>1</th>\n",
       "      <td>0x1c7f11</td>\n",
       "      <td>On #twitch &lt;LH&gt; on the #Destinybeta #Destiny #...</td>\n",
       "      <td>[twitch, Destinybeta, Destiny, Destiny2, Desti...</td>\n",
       "      <td>915</td>\n",
       "      <td>2016-10-15 20:46:37</td>\n",
       "      <td>train</td>\n",
       "      <td>anticipation</td>\n",
       "      <td>[on, twitch, on, the, destinybeta, destiny, de...</td>\n",
       "    </tr>\n",
       "    <tr>\n",
       "      <th>2</th>\n",
       "      <td>0x1c7f14</td>\n",
       "      <td>A nice sunny wak this morning not many &lt;LH&gt; ar...</td>\n",
       "      <td>[]</td>\n",
       "      <td>939</td>\n",
       "      <td>2016-07-04 07:22:56</td>\n",
       "      <td>train</td>\n",
       "      <td>joy</td>\n",
       "      <td>[a, nice, sunny, wak, this, morning, not, many...</td>\n",
       "    </tr>\n",
       "    <tr>\n",
       "      <th>3</th>\n",
       "      <td>0x1c7f15</td>\n",
       "      <td>I'm one of those people who love candy corn......</td>\n",
       "      <td>[Confession, NationalCandyCornDay, CouldEatThe...</td>\n",
       "      <td>181</td>\n",
       "      <td>2016-04-16 12:53:40</td>\n",
       "      <td>train</td>\n",
       "      <td>joy</td>\n",
       "      <td>[i, m, one, of, those, people, who, love, cand...</td>\n",
       "    </tr>\n",
       "    <tr>\n",
       "      <th>4</th>\n",
       "      <td>0x1c7f16</td>\n",
       "      <td>@metmuseum What are these? They look like some...</td>\n",
       "      <td>[]</td>\n",
       "      <td>970</td>\n",
       "      <td>2017-04-22 17:50:28</td>\n",
       "      <td>train</td>\n",
       "      <td>disgust</td>\n",
       "      <td>[metmuseum, what, be, these, they, look, like,...</td>\n",
       "    </tr>\n",
       "    <tr>\n",
       "      <th>...</th>\n",
       "      <td>...</td>\n",
       "      <td>...</td>\n",
       "      <td>...</td>\n",
       "      <td>...</td>\n",
       "      <td>...</td>\n",
       "      <td>...</td>\n",
       "      <td>...</td>\n",
       "      <td>...</td>\n",
       "    </tr>\n",
       "    <tr>\n",
       "      <th>1455558</th>\n",
       "      <td>0x38fe18</td>\n",
       "      <td>@LJPBR @FifthHarmony Um  My vote For @FifthHar...</td>\n",
       "      <td>[]</td>\n",
       "      <td>922</td>\n",
       "      <td>2016-12-06 11:10:57</td>\n",
       "      <td>train</td>\n",
       "      <td>sadness</td>\n",
       "      <td>[ljpbr, fifthharmony, um, my, vote, for, fifth...</td>\n",
       "    </tr>\n",
       "    <tr>\n",
       "      <th>1455559</th>\n",
       "      <td>0x38fe19</td>\n",
       "      <td>Where is #WesHoolahan?!  #WALvIRL #COYBIG &lt;LH&gt;</td>\n",
       "      <td>[WesHoolahan, WALvIRL, COYBIG]</td>\n",
       "      <td>77</td>\n",
       "      <td>2015-02-01 18:04:28</td>\n",
       "      <td>train</td>\n",
       "      <td>anticipation</td>\n",
       "      <td>[where, be, weshoolahan, walvirl, coybig]</td>\n",
       "    </tr>\n",
       "    <tr>\n",
       "      <th>1455560</th>\n",
       "      <td>0x38fe1a</td>\n",
       "      <td>@mattmfm Fake news! &lt;LH&gt; propagated by Tumpkin...</td>\n",
       "      <td>[not, maga]</td>\n",
       "      <td>25</td>\n",
       "      <td>2016-12-20 17:19:58</td>\n",
       "      <td>train</td>\n",
       "      <td>surprise</td>\n",
       "      <td>[mattmfm, fake, news, propagate, by, tumpkins,...</td>\n",
       "    </tr>\n",
       "    <tr>\n",
       "      <th>1455561</th>\n",
       "      <td>0x38fe1c</td>\n",
       "      <td>..today was brutal  ..#Hungover</td>\n",
       "      <td>[]</td>\n",
       "      <td>639</td>\n",
       "      <td>2016-09-13 06:31:27</td>\n",
       "      <td>train</td>\n",
       "      <td>disgust</td>\n",
       "      <td>[today, be, brutal, hungover]</td>\n",
       "    </tr>\n",
       "    <tr>\n",
       "      <th>1455562</th>\n",
       "      <td>0x38fe1d</td>\n",
       "      <td>Love it when I sun burn my forehead!! NOT!! 😫😱...</td>\n",
       "      <td>[redheadproblems, ouch, burnt]</td>\n",
       "      <td>630</td>\n",
       "      <td>2016-09-19 14:35:01</td>\n",
       "      <td>train</td>\n",
       "      <td>sadness</td>\n",
       "      <td>[love, it, when, i, sun, burn, my, forehead, n...</td>\n",
       "    </tr>\n",
       "  </tbody>\n",
       "</table>\n",
       "<p>1455563 rows × 8 columns</p>\n",
       "</div>"
      ],
      "text/plain": [
       "         tweet_id                                         tweet_text  \\\n",
       "0        0x1c7f10   o m g Shut Up And Dance though #BlackMirror <LH>   \n",
       "1        0x1c7f11  On #twitch <LH> on the #Destinybeta #Destiny #...   \n",
       "2        0x1c7f14  A nice sunny wak this morning not many <LH> ar...   \n",
       "3        0x1c7f15  I'm one of those people who love candy corn......   \n",
       "4        0x1c7f16  @metmuseum What are these? They look like some...   \n",
       "...           ...                                                ...   \n",
       "1455558  0x38fe18  @LJPBR @FifthHarmony Um  My vote For @FifthHar...   \n",
       "1455559  0x38fe19     Where is #WesHoolahan?!  #WALvIRL #COYBIG <LH>   \n",
       "1455560  0x38fe1a  @mattmfm Fake news! <LH> propagated by Tumpkin...   \n",
       "1455561  0x38fe1c                    ..today was brutal  ..#Hungover   \n",
       "1455562  0x38fe1d  Love it when I sun burn my forehead!! NOT!! 😫😱...   \n",
       "\n",
       "                                             tweet_hashtag  tweet_score  \\\n",
       "0                                            [BlackMirror]          242   \n",
       "1        [twitch, Destinybeta, Destiny, Destiny2, Desti...          915   \n",
       "2                                                       []          939   \n",
       "3        [Confession, NationalCandyCornDay, CouldEatThe...          181   \n",
       "4                                                       []          970   \n",
       "...                                                    ...          ...   \n",
       "1455558                                                 []          922   \n",
       "1455559                     [WesHoolahan, WALvIRL, COYBIG]           77   \n",
       "1455560                                        [not, maga]           25   \n",
       "1455561                                                 []          639   \n",
       "1455562                     [redheadproblems, ouch, burnt]          630   \n",
       "\n",
       "                  tweet_date identification       emotion  \\\n",
       "0        2015-05-16 10:36:47          train           joy   \n",
       "1        2016-10-15 20:46:37          train  anticipation   \n",
       "2        2016-07-04 07:22:56          train           joy   \n",
       "3        2016-04-16 12:53:40          train           joy   \n",
       "4        2017-04-22 17:50:28          train       disgust   \n",
       "...                      ...            ...           ...   \n",
       "1455558  2016-12-06 11:10:57          train       sadness   \n",
       "1455559  2015-02-01 18:04:28          train  anticipation   \n",
       "1455560  2016-12-20 17:19:58          train      surprise   \n",
       "1455561  2016-09-13 06:31:27          train       disgust   \n",
       "1455562  2016-09-19 14:35:01          train       sadness   \n",
       "\n",
       "                                            text_tokenized  \n",
       "0        [o, m, g, shut, up, and, dance, though, blackm...  \n",
       "1        [on, twitch, on, the, destinybeta, destiny, de...  \n",
       "2        [a, nice, sunny, wak, this, morning, not, many...  \n",
       "3        [i, m, one, of, those, people, who, love, cand...  \n",
       "4        [metmuseum, what, be, these, they, look, like,...  \n",
       "...                                                    ...  \n",
       "1455558  [ljpbr, fifthharmony, um, my, vote, for, fifth...  \n",
       "1455559          [where, be, weshoolahan, walvirl, coybig]  \n",
       "1455560  [mattmfm, fake, news, propagate, by, tumpkins,...  \n",
       "1455561                      [today, be, brutal, hungover]  \n",
       "1455562  [love, it, when, i, sun, burn, my, forehead, n...  \n",
       "\n",
       "[1455563 rows x 8 columns]"
      ]
     },
     "execution_count": 17,
     "metadata": {},
     "output_type": "execute_result"
    }
   ],
   "source": [
    "train_tweet['text_tokenized'] = train_tweet['tweet_text'].apply(lambda x: lema(preprocessor(x)))\n",
    "test_tweet['text_tokenized'] = test_tweet['tweet_text'].apply(lambda x: lema(preprocessor(x)))\n",
    "train_tweet"
   ]
  },
  {
   "cell_type": "markdown",
   "metadata": {},
   "source": [
    "#### Comment\n",
    "After tokenized, we will get some negation word that contain in klist below.<br />\n",
    "In my opinion, those word are all for opposite meaning, so I'll change them to the same word 'not', then join them back to a sentence"
   ]
  },
  {
   "cell_type": "code",
   "execution_count": 18,
   "metadata": {},
   "outputs": [],
   "source": [
    "klist=['aren', 'couldn','con','didn', 'doesn','don', 'hadn', 'hasn', 'haven', 'ain', 'isn', 'mightn', 'mustn', 'needn', 'shouldn', 'wasn', 'weren', 'wouldn']\n",
    "for j in range(len(train_tweet)):\n",
    "    for i in range(len(train_tweet.iloc[j]['text_tokenized'])):\n",
    "        if train_tweet.iloc[j]['text_tokenized'][i] in klist:\n",
    "            train_tweet.iloc[j]['text_tokenized'][i]='not'"
   ]
  },
  {
   "cell_type": "code",
   "execution_count": 19,
   "metadata": {},
   "outputs": [],
   "source": [
    "klist=['aren', 'couldn','con','didn', 'doesn','don', 'hadn', 'hasn', 'haven', 'ain', 'isn', 'mightn', 'mustn', 'needn', 'shouldn', 'wasn', 'weren', 'wouldn']\n",
    "for j in range(len(test_tweet)):\n",
    "    for i in range(len(test_tweet.iloc[j]['text_tokenized'])):\n",
    "        if test_tweet.iloc[j]['text_tokenized'][i] in klist:\n",
    "            test_tweet.iloc[j]['text_tokenized'][i]='not'"
   ]
  },
  {
   "cell_type": "code",
   "execution_count": 20,
   "metadata": {},
   "outputs": [],
   "source": [
    "def joinword(wlist):\n",
    "    return ' '.join(word for word in wlist)\n",
    "\n",
    "train_tweet['text_clean'] = train_tweet['text_tokenized'].apply(lambda x: joinword(x))\n",
    "test_tweet['text_clean'] = test_tweet['text_tokenized'].apply(lambda x: joinword(x))"
   ]
  },
  {
   "cell_type": "code",
   "execution_count": 21,
   "metadata": {},
   "outputs": [
    {
     "data": {
      "text/html": [
       "<div>\n",
       "<style scoped>\n",
       "    .dataframe tbody tr th:only-of-type {\n",
       "        vertical-align: middle;\n",
       "    }\n",
       "\n",
       "    .dataframe tbody tr th {\n",
       "        vertical-align: top;\n",
       "    }\n",
       "\n",
       "    .dataframe thead th {\n",
       "        text-align: right;\n",
       "    }\n",
       "</style>\n",
       "<table border=\"1\" class=\"dataframe\">\n",
       "  <thead>\n",
       "    <tr style=\"text-align: right;\">\n",
       "      <th></th>\n",
       "      <th>tweet_id</th>\n",
       "      <th>tweet_text</th>\n",
       "      <th>tweet_hashtag</th>\n",
       "      <th>tweet_score</th>\n",
       "      <th>tweet_date</th>\n",
       "      <th>identification</th>\n",
       "      <th>emotion</th>\n",
       "      <th>text_tokenized</th>\n",
       "      <th>text_clean</th>\n",
       "    </tr>\n",
       "  </thead>\n",
       "  <tbody>\n",
       "    <tr>\n",
       "      <th>0</th>\n",
       "      <td>0x1c7f10</td>\n",
       "      <td>o m g Shut Up And Dance though #BlackMirror &lt;LH&gt;</td>\n",
       "      <td>[BlackMirror]</td>\n",
       "      <td>242</td>\n",
       "      <td>2015-05-16 10:36:47</td>\n",
       "      <td>train</td>\n",
       "      <td>joy</td>\n",
       "      <td>[o, m, g, shut, up, and, dance, though, blackm...</td>\n",
       "      <td>o m g shut up and dance though blackmirror</td>\n",
       "    </tr>\n",
       "    <tr>\n",
       "      <th>1</th>\n",
       "      <td>0x1c7f11</td>\n",
       "      <td>On #twitch &lt;LH&gt; on the #Destinybeta #Destiny #...</td>\n",
       "      <td>[twitch, Destinybeta, Destiny, Destiny2, Desti...</td>\n",
       "      <td>915</td>\n",
       "      <td>2016-10-15 20:46:37</td>\n",
       "      <td>train</td>\n",
       "      <td>anticipation</td>\n",
       "      <td>[on, twitch, on, the, destinybeta, destiny, de...</td>\n",
       "      <td>on twitch on the destinybeta destiny destiny2 ...</td>\n",
       "    </tr>\n",
       "    <tr>\n",
       "      <th>2</th>\n",
       "      <td>0x1c7f14</td>\n",
       "      <td>A nice sunny wak this morning not many &lt;LH&gt; ar...</td>\n",
       "      <td>[]</td>\n",
       "      <td>939</td>\n",
       "      <td>2016-07-04 07:22:56</td>\n",
       "      <td>train</td>\n",
       "      <td>joy</td>\n",
       "      <td>[a, nice, sunny, wak, this, morning, not, many...</td>\n",
       "      <td>a nice sunny wak this morning not many aroud a...</td>\n",
       "    </tr>\n",
       "    <tr>\n",
       "      <th>3</th>\n",
       "      <td>0x1c7f15</td>\n",
       "      <td>I'm one of those people who love candy corn......</td>\n",
       "      <td>[Confession, NationalCandyCornDay, CouldEatThe...</td>\n",
       "      <td>181</td>\n",
       "      <td>2016-04-16 12:53:40</td>\n",
       "      <td>train</td>\n",
       "      <td>joy</td>\n",
       "      <td>[i, m, one, of, those, people, who, love, cand...</td>\n",
       "      <td>i m one of those people who love candy corn a ...</td>\n",
       "    </tr>\n",
       "    <tr>\n",
       "      <th>4</th>\n",
       "      <td>0x1c7f16</td>\n",
       "      <td>@metmuseum What are these? They look like some...</td>\n",
       "      <td>[]</td>\n",
       "      <td>970</td>\n",
       "      <td>2017-04-22 17:50:28</td>\n",
       "      <td>train</td>\n",
       "      <td>disgust</td>\n",
       "      <td>[metmuseum, what, be, these, they, look, like,...</td>\n",
       "      <td>metmuseum what be these they look like somethi...</td>\n",
       "    </tr>\n",
       "    <tr>\n",
       "      <th>...</th>\n",
       "      <td>...</td>\n",
       "      <td>...</td>\n",
       "      <td>...</td>\n",
       "      <td>...</td>\n",
       "      <td>...</td>\n",
       "      <td>...</td>\n",
       "      <td>...</td>\n",
       "      <td>...</td>\n",
       "      <td>...</td>\n",
       "    </tr>\n",
       "    <tr>\n",
       "      <th>1455558</th>\n",
       "      <td>0x38fe18</td>\n",
       "      <td>@LJPBR @FifthHarmony Um  My vote For @FifthHar...</td>\n",
       "      <td>[]</td>\n",
       "      <td>922</td>\n",
       "      <td>2016-12-06 11:10:57</td>\n",
       "      <td>train</td>\n",
       "      <td>sadness</td>\n",
       "      <td>[ljpbr, fifthharmony, um, my, vote, for, fifth...</td>\n",
       "      <td>ljpbr fifthharmony um my vote for fifthharmony...</td>\n",
       "    </tr>\n",
       "    <tr>\n",
       "      <th>1455559</th>\n",
       "      <td>0x38fe19</td>\n",
       "      <td>Where is #WesHoolahan?!  #WALvIRL #COYBIG &lt;LH&gt;</td>\n",
       "      <td>[WesHoolahan, WALvIRL, COYBIG]</td>\n",
       "      <td>77</td>\n",
       "      <td>2015-02-01 18:04:28</td>\n",
       "      <td>train</td>\n",
       "      <td>anticipation</td>\n",
       "      <td>[where, be, weshoolahan, walvirl, coybig]</td>\n",
       "      <td>where be weshoolahan walvirl coybig</td>\n",
       "    </tr>\n",
       "    <tr>\n",
       "      <th>1455560</th>\n",
       "      <td>0x38fe1a</td>\n",
       "      <td>@mattmfm Fake news! &lt;LH&gt; propagated by Tumpkin...</td>\n",
       "      <td>[not, maga]</td>\n",
       "      <td>25</td>\n",
       "      <td>2016-12-20 17:19:58</td>\n",
       "      <td>train</td>\n",
       "      <td>surprise</td>\n",
       "      <td>[mattmfm, fake, news, propagate, by, tumpkins,...</td>\n",
       "      <td>mattmfm fake news propagate by tumpkins not maga</td>\n",
       "    </tr>\n",
       "    <tr>\n",
       "      <th>1455561</th>\n",
       "      <td>0x38fe1c</td>\n",
       "      <td>..today was brutal  ..#Hungover</td>\n",
       "      <td>[]</td>\n",
       "      <td>639</td>\n",
       "      <td>2016-09-13 06:31:27</td>\n",
       "      <td>train</td>\n",
       "      <td>disgust</td>\n",
       "      <td>[today, be, brutal, hungover]</td>\n",
       "      <td>today be brutal hungover</td>\n",
       "    </tr>\n",
       "    <tr>\n",
       "      <th>1455562</th>\n",
       "      <td>0x38fe1d</td>\n",
       "      <td>Love it when I sun burn my forehead!! NOT!! 😫😱...</td>\n",
       "      <td>[redheadproblems, ouch, burnt]</td>\n",
       "      <td>630</td>\n",
       "      <td>2016-09-19 14:35:01</td>\n",
       "      <td>train</td>\n",
       "      <td>sadness</td>\n",
       "      <td>[love, it, when, i, sun, burn, my, forehead, n...</td>\n",
       "      <td>love it when i sun burn my forehead not redhea...</td>\n",
       "    </tr>\n",
       "  </tbody>\n",
       "</table>\n",
       "<p>1455563 rows × 9 columns</p>\n",
       "</div>"
      ],
      "text/plain": [
       "         tweet_id                                         tweet_text  \\\n",
       "0        0x1c7f10   o m g Shut Up And Dance though #BlackMirror <LH>   \n",
       "1        0x1c7f11  On #twitch <LH> on the #Destinybeta #Destiny #...   \n",
       "2        0x1c7f14  A nice sunny wak this morning not many <LH> ar...   \n",
       "3        0x1c7f15  I'm one of those people who love candy corn......   \n",
       "4        0x1c7f16  @metmuseum What are these? They look like some...   \n",
       "...           ...                                                ...   \n",
       "1455558  0x38fe18  @LJPBR @FifthHarmony Um  My vote For @FifthHar...   \n",
       "1455559  0x38fe19     Where is #WesHoolahan?!  #WALvIRL #COYBIG <LH>   \n",
       "1455560  0x38fe1a  @mattmfm Fake news! <LH> propagated by Tumpkin...   \n",
       "1455561  0x38fe1c                    ..today was brutal  ..#Hungover   \n",
       "1455562  0x38fe1d  Love it when I sun burn my forehead!! NOT!! 😫😱...   \n",
       "\n",
       "                                             tweet_hashtag  tweet_score  \\\n",
       "0                                            [BlackMirror]          242   \n",
       "1        [twitch, Destinybeta, Destiny, Destiny2, Desti...          915   \n",
       "2                                                       []          939   \n",
       "3        [Confession, NationalCandyCornDay, CouldEatThe...          181   \n",
       "4                                                       []          970   \n",
       "...                                                    ...          ...   \n",
       "1455558                                                 []          922   \n",
       "1455559                     [WesHoolahan, WALvIRL, COYBIG]           77   \n",
       "1455560                                        [not, maga]           25   \n",
       "1455561                                                 []          639   \n",
       "1455562                     [redheadproblems, ouch, burnt]          630   \n",
       "\n",
       "                  tweet_date identification       emotion  \\\n",
       "0        2015-05-16 10:36:47          train           joy   \n",
       "1        2016-10-15 20:46:37          train  anticipation   \n",
       "2        2016-07-04 07:22:56          train           joy   \n",
       "3        2016-04-16 12:53:40          train           joy   \n",
       "4        2017-04-22 17:50:28          train       disgust   \n",
       "...                      ...            ...           ...   \n",
       "1455558  2016-12-06 11:10:57          train       sadness   \n",
       "1455559  2015-02-01 18:04:28          train  anticipation   \n",
       "1455560  2016-12-20 17:19:58          train      surprise   \n",
       "1455561  2016-09-13 06:31:27          train       disgust   \n",
       "1455562  2016-09-19 14:35:01          train       sadness   \n",
       "\n",
       "                                            text_tokenized  \\\n",
       "0        [o, m, g, shut, up, and, dance, though, blackm...   \n",
       "1        [on, twitch, on, the, destinybeta, destiny, de...   \n",
       "2        [a, nice, sunny, wak, this, morning, not, many...   \n",
       "3        [i, m, one, of, those, people, who, love, cand...   \n",
       "4        [metmuseum, what, be, these, they, look, like,...   \n",
       "...                                                    ...   \n",
       "1455558  [ljpbr, fifthharmony, um, my, vote, for, fifth...   \n",
       "1455559          [where, be, weshoolahan, walvirl, coybig]   \n",
       "1455560  [mattmfm, fake, news, propagate, by, tumpkins,...   \n",
       "1455561                      [today, be, brutal, hungover]   \n",
       "1455562  [love, it, when, i, sun, burn, my, forehead, n...   \n",
       "\n",
       "                                                text_clean  \n",
       "0               o m g shut up and dance though blackmirror  \n",
       "1        on twitch on the destinybeta destiny destiny2 ...  \n",
       "2        a nice sunny wak this morning not many aroud a...  \n",
       "3        i m one of those people who love candy corn a ...  \n",
       "4        metmuseum what be these they look like somethi...  \n",
       "...                                                    ...  \n",
       "1455558  ljpbr fifthharmony um my vote for fifthharmony...  \n",
       "1455559                where be weshoolahan walvirl coybig  \n",
       "1455560   mattmfm fake news propagate by tumpkins not maga  \n",
       "1455561                           today be brutal hungover  \n",
       "1455562  love it when i sun burn my forehead not redhea...  \n",
       "\n",
       "[1455563 rows x 9 columns]"
      ]
     },
     "execution_count": 21,
     "metadata": {},
     "output_type": "execute_result"
    }
   ],
   "source": [
    "train_tweet"
   ]
  },
  {
   "cell_type": "markdown",
   "metadata": {},
   "source": [
    "#### Comment\n",
    "But in the middle of work, I find that there may still be some terms not really needed for our model,such as tagging username, so I redo a version that clean those thing."
   ]
  },
  {
   "cell_type": "code",
   "execution_count": 22,
   "metadata": {},
   "outputs": [],
   "source": [
    "import re\n",
    "def preprocess_tweet(tweet):\n",
    "    \n",
    "    # To lowercase (not good for VADER)\n",
    "    tweet = tweet.lower()\n",
    "    \n",
    "    # Remove HTML special entities (e.g. &amp;)\n",
    "    tweet = re.sub(r'\\&\\w*;', '', tweet)\n",
    "    \n",
    "    #Remove @username \n",
    "    tweet = re.sub('@[^\\s]+','',tweet)\n",
    "    \n",
    "    # Remove whitespace (including new line characters)\n",
    "    tweet = re.sub(r'\\s\\s+', ' ', tweet)\n",
    "    \n",
    "    # Remove single space remaining at the front of the tweet.\n",
    "    tweet = tweet.lstrip(' ')\n",
    "    \n",
    "    # Remove characters beyond Basic Multilingual Plane (BMP) of Unicode:\n",
    "    tweet = ''.join(c for c in tweet if c <= '\\uFFFF')\n",
    "    \n",
    "    # Convert hyperlinks ->>>> For now just replace with http\n",
    "    tweet = re.sub(r'https?:\\/\\/.*\\/\\w*', 'http', tweet)\n",
    "    \n",
    "    return tweet"
   ]
  },
  {
   "cell_type": "code",
   "execution_count": 23,
   "metadata": {},
   "outputs": [],
   "source": [
    "train_tweet['content'] = train_tweet.tweet_text.apply(preprocess_tweet)\n",
    "test_tweet['content'] = test_tweet.tweet_text.apply(preprocess_tweet)"
   ]
  },
  {
   "cell_type": "markdown",
   "metadata": {},
   "source": [
    "#### Comment\n",
    "And also delete the number in tweet, because I think it's meanless"
   ]
  },
  {
   "cell_type": "code",
   "execution_count": 24,
   "metadata": {},
   "outputs": [],
   "source": [
    "def del_num(content):\n",
    "    return ' '.join(s for s in content.split() if not any(c.isdigit() for c in s))\n",
    "\n",
    "train_tweet['content'] = train_tweet['content'].apply(lambda x: del_num(x))\n",
    "test_tweet['content'] = test_tweet['content'].apply(lambda x: del_num(x))"
   ]
  },
  {
   "cell_type": "code",
   "execution_count": 25,
   "metadata": {},
   "outputs": [
    {
     "name": "stderr",
     "output_type": "stream",
     "text": [
      "c:\\users\\me\\anaconda3\\envs\\tensorflow\\lib\\site-packages\\bs4\\__init__.py:336: MarkupResemblesLocatorWarning: \"on our way to boracay #excited../..\" looks like a filename, not markup. You should probably open this file and pass the filehandle into Beautiful Soup.\n",
      "  MarkupResemblesLocatorWarning\n",
      "c:\\users\\me\\anaconda3\\envs\\tensorflow\\lib\\site-packages\\bs4\\__init__.py:336: MarkupResemblesLocatorWarning: \".\" looks like a filename, not markup. You should probably open this file and pass the filehandle into Beautiful Soup.\n",
      "  MarkupResemblesLocatorWarning\n"
     ]
    }
   ],
   "source": [
    "train_tweet['content_token'] = train_tweet['content'].apply(lambda x: lema(preprocessor(x)))\n",
    "test_tweet['content_token'] = test_tweet['content'].apply(lambda x: lema(preprocessor(x)))"
   ]
  },
  {
   "cell_type": "code",
   "execution_count": 27,
   "metadata": {},
   "outputs": [],
   "source": [
    "klist=['aren', 'couldn','con','didn', 'doesn','don', 'hadn', 'hasn', 'haven', 'ain', 'isn', 'mightn', 'mustn', 'needn', 'shouldn', 'wasn', 'weren', 'wouldn']\n",
    "def negative(wlist):\n",
    "    nlist=[]\n",
    "    for word in wlist:\n",
    "        nword=word\n",
    "        if word in klist:\n",
    "            nword='not'\n",
    "        nlist.append(nword)\n",
    "    return nlist\n",
    "\n",
    "train_tweet['content_token'] = train_tweet['content_token'].apply(lambda x: negative(x))\n",
    "test_tweet['content_token'] = test_tweet['content_token'].apply(lambda x: negative(x))"
   ]
  },
  {
   "cell_type": "code",
   "execution_count": 28,
   "metadata": {},
   "outputs": [],
   "source": [
    "def joinword(wlist):\n",
    "    return ' '.join(word for word in wlist)\n",
    "\n",
    "train_tweet['content'] = train_tweet['content_token'].apply(lambda x: joinword(x))\n",
    "test_tweet['content'] = test_tweet['content_token'].apply(lambda x: joinword(x))"
   ]
  },
  {
   "cell_type": "code",
   "execution_count": 30,
   "metadata": {},
   "outputs": [
    {
     "data": {
      "text/html": [
       "<div>\n",
       "<style scoped>\n",
       "    .dataframe tbody tr th:only-of-type {\n",
       "        vertical-align: middle;\n",
       "    }\n",
       "\n",
       "    .dataframe tbody tr th {\n",
       "        vertical-align: top;\n",
       "    }\n",
       "\n",
       "    .dataframe thead th {\n",
       "        text-align: right;\n",
       "    }\n",
       "</style>\n",
       "<table border=\"1\" class=\"dataframe\">\n",
       "  <thead>\n",
       "    <tr style=\"text-align: right;\">\n",
       "      <th></th>\n",
       "      <th>tweet_id</th>\n",
       "      <th>tweet_text</th>\n",
       "      <th>tweet_hashtag</th>\n",
       "      <th>tweet_score</th>\n",
       "      <th>tweet_date</th>\n",
       "      <th>identification</th>\n",
       "      <th>emotion</th>\n",
       "      <th>text_tokenized</th>\n",
       "      <th>text_clean</th>\n",
       "      <th>content</th>\n",
       "      <th>content_token</th>\n",
       "    </tr>\n",
       "  </thead>\n",
       "  <tbody>\n",
       "    <tr>\n",
       "      <th>0</th>\n",
       "      <td>0x1c7f10</td>\n",
       "      <td>o m g Shut Up And Dance though #BlackMirror &lt;LH&gt;</td>\n",
       "      <td>[BlackMirror]</td>\n",
       "      <td>242</td>\n",
       "      <td>2015-05-16 10:36:47</td>\n",
       "      <td>train</td>\n",
       "      <td>joy</td>\n",
       "      <td>[o, m, g, shut, up, and, dance, though, blackm...</td>\n",
       "      <td>o m g shut up and dance though blackmirror</td>\n",
       "      <td>o m g shut up and dance though blackmirror</td>\n",
       "      <td>[o, m, g, shut, up, and, dance, though, blackm...</td>\n",
       "    </tr>\n",
       "    <tr>\n",
       "      <th>1</th>\n",
       "      <td>0x1c7f11</td>\n",
       "      <td>On #twitch &lt;LH&gt; on the #Destinybeta #Destiny #...</td>\n",
       "      <td>[twitch, Destinybeta, Destiny, Destiny2, Desti...</td>\n",
       "      <td>915</td>\n",
       "      <td>2016-10-15 20:46:37</td>\n",
       "      <td>train</td>\n",
       "      <td>anticipation</td>\n",
       "      <td>[on, twitch, on, the, destinybeta, destiny, de...</td>\n",
       "      <td>on twitch on the destinybeta destiny destiny2 ...</td>\n",
       "      <td>on twitch on the destinybeta destiny destinyth...</td>\n",
       "      <td>[on, twitch, on, the, destinybeta, destiny, de...</td>\n",
       "    </tr>\n",
       "    <tr>\n",
       "      <th>2</th>\n",
       "      <td>0x1c7f14</td>\n",
       "      <td>A nice sunny wak this morning not many &lt;LH&gt; ar...</td>\n",
       "      <td>[]</td>\n",
       "      <td>939</td>\n",
       "      <td>2016-07-04 07:22:56</td>\n",
       "      <td>train</td>\n",
       "      <td>joy</td>\n",
       "      <td>[a, nice, sunny, wak, this, morning, not, many...</td>\n",
       "      <td>a nice sunny wak this morning not many aroud a...</td>\n",
       "      <td>a nice sunny wak this morning not many aroud a...</td>\n",
       "      <td>[a, nice, sunny, wak, this, morning, not, many...</td>\n",
       "    </tr>\n",
       "    <tr>\n",
       "      <th>3</th>\n",
       "      <td>0x1c7f15</td>\n",
       "      <td>I'm one of those people who love candy corn......</td>\n",
       "      <td>[Confession, NationalCandyCornDay, CouldEatThe...</td>\n",
       "      <td>181</td>\n",
       "      <td>2016-04-16 12:53:40</td>\n",
       "      <td>train</td>\n",
       "      <td>joy</td>\n",
       "      <td>[i, m, one, of, those, people, who, love, cand...</td>\n",
       "      <td>i m one of those people who love candy corn a ...</td>\n",
       "      <td>i m one of those people who love candy corn a ...</td>\n",
       "      <td>[i, m, one, of, those, people, who, love, cand...</td>\n",
       "    </tr>\n",
       "    <tr>\n",
       "      <th>4</th>\n",
       "      <td>0x1c7f16</td>\n",
       "      <td>@metmuseum What are these? They look like some...</td>\n",
       "      <td>[]</td>\n",
       "      <td>970</td>\n",
       "      <td>2017-04-22 17:50:28</td>\n",
       "      <td>train</td>\n",
       "      <td>disgust</td>\n",
       "      <td>[metmuseum, what, be, these, they, look, like,...</td>\n",
       "      <td>metmuseum what be these they look like somethi...</td>\n",
       "      <td>what be these they look like something toddler...</td>\n",
       "      <td>[what, be, these, they, look, like, something,...</td>\n",
       "    </tr>\n",
       "    <tr>\n",
       "      <th>...</th>\n",
       "      <td>...</td>\n",
       "      <td>...</td>\n",
       "      <td>...</td>\n",
       "      <td>...</td>\n",
       "      <td>...</td>\n",
       "      <td>...</td>\n",
       "      <td>...</td>\n",
       "      <td>...</td>\n",
       "      <td>...</td>\n",
       "      <td>...</td>\n",
       "      <td>...</td>\n",
       "    </tr>\n",
       "    <tr>\n",
       "      <th>1455558</th>\n",
       "      <td>0x38fe18</td>\n",
       "      <td>@LJPBR @FifthHarmony Um  My vote For @FifthHar...</td>\n",
       "      <td>[]</td>\n",
       "      <td>922</td>\n",
       "      <td>2016-12-06 11:10:57</td>\n",
       "      <td>train</td>\n",
       "      <td>sadness</td>\n",
       "      <td>[ljpbr, fifthharmony, um, my, vote, for, fifth...</td>\n",
       "      <td>ljpbr fifthharmony um my vote for fifthharmony...</td>\n",
       "      <td>um my vote for for song of the summer</td>\n",
       "      <td>[um, my, vote, for, for, song, of, the, summer]</td>\n",
       "    </tr>\n",
       "    <tr>\n",
       "      <th>1455559</th>\n",
       "      <td>0x38fe19</td>\n",
       "      <td>Where is #WesHoolahan?!  #WALvIRL #COYBIG &lt;LH&gt;</td>\n",
       "      <td>[WesHoolahan, WALvIRL, COYBIG]</td>\n",
       "      <td>77</td>\n",
       "      <td>2015-02-01 18:04:28</td>\n",
       "      <td>train</td>\n",
       "      <td>anticipation</td>\n",
       "      <td>[where, be, weshoolahan, walvirl, coybig]</td>\n",
       "      <td>where be weshoolahan walvirl coybig</td>\n",
       "      <td>where be weshoolahan walvirl coybig</td>\n",
       "      <td>[where, be, weshoolahan, walvirl, coybig]</td>\n",
       "    </tr>\n",
       "    <tr>\n",
       "      <th>1455560</th>\n",
       "      <td>0x38fe1a</td>\n",
       "      <td>@mattmfm Fake news! &lt;LH&gt; propagated by Tumpkin...</td>\n",
       "      <td>[not, maga]</td>\n",
       "      <td>25</td>\n",
       "      <td>2016-12-20 17:19:58</td>\n",
       "      <td>train</td>\n",
       "      <td>surprise</td>\n",
       "      <td>[mattmfm, fake, news, propagate, by, tumpkins,...</td>\n",
       "      <td>mattmfm fake news propagate by tumpkins not maga</td>\n",
       "      <td>fake news propagate by tumpkins not maga</td>\n",
       "      <td>[fake, news, propagate, by, tumpkins, not, maga]</td>\n",
       "    </tr>\n",
       "    <tr>\n",
       "      <th>1455561</th>\n",
       "      <td>0x38fe1c</td>\n",
       "      <td>..today was brutal  ..#Hungover</td>\n",
       "      <td>[]</td>\n",
       "      <td>639</td>\n",
       "      <td>2016-09-13 06:31:27</td>\n",
       "      <td>train</td>\n",
       "      <td>disgust</td>\n",
       "      <td>[today, be, brutal, hungover]</td>\n",
       "      <td>today be brutal hungover</td>\n",
       "      <td>today be brutal hungover</td>\n",
       "      <td>[today, be, brutal, hungover]</td>\n",
       "    </tr>\n",
       "    <tr>\n",
       "      <th>1455562</th>\n",
       "      <td>0x38fe1d</td>\n",
       "      <td>Love it when I sun burn my forehead!! NOT!! 😫😱...</td>\n",
       "      <td>[redheadproblems, ouch, burnt]</td>\n",
       "      <td>630</td>\n",
       "      <td>2016-09-19 14:35:01</td>\n",
       "      <td>train</td>\n",
       "      <td>sadness</td>\n",
       "      <td>[love, it, when, i, sun, burn, my, forehead, n...</td>\n",
       "      <td>love it when i sun burn my forehead not redhea...</td>\n",
       "      <td>love it when i sun burn my forehead not redhea...</td>\n",
       "      <td>[love, it, when, i, sun, burn, my, forehead, n...</td>\n",
       "    </tr>\n",
       "  </tbody>\n",
       "</table>\n",
       "<p>1455563 rows × 11 columns</p>\n",
       "</div>"
      ],
      "text/plain": [
       "         tweet_id                                         tweet_text  \\\n",
       "0        0x1c7f10   o m g Shut Up And Dance though #BlackMirror <LH>   \n",
       "1        0x1c7f11  On #twitch <LH> on the #Destinybeta #Destiny #...   \n",
       "2        0x1c7f14  A nice sunny wak this morning not many <LH> ar...   \n",
       "3        0x1c7f15  I'm one of those people who love candy corn......   \n",
       "4        0x1c7f16  @metmuseum What are these? They look like some...   \n",
       "...           ...                                                ...   \n",
       "1455558  0x38fe18  @LJPBR @FifthHarmony Um  My vote For @FifthHar...   \n",
       "1455559  0x38fe19     Where is #WesHoolahan?!  #WALvIRL #COYBIG <LH>   \n",
       "1455560  0x38fe1a  @mattmfm Fake news! <LH> propagated by Tumpkin...   \n",
       "1455561  0x38fe1c                    ..today was brutal  ..#Hungover   \n",
       "1455562  0x38fe1d  Love it when I sun burn my forehead!! NOT!! 😫😱...   \n",
       "\n",
       "                                             tweet_hashtag  tweet_score  \\\n",
       "0                                            [BlackMirror]          242   \n",
       "1        [twitch, Destinybeta, Destiny, Destiny2, Desti...          915   \n",
       "2                                                       []          939   \n",
       "3        [Confession, NationalCandyCornDay, CouldEatThe...          181   \n",
       "4                                                       []          970   \n",
       "...                                                    ...          ...   \n",
       "1455558                                                 []          922   \n",
       "1455559                     [WesHoolahan, WALvIRL, COYBIG]           77   \n",
       "1455560                                        [not, maga]           25   \n",
       "1455561                                                 []          639   \n",
       "1455562                     [redheadproblems, ouch, burnt]          630   \n",
       "\n",
       "                  tweet_date identification       emotion  \\\n",
       "0        2015-05-16 10:36:47          train           joy   \n",
       "1        2016-10-15 20:46:37          train  anticipation   \n",
       "2        2016-07-04 07:22:56          train           joy   \n",
       "3        2016-04-16 12:53:40          train           joy   \n",
       "4        2017-04-22 17:50:28          train       disgust   \n",
       "...                      ...            ...           ...   \n",
       "1455558  2016-12-06 11:10:57          train       sadness   \n",
       "1455559  2015-02-01 18:04:28          train  anticipation   \n",
       "1455560  2016-12-20 17:19:58          train      surprise   \n",
       "1455561  2016-09-13 06:31:27          train       disgust   \n",
       "1455562  2016-09-19 14:35:01          train       sadness   \n",
       "\n",
       "                                            text_tokenized  \\\n",
       "0        [o, m, g, shut, up, and, dance, though, blackm...   \n",
       "1        [on, twitch, on, the, destinybeta, destiny, de...   \n",
       "2        [a, nice, sunny, wak, this, morning, not, many...   \n",
       "3        [i, m, one, of, those, people, who, love, cand...   \n",
       "4        [metmuseum, what, be, these, they, look, like,...   \n",
       "...                                                    ...   \n",
       "1455558  [ljpbr, fifthharmony, um, my, vote, for, fifth...   \n",
       "1455559          [where, be, weshoolahan, walvirl, coybig]   \n",
       "1455560  [mattmfm, fake, news, propagate, by, tumpkins,...   \n",
       "1455561                      [today, be, brutal, hungover]   \n",
       "1455562  [love, it, when, i, sun, burn, my, forehead, n...   \n",
       "\n",
       "                                                text_clean  \\\n",
       "0               o m g shut up and dance though blackmirror   \n",
       "1        on twitch on the destinybeta destiny destiny2 ...   \n",
       "2        a nice sunny wak this morning not many aroud a...   \n",
       "3        i m one of those people who love candy corn a ...   \n",
       "4        metmuseum what be these they look like somethi...   \n",
       "...                                                    ...   \n",
       "1455558  ljpbr fifthharmony um my vote for fifthharmony...   \n",
       "1455559                where be weshoolahan walvirl coybig   \n",
       "1455560   mattmfm fake news propagate by tumpkins not maga   \n",
       "1455561                           today be brutal hungover   \n",
       "1455562  love it when i sun burn my forehead not redhea...   \n",
       "\n",
       "                                                   content  \\\n",
       "0               o m g shut up and dance though blackmirror   \n",
       "1        on twitch on the destinybeta destiny destinyth...   \n",
       "2        a nice sunny wak this morning not many aroud a...   \n",
       "3        i m one of those people who love candy corn a ...   \n",
       "4        what be these they look like something toddler...   \n",
       "...                                                    ...   \n",
       "1455558              um my vote for for song of the summer   \n",
       "1455559                where be weshoolahan walvirl coybig   \n",
       "1455560           fake news propagate by tumpkins not maga   \n",
       "1455561                           today be brutal hungover   \n",
       "1455562  love it when i sun burn my forehead not redhea...   \n",
       "\n",
       "                                             content_token  \n",
       "0        [o, m, g, shut, up, and, dance, though, blackm...  \n",
       "1        [on, twitch, on, the, destinybeta, destiny, de...  \n",
       "2        [a, nice, sunny, wak, this, morning, not, many...  \n",
       "3        [i, m, one, of, those, people, who, love, cand...  \n",
       "4        [what, be, these, they, look, like, something,...  \n",
       "...                                                    ...  \n",
       "1455558    [um, my, vote, for, for, song, of, the, summer]  \n",
       "1455559          [where, be, weshoolahan, walvirl, coybig]  \n",
       "1455560   [fake, news, propagate, by, tumpkins, not, maga]  \n",
       "1455561                      [today, be, brutal, hungover]  \n",
       "1455562  [love, it, when, i, sun, burn, my, forehead, n...  \n",
       "\n",
       "[1455563 rows x 11 columns]"
      ]
     },
     "execution_count": 30,
     "metadata": {},
     "output_type": "execute_result"
    }
   ],
   "source": [
    "train_tweet"
   ]
  },
  {
   "cell_type": "markdown",
   "metadata": {},
   "source": [
    "#### Comment\n",
    "Then we can save these two dataframe as our data that has been little preprocessing."
   ]
  },
  {
   "cell_type": "code",
   "execution_count": 29,
   "metadata": {},
   "outputs": [],
   "source": [
    "train_tweet.to_csv('train_tweet.csv')\n",
    "test_tweet.to_csv('test_tweet.csv')"
   ]
  },
  {
   "cell_type": "markdown",
   "metadata": {},
   "source": [
    "### Model trying & feature Engineering(This part will take long time to run so I'll just paste some code and explain what I did)"
   ]
  },
  {
   "cell_type": "markdown",
   "metadata": {},
   "source": [
    "#### Comment\n",
    "We can find out that the data of every type is very unbalance, so what I try is to sample some amount in each type, and we can sample some times to get different data. But there's still some problem, the emotion with fewer data will always sample the same, and some data in the emotion which has lots of data may not be sampled."
   ]
  },
  {
   "cell_type": "code",
   "execution_count": 33,
   "metadata": {},
   "outputs": [
    {
     "name": "stdout",
     "output_type": "stream",
     "text": [
      "joy             516017\n",
      "anticipation    248935\n",
      "trust           205478\n",
      "sadness         193437\n",
      "disgust         139101\n",
      "fear             63999\n",
      "surprise         48729\n",
      "anger            39867\n",
      "Name: emotion, dtype: int64\n"
     ]
    },
    {
     "data": {
      "text/plain": [
       "<matplotlib.axes._subplots.AxesSubplot at 0x1c9ca9e7860>"
      ]
     },
     "execution_count": 33,
     "metadata": {},
     "output_type": "execute_result"
    },
    {
     "data": {
      "image/png": "[encoded data removed]",
      "text/plain": [
       "<Figure size 576x216 with 1 Axes>"
      ]
     },
     "metadata": {
      "needs_background": "light"
     },
     "output_type": "display_data"
    }
   ],
   "source": [
    "print(sort_emotion.emotion.value_counts())\n",
    "M=max(sort_emotion.emotion.value_counts())\n",
    "\n",
    "# plot barchart for X_sample\n",
    "sort_emotion.emotion.value_counts().plot(kind = 'bar',\n",
    "                                    title = 'Category distribution',\n",
    "                                    ylim = [0, M+1000],        \n",
    "                                    rot = 0, fontsize = 11, figsize = (8,3))"
   ]
  },
  {
   "cell_type": "code",
   "execution_count": null,
   "metadata": {},
   "outputs": [],
   "source": [
    "#####classify\n",
    "sort_emotion_joy=sort_emotion[ sort_emotion.loc[:,'emotion']=='joy' ]\n",
    "train_tweet_joy=train_tweet[ sort_emotion.loc[:,'emotion']=='joy' ]\n",
    "\n",
    "sort_emotion_sadness=sort_emotion[ sort_emotion.loc[:,'emotion']=='sadness' ]\n",
    "train_tweet_sadness=train_tweet[ sort_emotion.loc[:,'emotion']=='sadness' ]\n",
    "\n",
    "sort_emotion_anticipation=sort_emotion[ sort_emotion.loc[:,'emotion']=='anticipation' ]\n",
    "train_tweet_anticipation=train_tweet[ sort_emotion.loc[:,'emotion']=='anticipation' ]\n",
    "\n",
    "sort_emotion_trust=sort_emotion[ sort_emotion.loc[:,'emotion']=='trust' ]\n",
    "train_tweet_trust=train_tweet[ sort_emotion.loc[:,'emotion']=='trust' ]\n",
    "\n",
    "sort_emotion_disgust=sort_emotion[ sort_emotion.loc[:,'emotion']=='disgust' ]\n",
    "train_tweet_disgust=train_tweet[ sort_emotion.loc[:,'emotion']=='disgust' ]\n",
    "\n",
    "sort_emotion_fear=sort_emotion[ sort_emotion.loc[:,'emotion']=='fear' ]\n",
    "train_tweet_fear=train_tweet[ sort_emotion.loc[:,'emotion']=='fear' ]\n",
    "\n",
    "sort_emotion_surprise=sort_emotion[ sort_emotion.loc[:,'emotion']=='surprise' ]\n",
    "train_tweet_surprise=train_tweet[ sort_emotion.loc[:,'emotion']=='surprise' ]\n",
    "\n",
    "sort_emotion_anger=sort_emotion[ sort_emotion.loc[:,'emotion']=='anger' ]\n",
    "train_tweet_anger=train_tweet[ sort_emotion.loc[:,'emotion']=='anger' ]"
   ]
  },
  {
   "cell_type": "markdown",
   "metadata": {},
   "source": [
    "### First method trying: word vector"
   ]
  },
  {
   "cell_type": "markdown",
   "metadata": {},
   "source": [
    "#### Comment\n",
    "Thinking the dataset is from twitter, so using glove twitter wordvec model may be a good idea, after changing word to vector, the sentences need to cut or pad to same length in order to fit the model.(choose a length that won't be too long and might not cut off too much information)"
   ]
  },
  {
   "cell_type": "code",
   "execution_count": null,
   "metadata": {},
   "outputs": [],
   "source": [
    "import gensim.downloader as api\n",
    "\n",
    "## If you see `SSL: CERTIFICATE_VERIFY_FAILED` error, use this:\n",
    "import ssl\n",
    "import urllib.request\n",
    "ssl._create_default_https_context = ssl._create_unverified_context\n",
    "\n",
    "glove_twitter_50_model = api.load(\"glove-twitter-50\")\n",
    "print('load ok')"
   ]
  },
  {
   "cell_type": "code",
   "execution_count": null,
   "metadata": {},
   "outputs": [],
   "source": [
    "def token_to_vec(tweet_dataframe):\n",
    "    vector_whole=[]\n",
    "    for sentence_token,sentence in zip(tweet_dataframe.loc[:,'text_tokenized'], tweet_dataframe.loc[:,'tweet_text']):\n",
    "        sentence_vector=[]\n",
    "        for word in sentence_token:\n",
    "            if word in glove_twitter_50_model.wv:\n",
    "                sentence_vector.append(glove_twitter_50_model.wv[word])\n",
    "        vector_whole.append(sentence_vector)\n",
    "    return vector_whole"
   ]
  },
  {
   "cell_type": "code",
   "execution_count": null,
   "metadata": {},
   "outputs": [],
   "source": [
    "import keras\n",
    "def padding(vector_whole):\n",
    "    max_seq_length=20\n",
    "    #dim=25\n",
    "    pad_vec = keras.preprocessing.sequence.pad_sequences(vector_whole, maxlen = max_seq_length,dtype=\"float32\", padding=\"post\", value = 0.0)\n",
    "    return pad_vec"
   ]
  },
  {
   "cell_type": "code",
   "execution_count": null,
   "metadata": {},
   "outputs": [],
   "source": [
    "def sample_nohash(t_joy,e_joy,n_joy, t_sad,e_sad,n_sad, t_anti,e_anti,n_anti, t_tru,e_tru,n_tru, t_disg,e_disg,n_disg, \n",
    "                 t_fear,e_fear,n_fear, t_sup,e_sup,n_sup, t_ang,e_ang,n_ang):\n",
    "    #joy\n",
    "    samp_t_joy=t_joy.sample(n_joy)\n",
    "    samp_e_joy=e_joy.loc[samp_t_joy.index]\n",
    "    #sadness\n",
    "    samp_t_sad=t_sad.sample(n_sad)\n",
    "    samp_e_sad=e_sad.loc[samp_t_sad.index]\n",
    "    #anticipation\n",
    "    samp_t_anti=t_anti.sample(n_anti)\n",
    "    samp_e_anti=e_anti.loc[samp_t_anti.index]\n",
    "    #trust\n",
    "    samp_t_tru=t_tru.sample(n_tru)\n",
    "    samp_e_tru=e_tru.loc[samp_t_tru.index]\n",
    "    #disgust\n",
    "    samp_t_disg=t_disg.sample(n_disg)\n",
    "    samp_e_disg=e_disg.loc[samp_t_disg.index]\n",
    "    #fear\n",
    "    samp_t_fear=t_fear.sample(n_fear)\n",
    "    samp_e_fear=e_fear.loc[samp_t_fear.index]\n",
    "    #surprise\n",
    "    samp_t_sup=t_sup.sample(n_sup)\n",
    "    samp_e_sup=e_sup.loc[samp_t_sup.index]\n",
    "    #anger\n",
    "    samp_t_ang=t_ang.sample(n_ang)\n",
    "    samp_e_ang=e_ang.loc[samp_t_ang.index]\n",
    "    \n",
    "#    return samp_t_joy,samp_e_joy, samp_t_sad,samp_e_sad, samp_t_anti,samp_e_anti, samp_t_tru,samp_e_tru,    \\\n",
    "#            samp_t_disg,samp_e_disg, samp_t_fear,samp_e_fear, samp_t_sup,samp_e_sup, samp_t_ang,samp_e_ang\n",
    "\n",
    "    train_tweet=pd.concat([ samp_t_joy[:-3000], samp_t_sad[:-3000], samp_t_anti[:-3000], samp_t_tru[:-3000], \n",
    "                            samp_t_disg[:-3000], samp_t_fear[:-3000], samp_t_sup[:-3000], samp_t_ang[:-3000] ])\n",
    "    \n",
    "    train_emo=pd.concat([ samp_e_joy[:-3000], samp_e_sad[:-3000], samp_e_anti[:-3000], samp_e_tru[:-3000], \n",
    "                            samp_e_disg[:-3000], samp_e_fear[:-3000], samp_e_sup[:-3000], samp_e_ang[:-3000] ])\n",
    "    \n",
    "    test_tweet=pd.concat([ samp_t_joy[-3000:], samp_t_sad[-3000:], samp_t_anti[-3000:], samp_t_tru[-3000:], \n",
    "                            samp_t_disg[-3000:], samp_t_fear[-3000:], samp_t_sup[-3000:], samp_t_ang[-3000:] ])\n",
    "    \n",
    "    test_emo=pd.concat([ samp_e_joy[-3000:], samp_e_sad[-3000:], samp_e_anti[-3000:], samp_e_tru[-3000:], \n",
    "                            samp_e_disg[-3000:], samp_e_fear[-3000:], samp_e_sup[-3000:], samp_e_ang[-3000:] ])\n",
    "    \n",
    "    train_vec=token_to_vec(train_tweet)\n",
    "    test_vec=token_to_vec(test_tweet)\n",
    "    \n",
    "    train_vec=padding(train_vec)\n",
    "    test_vec=padding(test_vec)\n",
    "    \n",
    "    return train_vec, train_emo, test_vec, test_emo"
   ]
  },
  {
   "cell_type": "markdown",
   "metadata": {},
   "source": [
    "#### Comment\n",
    "sample them and change to vector and padding"
   ]
  },
  {
   "cell_type": "code",
   "execution_count": null,
   "metadata": {},
   "outputs": [],
   "source": [
    "train_vec, train_emo, test_vec, test_emo = \\\n",
    "sample_nohash(train_tweet_joy,sort_emotion_joy,48000, train_tweet_sadness,sort_emotion_sadness,33000,\n",
    "              train_tweet_anticipation,sort_emotion_anticipation,33000, \n",
    "              train_tweet_trust,sort_emotion_trust,33000, train_tweet_disgust,sort_emotion_disgust,27000, \n",
    "              train_tweet_fear,sort_emotion_fear,27000, train_tweet_surprise,sort_emotion_surprise,18000,\n",
    "              train_tweet_anger,sort_emotion_anger,18000)"
   ]
  },
  {
   "cell_type": "markdown",
   "metadata": {},
   "source": [
    "#### Comment\n",
    "encode the emotion to one-hot"
   ]
  },
  {
   "cell_type": "code",
   "execution_count": null,
   "metadata": {},
   "outputs": [],
   "source": [
    "## deal with label (string -> one-hot)\n",
    "import keras\n",
    "from sklearn.preprocessing import LabelEncoder\n",
    "\n",
    "label_encoder = LabelEncoder()\n",
    "label_encoder.fit(train_emo_nohash.loc[:,'emotion'])\n",
    "\n",
    "def label_encode(le, labels):\n",
    "    enc = le.transform(labels)\n",
    "    return keras.utils.to_categorical(enc)\n",
    "\n",
    "def label_decode(le, one_hot_label):\n",
    "    dec = np.argmax(one_hot_label, axis=1)\n",
    "    return le.inverse_transform(dec)\n",
    "\n",
    "y_train = label_encode(label_encoder, train_emo.loc[:,'emotion'])\n",
    "y_test = label_encode(label_encoder, test_emo.loc[:,'emotion'])"
   ]
  },
  {
   "cell_type": "markdown",
   "metadata": {},
   "source": [
    "#### Comment\n",
    "shuffle the data"
   ]
  },
  {
   "cell_type": "code",
   "execution_count": null,
   "metadata": {},
   "outputs": [],
   "source": [
    "x_train=np.array(train_vec)\n",
    "x_test=np.array(test_vec)\n",
    "y_train=np.array(y_train)\n",
    "y_test=np.array(y_test)"
   ]
  },
  {
   "cell_type": "code",
   "execution_count": null,
   "metadata": {},
   "outputs": [],
   "source": [
    "def shuffle(X,Y):\n",
    "  np.random.seed(10)\n",
    "  randomList = np.arange(X.shape[0])\n",
    "  np.random.shuffle(randomList)\n",
    "  return X[randomList], Y[randomList]"
   ]
  },
  {
   "cell_type": "code",
   "execution_count": null,
   "metadata": {},
   "outputs": [],
   "source": [
    "x_train, y_train = shuffle(x_train, y_train)"
   ]
  },
  {
   "cell_type": "markdown",
   "metadata": {},
   "source": [
    "#### Comment\n",
    "reshape from 3-dimension to 2-dimension for dense type model"
   ]
  },
  {
   "cell_type": "code",
   "execution_count": null,
   "metadata": {},
   "outputs": [],
   "source": [
    "x_train=x_train.reshape((x_train.shape[0],x_train.shape[1]*x_train.shape[2]))\n",
    "x_test=x_test.reshape((x_test.shape[0],x_test.shape[1]*x_test.shape[2]))"
   ]
  },
  {
   "cell_type": "markdown",
   "metadata": {},
   "source": [
    "#### Comment\n",
    "and now we can fit the data into the model, the dropout is added to avoid overfitting"
   ]
  },
  {
   "cell_type": "code",
   "execution_count": null,
   "metadata": {},
   "outputs": [],
   "source": [
    "# I/O check\n",
    "input_shape_seq = x_train.shape[1]\n",
    "print('input_seq_shape: ', input_shape_seq)\n",
    "\n",
    "#input_shape_vec = x_train.shape[2]\n",
    "#print('input_vec_shape: ', input_shape_vec)\n",
    "\n",
    "output_shape = len(label_encoder.classes_)\n",
    "print('output_shape: ', output_shape)"
   ]
  },
  {
   "cell_type": "code",
   "execution_count": null,
   "metadata": {},
   "outputs": [],
   "source": [
    "from keras.models import Model\n",
    "from keras.layers import Input, Dense, LSTM, Dropout\n",
    "from keras.layers import ReLU, Softmax\n",
    "\n",
    "# input layer\n",
    "model_input = Input(shape=(input_shape_seq, ))  # 20*100\n",
    "X = model_input\n",
    "\n",
    "# 1st hidden layer\n",
    "X_W1 = Dense(units=1024)(X)  # 64\n",
    "H1 = ReLU()(X_W1)\n",
    "D1 = Dropout(0.4)(H1)\n",
    "\n",
    "# 2nd hidden layer\n",
    "H1_W2 = Dense(units=256)(D1)  # 64\n",
    "H2 = ReLU()(H1_W2)\n",
    "D2 = Dropout(0.4)(H2)\n",
    "\n",
    "\n",
    "# output layer\n",
    "H2_W3 = Dense(units=output_shape)(D2)  # 4\n",
    "H3 = Softmax()(H2_W3)\n",
    "\n",
    "model_output = H3\n",
    "\n",
    "# create model\n",
    "model = Model(inputs=[model_input], outputs=[model_output])\n",
    "\n",
    "# loss function & optimizer\n",
    "model.compile(optimizer='adam',\n",
    "              loss='categorical_crossentropy',\n",
    "              metrics=['accuracy'])\n",
    "\n",
    "# show model construction\n",
    "model.summary()"
   ]
  },
  {
   "cell_type": "code",
   "execution_count": null,
   "metadata": {},
   "outputs": [],
   "source": [
    "from keras.callbacks import CSVLogger\n",
    "\n",
    "#csv_logger = CSVLogger('logs/training_lstm_log.csv')\n",
    "\n",
    "# training setting\n",
    "epochs = 15\n",
    "batch_size = 1024\n",
    "\n",
    "# training!\n",
    "history = model.fit(x_train, y_train, \n",
    "                    epochs=epochs, \n",
    "                    batch_size=batch_size, \n",
    "#                    callbacks=[csv_logger],\n",
    "                    validation_data = (x_test, y_test))\n",
    "print('training finish')"
   ]
  },
  {
   "cell_type": "markdown",
   "metadata": {},
   "source": [
    "#### Comment\n",
    "Then I'll repeat this flow a few time for different sampling(and fit in the same model), after this I'll get a accuracy around 0.35"
   ]
  },
  {
   "cell_type": "markdown",
   "metadata": {},
   "source": [
    "#### Comment\n",
    "I also tried BiLSTM model as below, because the texts are word in 'series', it contains time order.  Indeed it got a little better than dense, like around 0.38~0.4 accuracy."
   ]
  },
  {
   "cell_type": "code",
   "execution_count": null,
   "metadata": {},
   "outputs": [],
   "source": [
    "from keras.models import Model\n",
    "from keras.layers import Input, Dense, LSTM, Dropout, Bidirectional\n",
    "from keras.layers import ReLU, Softmax\n",
    "\n",
    "# input layer\n",
    "model_input = Input(shape=(input_shape_seq, input_shape_vec))  # 20*100\n",
    "X = model_input\n",
    "\n",
    "#Bidirectional LSTM\n",
    "B = Bidirectional(LSTM(1000,return_sequences=False),merge_mode=\"concat\")(X)\n",
    "\n",
    "# 1st hidden layer\n",
    "X_W1 = Dense(units=1024)(B)  # 64\n",
    "H1 = ReLU()(X_W1)\n",
    "D1 = Dropout(0.4)(H1)\n",
    "\n",
    "# 2nd hidden layer\n",
    "H1_W2 = Dense(units=256)(D1)  # 64\n",
    "H2 = ReLU()(H1_W2)\n",
    "D2 = Dropout(0.4)(H2)\n",
    "\n",
    "\n",
    "# output layer\n",
    "H2_W3 = Dense(units=output_shape)(D2)  # 4\n",
    "H3 = Softmax()(H2_W3)\n",
    "\n",
    "model_output = H3\n",
    "\n",
    "# create model\n",
    "model = Model(inputs=[model_input], outputs=[model_output])\n",
    "\n",
    "# loss function & optimizer\n",
    "model.compile(optimizer='adam',\n",
    "              loss='categorical_crossentropy',\n",
    "              metrics=['accuracy'])\n",
    "\n",
    "# show model construction\n",
    "model.summary()"
   ]
  },
  {
   "cell_type": "markdown",
   "metadata": {},
   "source": [
    "### TFIDF"
   ]
  },
  {
   "cell_type": "markdown",
   "metadata": {},
   "source": [
    "#### Comment\n",
    "In tfidf based, we can delete words that are not important by stopword, I use the stopword list in nltk.corpus, but I remove the negative word for opposite meaning."
   ]
  },
  {
   "cell_type": "code",
   "execution_count": null,
   "metadata": {},
   "outputs": [],
   "source": [
    "from nltk.corpus import stopwords\n",
    "stop_list=stopwords.words('english')   \n",
    "stop_list.remove('no')\n",
    "stop_list.remove('nor')\n",
    "stop_list.remove('not')"
   ]
  },
  {
   "cell_type": "code",
   "execution_count": null,
   "metadata": {},
   "outputs": [],
   "source": [
    "from sklearn.feature_extraction.text import TfidfVectorizer\n",
    "\n",
    "# build analyzers (tfidf)\n",
    "tfidf_5000 = TfidfVectorizer(max_features=5000,stop_words=stop_list)\n",
    "\n",
    "# apply analyzer to training data\n",
    "tfidf_5000.fit(train_tweet['content'])\n",
    "\n",
    "train_data_tfidf_features_5000 = tfidf_5000.transform(train_tweet['content'])\n",
    "\n",
    "## check dimension\n",
    "train_data_tfidf_features_5000.shape"
   ]
  },
  {
   "cell_type": "markdown",
   "metadata": {},
   "source": [
    "#### Comment\n",
    "After getting tfidf features, we can try it on decision tree and naive bayes model, but they get accuracy around 0.3 in this 8 label emotion classfication."
   ]
  },
  {
   "cell_type": "code",
   "execution_count": null,
   "metadata": {},
   "outputs": [],
   "source": [
    "#Decision tree\n",
    "y_train_tree=train_tweet['emotion']\n",
    "train_data_tfidf_features_5000, y_train_tree=shuffle(train_data_tfidf_features_5000, np.array(y_train_tree))\n",
    "\n",
    "from sklearn.tree import DecisionTreeClassifier\n",
    "\n",
    "## build DecisionTree model\n",
    "DT_model = DecisionTreeClassifier(random_state=0)\n",
    "\n",
    "## training!\n",
    "DT_model = DT_model.fit(train_data_tfidf_features_5000, y_train_tree)\n",
    "\n",
    "## predict!\n",
    "y_train_pred = DT_model.predict(train_data_tfidf_features_5000)\n",
    "y_test_pred = DT_model.predict(test_data_tfidf_features_5000)"
   ]
  },
  {
   "cell_type": "code",
   "execution_count": null,
   "metadata": {},
   "outputs": [],
   "source": [
    "#Naive Bayes\n",
    "from sklearn.naive_bayes import MultinomialNB\n",
    "\n",
    "## build Naive Bayes model\n",
    "NB_model = MultinomialNB()\n",
    "\n",
    "## training!\n",
    "NB_model = NB_model.fit(train_data_tfidf_features_5000, y_train_tree)\n",
    "\n",
    "## predict!\n",
    "y_train_pred = NB_model.predict(train_data_tfidf_features_5000)\n",
    "y_test_pred = NB_model.predict(test_data_tfidf_features_5000)"
   ]
  },
  {
   "cell_type": "markdown",
   "metadata": {},
   "source": [
    "#### Comment\n",
    "So I try tfidf with dense model, after testing tfidf max_features=1000 and max_features=2000, I choose 2000 for getting more information. When fitting them into model above, first I tried sample each type emotion and repeat, but it doesn't get a good result, only like around 0.35, I think the reason is just like what I consider above, emotion with less data always get same tweet text, emotion with large data have some tweet never been chosen.<br />\n",
    "\n",
    "With this consideration, the second method I try is cutting the whole training data into 7 pieces, then fitting them like\n",
    "k-fold cross-validation: 6 pieces for training, 1 piece for validation. After running, I get accuracy around 0.41"
   ]
  },
  {
   "cell_type": "code",
   "execution_count": null,
   "metadata": {},
   "outputs": [],
   "source": [
    "from keras.models import Model\n",
    "from keras.layers import Input, Dense, LSTM, Dropout\n",
    "from keras.layers import ReLU, Softmax\n",
    "\n",
    "# input layer\n",
    "model_input = Input(shape=(input_shape_seq, ))  # 20*100\n",
    "X = model_input\n",
    "\n",
    "# 1st hidden layer\n",
    "X_W1 = Dense(units=1024)(X)  # 64\n",
    "H1 = ReLU()(X_W1)\n",
    "D1 = Dropout(0.4)(H1)\n",
    "\n",
    "# 2nd hidden layer\n",
    "H1_W2 = Dense(units=256)(D1)  # 64\n",
    "H2 = ReLU()(H1_W2)\n",
    "D2 = Dropout(0.4)(H2)\n",
    "\n",
    "\n",
    "# output layer\n",
    "H2_W3 = Dense(units=output_shape)(D2)  # 4\n",
    "H3 = Softmax()(H2_W3)\n",
    "\n",
    "model_output = H3\n",
    "\n",
    "# create model\n",
    "model = Model(inputs=[model_input], outputs=[model_output])\n",
    "\n",
    "# loss function & optimizer\n",
    "model.compile(optimizer='adam',\n",
    "              loss='categorical_crossentropy',\n",
    "              metrics=['accuracy'])\n",
    "\n",
    "# show model construction\n",
    "model.summary()"
   ]
  },
  {
   "cell_type": "markdown",
   "metadata": {},
   "source": [
    "#### Comment\n",
    "Although trying lots of method or model, the accuracy seems to stuck at 0.4, I think there's some reason: <br />\n",
    "\n",
    "1) data unbalance: in this situation, we will fit anger with same data, but joy will get a very diverse range.\n",
    "\n",
    "2) for word in sentences, maybe there are some word that's important but model only see few times, model can't capture every sentence and every word in this large dataset.\n",
    "\n",
    "I also try seperating tweet into group with or without hashtag, but it seems no help since lots of tweet using hashtag with nonsence or strange word that only known by people who post this tweet."
   ]
  },
  {
   "cell_type": "markdown",
   "metadata": {},
   "source": [
    "### Bert"
   ]
  },
  {
   "cell_type": "markdown",
   "metadata": {},
   "source": [
    "#### Comment\n",
    "So in this case, I try using BERT, the power pre-train model, which can \"learn the sentence's meaning\". By this pretrain model, which might get every word's meaning in dataset, what we need to do is to train and tune the parameter for our emotion classification task."
   ]
  },
  {
   "cell_type": "markdown",
   "metadata": {},
   "source": [
    "I train BERT base on google-research/bert on github, and because BERT is a very huge model and I've no gpu resource, so I train it on google colab.The website:[Code of BERT](https://colab.research.google.com/drive/1JWiuqmkGKAjHgOvEL6oMbDtLVaKAvY45)\n",
    "\n",
    "Sadly, code on the colab but the result isn't, since the colab burst when I try to train a 2-epoch version."
   ]
  },
  {
   "cell_type": "markdown",
   "metadata": {},
   "source": [
    "I've tried BERT with 10,000 data, 600,000 data, and full training dataset with 1 epoch training. Amazingly, it get 0.43 on public score for training only 10,000 data, which meaning it has the power tune the way to classify the emotion in such little data. For  600,000 data, and full training dataset, it got 0.48 and 0.53, unfortunate that I failed training 2-epoch on full dataset, or maybe the model can get a little better tuning.\n",
    "\n",
    "From this experience, we can know that BERT really has power since it contains lots and lots of pretrain data. So we can get the extraction like in a global version, not only in the dataset we have."
   ]
  },
  {
   "cell_type": "markdown",
   "metadata": {},
   "source": [
    "### Ensemble learning"
   ]
  },
  {
   "cell_type": "markdown",
   "metadata": {},
   "source": [
    "#### Comment\n",
    "This method is to look mutiple models and get the majority decision of each data. For me, I choose three BERT that I tried, but accuracy drops since 10,000 data, 600,000 data perform not as well as full dataset version. If I can get model that has similar accuracy, it has the chance to get the answer that \"most model think it's the right answer\" and the accuracy may get little higher."
   ]
  },
  {
   "cell_type": "code",
   "execution_count": null,
   "metadata": {},
   "outputs": [],
   "source": []
  }
 ],
 "metadata": {
  "kernelspec": {
   "display_name": "Python 3",
   "language": "python",
   "name": "python3"
  },
  "language_info": {
   "codemirror_mode": {
    "name": "ipython",
    "version": 3
   },
   "file_extension": ".py",
   "mimetype": "text/x-python",
   "name": "python",
   "nbconvert_exporter": "python",
   "pygments_lexer": "ipython3",
   "version": "3.5.6"
  },
  "varInspector": {
   "cols": {
    "lenName": 16,
    "lenType": 16,
    "lenVar": 40
   },
   "kernels_config": {
    "python": {
     "delete_cmd_postfix": "",
     "delete_cmd_prefix": "del ",
     "library": "var_list.py",
     "varRefreshCmd": "print(var_dic_list())"
    },
    "r": {
     "delete_cmd_postfix": ") ",
     "delete_cmd_prefix": "rm(",
     "library": "var_list.r",
     "varRefreshCmd": "cat(var_dic_list()) "
    }
   },
   "types_to_exclude": [
    "module",
    "function",
    "builtin_function_or_method",
    "instance",
    "_Feature"
   ],
   "window_display": false
  }
 },
 "nbformat": 4,
 "nbformat_minor": 2
}
